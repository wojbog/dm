{
 "cells": [
  {
   "attachments": {},
   "cell_type": "markdown",
   "metadata": {},
   "source": [
    "## Data Mining laboratory - Introduction\n",
    "\n",
    "Welcome to the data mining class. During our meetings, we will be dealing with processing and exploring data with the use of the Python language in the Jupyter Notebook setting. We are also going to use low-code and no-code solutions to the presented problems. Today, we are going to set up our working stations and get familiar with the setup.\n",
    "\n",
    "\n",
    " "
   ]
  },
  {
   "attachments": {},
   "cell_type": "markdown",
   "metadata": {},
   "source": [
    "#### Course assignements\n",
    "\n",
    "This course consists of X notebooks, X homeworks and 3 assignments. In order to get a pass mark, you need to complete all homeworks. You can get a maximum of 4 points for each assignment. Once the assignment is announced you have two weeks to complete it. Each week of delay deducts 1 point from the mark you get. The amount of points you gather during the course will indicate your final grade.\n",
    "\n",
    "| Points| Grade |\n",
    "| --- | --- |\n",
    "| 0| 2.0  |\n",
    "| 6 | 3.0 |\n",
    "| 7.5 | 3.5 |\n",
    "| 9 | 4.0 |\n",
    "| 10.5 | 4.5 |\n",
    "| 11.5 | 5.0 |\n"
   ]
  },
  {
   "attachments": {},
   "cell_type": "markdown",
   "metadata": {},
   "source": [
    "\n",
    "### What is the Jupyter Notebook?\n",
    "\n",
    "It's a computing platform that is very commonly used for code presentation, on-hand code execution, as well as preparing code snippets, which later on might be used in a larger library. In this setting you can easily combine Markdown text and executable Python code. This format is very popular in machine learning, data mining and artificial intelligence field in general. A single file in this setting is very often referred to as just a *Notebook*. The file you are viewing right now is a Notebook. Notebook files are usually named with the extension *.ipynb*, which stems from the original open-source project name *IPython Notebook*. The Notebook uses an interactive kernel,  which allows us to maintain the current execution of the code. During the execution, all variables, defined functions, and classes, etc. are stored in the memory, which gives us flexible access to everything we coded (this is nothing new compared to a standard Python interpreter). The Notebooks are delivered to us in several different settings, here are some:\n",
    "  \n",
    "  - **Advanced, modern IDE, which supports Jupyter Notebooks.** In this setting, the IDE is responsible for setting up the interactive kernel with the use of the Python interpreter. A good example of an IDE, which supports the Jupyter Notebooks is Visual Studio Code. Prior to using this option, we need to set up the Python interpreter on the machine.\n",
    "  \n",
    "      **Pros**:\n",
    "\n",
    "         * full customization\n",
    "         * full access to data on hand\n",
    "         * usually supports version control\n",
    "         * easy setup process\n",
    "      **Cons**:\n",
    "      \n",
    "         * you need to set up an IDE on every machine you work on\n",
    "         * requires installation of Python interpreter on the machine\n",
    "\n",
    "\n",
    "  - **A stand-alone Jupyter Notebook server.** This is the original method of delivering the Notebooks. In order to use this setting, one must download and run the Jupyter Server as a separate process on a machine on hand. The Jupyter Notebook server often comes in bundle with complete Python distributions (e.g. WinPython), in that case, the server executable file is usually within the Python folder. The Jupyter Notebook server allows us to access, view and run the notebooks via the web application accessible through a browser. The server allows us to set up the connection details (e.g. the IP address, port, authentication method, password). If you want to use the server in a public network. you need to be very careful while using this option, as it allows an easy access to the Remote Code Execution, which is a substantial vulnerability. Whoever has the access to the *Notebooks* via the server, essentially has the same privileges, as the user, who started the server. Nothing stops us from using the server on the *localhost*. Running the server in a default setting is as simple as running the command:\n",
    "\n",
    "                 jupyter notebook\n",
    "  \n",
    "      Once the server is running, you have access to files and directories, starting with the directory on which, the server was started. Opening the notebook file, switches the application view, so that you can execute the code and read the markdown.\n",
    "      \n",
    "      **Pros**:\n",
    "\n",
    "         * full customization\n",
    "         * access to data on the server machine\n",
    "         * ability to use it in a network setting with many users and a single server\n",
    "      **Cons**:\n",
    "      \n",
    "         * fairly hard setup process (if you want to use it with several users in a network setting)\n",
    "         * if you do not have a server machine, you can only run it in an offline setting\n",
    "         * no native support for version control\n",
    "         * requires installation of Python interpreter on the machine\n",
    "          \n",
    "\n",
    "  - **External Notebook server paired up with virtual machine.** In this setting, we are using a virtual machine with a temporary python environment as the working space. Although we are not forced to maintain the Notebook server, this option comes with several limitations. We are forced to follow the rules of the virtual machine provider. Usually we not permitted to use such a notebook in order to host data, download torrents, use it as an SSH server, connect to the remote proxy, etc. (nothing really related to Data Mining). Such a notebook does not have direct access to our files, we usually need to upload the data on the virtual machine (or a cloud drive) in order to process the data. Other than that, we can consume the Nootebook files as normal. A good example of this setting is Google Colaboratory.\n",
    "\n",
    "      **Pros**:\n",
    "\n",
    "         * access to notebooks on any machine with no setup\n",
    "         * limited customization\n",
    "         * ability to modify and create new Notebooks on hand on any machine\n",
    "         * no need to install any software on the machine (except for a browser)\n",
    "      **Cons**:\n",
    "      \n",
    "         * no support for version control\n",
    "         * restrictions of use\n",
    "         * requires an account (e.g. Google Account)\n",
    "         * limited access to data on hand\n",
    "         * requires uploading the data to an external server (usually limitted space)\n",
    "         * limited customization"
   ]
  },
  {
   "attachments": {},
   "cell_type": "markdown",
   "metadata": {},
   "source": [
    "In this course I propose one of the two options - those options are not obligatory, you can use any setup you want:\n",
    " - Visual Studio Code\n",
    " - Google Colaboratory\n"
   ]
  },
  {
   "attachments": {},
   "cell_type": "markdown",
   "metadata": {},
   "source": [
    "#### Setting up Visual Studio Code.\n",
    "\n",
    "In the class we will be using the Google Colaboratory service. However, if you want to make your setup at home, or with a personal laptop, you can use the Visual Studio Code setup. Process of setting it up comprised of 2 (pretty obvious) steps:\n",
    " - installing Python interpreter - \n",
    "    - if you are using a Linux machine, it is very likely you already have the Python interpreter installed. If this is not the case, use your default package manager to install python (i.e. `apt install python3` on Debianoids).\n",
    "    - if you are using a Windows machine I suggest using a [WinPython](https://winpython.github.io/) package. It comes with a pre-installed set of libraries.\n",
    "    - you can also use the [default Python installer](https://www.python.org/downloads/).\n",
    " - installing Visual Studio Code - VSC is an multi-platform IDE. You can find it [here](https://code.visualstudio.com/).\n",
    " \n",
    "Once you have everything installed you need to create a space on the computer for this class (we are going to use toy data sets, so you do not need gigabytes of free space). You start by creating a dedicated directory on your hard drive. Download this notebook (.ipynb version, not the html) and paste it into the newly created directory. Then, you open the Visual Studio Code application and from the File menu you choose the Open Directory option. In the file explorer you should be able to see this notebook. Upon the first execution of the code block you will need to choose a Python interpreter, which you have already installed."
   ]
  },
  {
   "attachments": {},
   "cell_type": "markdown",
   "metadata": {},
   "source": [
    "#### Using Google Colaboratory\n",
    "\n",
    "Using Google Colab is much easier. You just need to download this notebook, log in to your Google account on the [Colaboratory website](https://colab.research.google.com/). From the File menu use the \"Send notebook\" option. Choose the downloaded file. That's it. "
   ]
  },
  {
   "attachments": {},
   "cell_type": "markdown",
   "metadata": {},
   "source": [
    "Once you have everything set up, switch from the HTML version of the notebook to the interactive one (either in Colab or in VSC). Starting the next week you will be downloading and opening the notebook at the beginning of each class."
   ]
  },
  {
   "attachments": {},
   "cell_type": "markdown",
   "metadata": {},
   "source": [
    "### How is a Notebook organized?\n",
    "\n",
    "Each Notebook consists of list of cells. There are two types of cells:\n",
    "\n",
    " - **Code cell** - the code cell is filled with the code in the programming language the Notebook is set up for (usually it's Python). You can execute the code and immediately see the result. Everything that *happened* in the execution is available in the next cell you run. Once the code cell is executed, it is annotated with a number, which refers to the order of execution. The first cell you run will be annotated with number [1], second with number [2], etc. The enumeration helps us to keep up with the current status of execution.\n",
    " - **Markdown cell** - the markdown cell allows us to insert a formatted text into the notebook. The text is formatted with use of the [Markdown](https://www.markdownguide.org/) language. The Markdown is a lightweight markup language, which is used to add simple formatting to plaintext documents. It was created in 2004 by John Gruber. It is one of the most popular markup languages. This is the same language you can use for example in the Discord app.\n",
    " \n",
    "\n",
    " Each of the code cells can be executed at any point. In most of the IDEs we are allowed to run all cells at once, restart the interpreter and clear all variables and definitions, add a new cell, and reorder existing the cells. \n",
    "\n",
    "\n",
    " #### Exercise 1. \n",
    " \n",
    " Execute the cells in the following order:\n",
    "   1. Run cell 2\n",
    "   2. Run cell 1\n",
    "   3. Run cell 3\n",
    "   3. Run cell 2\n",
    "   4. Run cell 3\n",
    "   5. Restart the kernel\n",
    "   6. Run cell 1\n",
    "   7. Run cell 2\n",
    "   8. Run cell 3.\n",
    "   9. Run cell 3.\n",
    "\n",
    "Observe the results and make notes. Can we execute the cell 2 immediately, why? How does the annotation change when we run a single cell multiple times? What is the value of the _ expression? You can restart this exercise by restarting the kernel. "
   ]
  },
  {
   "attachments": {},
   "cell_type": "markdown",
   "metadata": {},
   "source": [
    "Cell 1"
   ]
  },
  {
   "cell_type": "code",
   "execution_count": null,
   "metadata": {},
   "outputs": [],
   "source": [
    "a = 5"
   ]
  },
  {
   "attachments": {},
   "cell_type": "markdown",
   "metadata": {},
   "source": [
    "Cell 2"
   ]
  },
  {
   "cell_type": "code",
   "execution_count": null,
   "metadata": {},
   "outputs": [],
   "source": [
    "b = a + 2\n",
    "b"
   ]
  },
  {
   "attachments": {},
   "cell_type": "markdown",
   "metadata": {},
   "source": [
    "Cell 3"
   ]
  },
  {
   "cell_type": "code",
   "execution_count": null,
   "metadata": {},
   "outputs": [],
   "source": [
    "c = a + _\n",
    "c"
   ]
  },
  {
   "attachments": {},
   "cell_type": "markdown",
   "metadata": {},
   "source": [
    "#### Exercise 2.\n",
    "\n",
    "Create a new markdown cell directly below this one and use the Markdown language to answer the questions asked in Exercise 1. Use the following features:\n",
    "  - Level 4 heading\n",
    "  - Bullet list\n",
    "  - Bold text\n",
    "\n"
   ]
  },
  {
   "attachments": {},
   "cell_type": "markdown",
   "metadata": {},
   "source": [
    "### Cell magic\n",
    "\n",
    "In order to use a package in your Python script you need to import it like this:"
   ]
  },
  {
   "cell_type": "code",
   "execution_count": 2,
   "metadata": {},
   "outputs": [],
   "source": [
    "import numpy as np"
   ]
  },
  {
   "attachments": {},
   "cell_type": "markdown",
   "metadata": {},
   "source": [
    "But what happens when the package is not installed on the machine? Well. Probably you need open the terminal, type an apropriate command and download the package. This even is more complicated when you have no direct access to the machine. In this case we can use something called [cell magic](https://ipython.readthedocs.io/en/stable/interactive/magics.html). Ususally the *Code cell* is interpreted as a python script. However, we can add a special decorator to change its behaviour. When we add `%%bash` at the beginning of the cell it is going to be executed as if it was a bash terminal. So, in order to install the numpy package (it should be already installed), you can create a cell similar to this one:"
   ]
  },
  {
   "cell_type": "code",
   "execution_count": 3,
   "metadata": {},
   "outputs": [
    {
     "name": "stdout",
     "output_type": "stream",
     "text": [
      "Defaulting to user installation because normal site-packages is not writeable\n",
      "Requirement already satisfied: numpy in /home/jd/.local/lib/python3.7/site-packages (1.18.5)\n"
     ]
    },
    {
     "name": "stderr",
     "output_type": "stream",
     "text": [
      "WARNING: Error parsing requirements for tfp-nightly: [Errno 2] Nie ma takiego pliku ani katalogu: '/usr/lib/python3.7/site-packages/tfp_nightly-0.7.0.dist-info/METADATA'\n",
      "WARNING: You are using pip version 22.0.4; however, version 23.0.1 is available.\n",
      "You should consider upgrading via the '/usr/bin/python3 -m pip install --upgrade pip' command.\n"
     ]
    }
   ],
   "source": [
    "%%bash\n",
    "\n",
    "pip install numpy"
   ]
  },
  {
   "attachments": {},
   "cell_type": "markdown",
   "metadata": {},
   "source": [
    "`%%bash` is not the only magical command out there. Sometimes we will compare time of executions of different code variants. In this case we can use the `%%time` or `%%timeit` magic."
   ]
  },
  {
   "cell_type": "code",
   "execution_count": null,
   "metadata": {},
   "outputs": [],
   "source": [
    "import numpy as np"
   ]
  },
  {
   "cell_type": "code",
   "execution_count": 10,
   "metadata": {},
   "outputs": [
    {
     "name": "stdout",
     "output_type": "stream",
     "text": [
      "CPU times: user 536 µs, sys: 0 ns, total: 536 µs\n",
      "Wall time: 516 µs\n"
     ]
    }
   ],
   "source": [
    "%%time\n",
    "a = np.zeros((10000,10000))"
   ]
  },
  {
   "cell_type": "code",
   "execution_count": 11,
   "metadata": {},
   "outputs": [
    {
     "name": "stdout",
     "output_type": "stream",
     "text": [
      "CPU times: user 3.44 s, sys: 198 ms, total: 3.64 s\n",
      "Wall time: 3.65 s\n"
     ]
    }
   ],
   "source": [
    "%%time\n",
    "a = [[0 for _ in range(10000)] for _ in range(10000)]\n"
   ]
  },
  {
   "cell_type": "code",
   "execution_count": 13,
   "metadata": {},
   "outputs": [
    {
     "name": "stdout",
     "output_type": "stream",
     "text": [
      "751 µs ± 11.3 µs per loop (mean ± std. dev. of 7 runs, 1000 loops each)\n"
     ]
    }
   ],
   "source": [
    "%%timeit\n",
    "a = np.zeros((1000,1000))"
   ]
  },
  {
   "cell_type": "code",
   "execution_count": 15,
   "metadata": {},
   "outputs": [
    {
     "name": "stdout",
     "output_type": "stream",
     "text": [
      "26.9 ms ± 441 µs per loop (mean ± std. dev. of 7 runs, 10 loops each)\n"
     ]
    }
   ],
   "source": [
    "%%timeit\n",
    "a = [[0 for _ in range(1000)] for _ in range(1000)]\n"
   ]
  },
  {
   "attachments": {},
   "cell_type": "markdown",
   "metadata": {},
   "source": [
    "A full list of cell magics can be found [here](https://ipython.readthedocs.io/en/stable/interactive/magics.html)."
   ]
  },
  {
   "attachments": {},
   "cell_type": "markdown",
   "metadata": {},
   "source": [
    "### Toy data sets\n",
    "\n",
    "During the course we will be using different data sets in order to get familiar with data mining techiques. This section illustrates several techniques of loading up the data sets.\n",
    "\n",
    "#### Scikit-learn package\n",
    "\n",
    "Among various packages we are going to use the scikit-learn package (sklearn). Today we will get familiar with the toy data sets, which the package provides. The package provides 7 different data sets (including boston data set, which is deprecated), among them:\n",
    "\n",
    "- Iris data set - The famous Iris database, first used by Sir R.A. Fisher.\n",
    "- Digits data set - The data set contains images of hand-written digits: 10 classes where each class refers to a digit.\n",
    "- Wine data set - The data is the results of a chemical analysis of wines grown in the same region in Italy by three different cultivators.\n",
    "\n",
    "#### Loading the data set\n",
    "\n",
    "The datasets are loaded into a dictionary-like structure, [sklearn.utils.Bunch](https://scikit-learn.org/stable/modules/generated/sklearn.utils.Bunch.html). We use a set of dedicated *load* functions to load the data sets."
   ]
  },
  {
   "cell_type": "code",
   "execution_count": 2,
   "metadata": {},
   "outputs": [],
   "source": [
    "from sklearn.datasets import load_iris, load_breast_cancer, load_digits, load_diabetes, load_linnerud, load_wine\n",
    "\n",
    "iris_data_set = load_iris()\n",
    "breast_cancer_data_set = load_breast_cancer()\n",
    "digits_data_set = load_digits()\n",
    "diabetes_data_set = load_diabetes()\n",
    "linnerud_data_set = load_linnerud()\n",
    "wine_data_set = load_wine()\n"
   ]
  },
  {
   "attachments": {},
   "cell_type": "markdown",
   "metadata": {},
   "source": [
    "We can obtain a description of each of the data sets by using the DESCR field."
   ]
  },
  {
   "cell_type": "code",
   "execution_count": 2,
   "metadata": {},
   "outputs": [
    {
     "name": "stdout",
     "output_type": "stream",
     "text": [
      ".. _iris_dataset:\n",
      "\n",
      "Iris plants dataset\n",
      "--------------------\n",
      "\n",
      "**Data Set Characteristics:**\n",
      "\n",
      "    :Number of Instances: 150 (50 in each of three classes)\n",
      "    :Number of Attributes: 4 numeric, predictive attributes and the class\n",
      "    :Attribute Information:\n",
      "        - sepal length in cm\n",
      "        - sepal width in cm\n",
      "        - petal length in cm\n",
      "        - petal width in cm\n",
      "        - class:\n",
      "                - Iris-Setosa\n",
      "                - Iris-Versicolour\n",
      "                - Iris-Virginica\n",
      "                \n",
      "    :Summary Statistics:\n",
      "\n",
      "    ============== ==== ==== ======= ===== ====================\n",
      "                    Min  Max   Mean    SD   Class Correlation\n",
      "    ============== ==== ==== ======= ===== ====================\n",
      "    sepal length:   4.3  7.9   5.84   0.83    0.7826\n",
      "    sepal width:    2.0  4.4   3.05   0.43   -0.4194\n",
      "    petal length:   1.0  6.9   3.76   1.76    0.9490  (high!)\n",
      "    petal width:    0.1  2.5   1.20   0.76    0.9565  (high!)\n",
      "    ============== ==== ==== ======= ===== ====================\n",
      "\n",
      "    :Missing Attribute Values: None\n",
      "    :Class Distribution: 33.3% for each of 3 classes.\n",
      "    :Creator: R.A. Fisher\n",
      "    :Donor: Michael Marshall (MARSHALL%PLU@io.arc.nasa.gov)\n",
      "    :Date: July, 1988\n",
      "\n",
      "The famous Iris database, first used by Sir R.A. Fisher. The dataset is taken\n",
      "from Fisher's paper. Note that it's the same as in R, but not as in the UCI\n",
      "Machine Learning Repository, which has two wrong data points.\n",
      "\n",
      "This is perhaps the best known database to be found in the\n",
      "pattern recognition literature.  Fisher's paper is a classic in the field and\n",
      "is referenced frequently to this day.  (See Duda & Hart, for example.)  The\n",
      "data set contains 3 classes of 50 instances each, where each class refers to a\n",
      "type of iris plant.  One class is linearly separable from the other 2; the\n",
      "latter are NOT linearly separable from each other.\n",
      "\n",
      ".. topic:: References\n",
      "\n",
      "   - Fisher, R.A. \"The use of multiple measurements in taxonomic problems\"\n",
      "     Annual Eugenics, 7, Part II, 179-188 (1936); also in \"Contributions to\n",
      "     Mathematical Statistics\" (John Wiley, NY, 1950).\n",
      "   - Duda, R.O., & Hart, P.E. (1973) Pattern Classification and Scene Analysis.\n",
      "     (Q327.D83) John Wiley & Sons.  ISBN 0-471-22361-1.  See page 218.\n",
      "   - Dasarathy, B.V. (1980) \"Nosing Around the Neighborhood: A New System\n",
      "     Structure and Classification Rule for Recognition in Partially Exposed\n",
      "     Environments\".  IEEE Transactions on Pattern Analysis and Machine\n",
      "     Intelligence, Vol. PAMI-2, No. 1, 67-71.\n",
      "   - Gates, G.W. (1972) \"The Reduced Nearest Neighbor Rule\".  IEEE Transactions\n",
      "     on Information Theory, May 1972, 431-433.\n",
      "   - See also: 1988 MLC Proceedings, 54-64.  Cheeseman et al\"s AUTOCLASS II\n",
      "     conceptual clustering system finds 3 classes in the data.\n",
      "   - Many, many more ...\n"
     ]
    }
   ],
   "source": [
    "print(iris_data_set.DESCR)"
   ]
  },
  {
   "attachments": {},
   "cell_type": "markdown",
   "metadata": {},
   "source": [
    "Each data set consists of a list of entries. Each entry is comprised of a set of features. Each feature has a name, which corresponds to its real source. We can obtain the names of features by using the feature_names field."
   ]
  },
  {
   "cell_type": "code",
   "execution_count": 3,
   "metadata": {},
   "outputs": [
    {
     "data": {
      "text/plain": [
       "['sepal length (cm)',\n",
       " 'sepal width (cm)',\n",
       " 'petal length (cm)',\n",
       " 'petal width (cm)']"
      ]
     },
     "execution_count": 3,
     "metadata": {},
     "output_type": "execute_result"
    }
   ],
   "source": [
    "iris_data_set.feature_names"
   ]
  },
  {
   "attachments": {},
   "cell_type": "markdown",
   "metadata": {},
   "source": [
    "Data in each of the data sets is organized as a numpy array (more on that next week). We can get to it by using the data field."
   ]
  },
  {
   "cell_type": "code",
   "execution_count": 4,
   "metadata": {},
   "outputs": [
    {
     "name": "stdout",
     "output_type": "stream",
     "text": [
      "<class 'numpy.ndarray'>\n"
     ]
    },
    {
     "data": {
      "text/plain": [
       "array([[5.1, 3.5, 1.4, 0.2],\n",
       "       [4.9, 3. , 1.4, 0.2],\n",
       "       [4.7, 3.2, 1.3, 0.2],\n",
       "       [4.6, 3.1, 1.5, 0.2],\n",
       "       [5. , 3.6, 1.4, 0.2]])"
      ]
     },
     "execution_count": 4,
     "metadata": {},
     "output_type": "execute_result"
    }
   ],
   "source": [
    "print(type(iris_data_set.data))\n",
    "iris_data_set.data[:5]"
   ]
  },
  {
   "attachments": {},
   "cell_type": "markdown",
   "metadata": {},
   "source": [
    "Each entry corresponds to a certain class, we can obtain names of the classes with use of the target_names field, and the list of classes corresponding to each entry with the target field."
   ]
  },
  {
   "cell_type": "code",
   "execution_count": 5,
   "metadata": {},
   "outputs": [
    {
     "name": "stdout",
     "output_type": "stream",
     "text": [
      "['setosa' 'versicolor' 'virginica']\n",
      "[0 0 0 0 0 0 0 0 0 0 0 0 0 0 0 0 0 0 0 0 0 0 0 0 0 0 0 0 0 0 0 0 0 0 0 0 0\n",
      " 0 0 0 0 0 0 0 0 0 0 0 0 0 1 1 1 1 1 1 1 1 1 1 1 1 1 1 1 1 1 1 1 1 1 1 1 1\n",
      " 1 1 1 1 1 1 1 1 1 1 1 1 1 1 1 1 1 1 1 1 1 1 1 1 1 1 2 2 2 2 2 2 2 2 2 2 2\n",
      " 2 2 2 2 2 2 2 2 2 2 2 2 2 2 2 2 2 2 2 2 2 2 2 2 2 2 2 2 2 2 2 2 2 2 2 2 2\n",
      " 2 2]\n"
     ]
    }
   ],
   "source": [
    "print(iris_data_set.target_names)\n",
    "print(iris_data_set.target)\n",
    "\n"
   ]
  },
  {
   "attachments": {},
   "cell_type": "markdown",
   "metadata": {},
   "source": [
    "### Homework 1.\n",
    "\n",
    "Write a function, which processes a sci-kit learn Bunch object. The function is expected to prepare a the data set description. The description has the following format:\n",
    "\n",
    "  `Dataset data_set_name.`\n",
    "\n",
    "  `Number of samples: NNN`\n",
    "\n",
    "  `Number of classes: NNN`\n",
    "\n",
    "  `  Number of samples in class target_name1: NNN`\n",
    "\n",
    "  `  Number of samples in class target_name2: NNN`\n",
    "\n",
    "  `  ...`\n",
    "\n",
    "  `Number of features: NNN`\n",
    "\n",
    "  `  Average value of feature feature_name1: NNN`\n",
    "\n",
    "  `  Standard deviation of feature feature_name1: NNN`\n",
    "\n",
    "  `  Average value of feature feature_name2: NNN`\n",
    "\n",
    "  `  Standard deviation of feature feature_name2: NNN`\n",
    "\n",
    "  `  Average value of feature feature_name3: NNN`\n",
    "\n",
    "  `  Standard deviation of feature feature_name3: NNN`\n",
    "  \n",
    "  `  ...`\n",
    "    "
   ]
  },
  {
   "cell_type": "code",
   "execution_count": 16,
   "metadata": {},
   "outputs": [
    {
     "name": "stdout",
     "output_type": "stream",
     "text": [
      "Dataset Iris\n",
      "Number of samples: 150\n",
      "Numer of classes: 3\n",
      "Number of samples in class setosa: 50\n",
      "Number of samples in class versicolor: 50\n",
      "Number of samples in class virginica: 50\n",
      "Number of features: 4\n",
      "Average value of feature sepal length (cm): 5.843333333333334\n",
      "Standard deviation of feature sepal length (cm): 0.8253012917851409\n",
      "Average value of feature sepal width (cm): 3.0573333333333337\n",
      "Standard deviation of feature sepal width (cm): 0.4344109677354946\n",
      "Average value of feature petal length (cm): 3.7580000000000005\n",
      "Standard deviation of feature petal length (cm): 1.759404065775303\n",
      "Average value of feature petal width (cm): 1.1993333333333336\n",
      "Standard deviation of feature petal width (cm): 0.7596926279021594\n",
      "None\n",
      "Dataset BC\n",
      "Number of samples: 569\n",
      "Numer of classes: 2\n",
      "Number of samples in class malignant: 212\n",
      "Number of samples in class benign: 357\n",
      "Number of features: 30\n",
      "Average value of feature mean radius: 14.127291739894552\n",
      "Standard deviation of feature mean radius: 3.520950760711062\n",
      "Average value of feature mean texture: 19.289648506151142\n",
      "Standard deviation of feature mean texture: 4.297254637090421\n",
      "Average value of feature mean perimeter: 91.96903339191564\n",
      "Standard deviation of feature mean perimeter: 24.27761929305318\n",
      "Average value of feature mean area: 654.8891036906855\n",
      "Standard deviation of feature mean area: 351.60475406323\n",
      "Average value of feature mean smoothness: 0.0963602811950791\n",
      "Standard deviation of feature mean smoothness: 0.014051764066591203\n",
      "Average value of feature mean compactness: 0.10434098418277679\n",
      "Standard deviation of feature mean compactness: 0.05276632912535515\n",
      "Average value of feature mean concavity: 0.0887993158172232\n",
      "Standard deviation of feature mean concavity: 0.07964972534603185\n",
      "Average value of feature mean concave points: 0.04891914586994728\n",
      "Standard deviation of feature mean concave points: 0.03876873246147477\n",
      "Average value of feature mean symmetry: 0.18116186291739894\n",
      "Standard deviation of feature mean symmetry: 0.027390180864268532\n",
      "Average value of feature mean fractal dimension: 0.06279760984182776\n",
      "Standard deviation of feature mean fractal dimension: 0.007054155881537345\n",
      "Average value of feature radius error: 0.40517205623901575\n",
      "Standard deviation of feature radius error: 0.27706894152536526\n",
      "Average value of feature texture error: 1.2168534270650264\n",
      "Standard deviation of feature texture error: 0.551163426903576\n",
      "Average value of feature perimeter error: 2.8660592267135327\n",
      "Standard deviation of feature perimeter error: 2.0200770991455244\n",
      "Average value of feature area error: 40.337079086116\n",
      "Standard deviation of feature area error: 45.45101341563996\n",
      "Average value of feature smoothness error: 0.007040978910369069\n",
      "Standard deviation of feature smoothness error: 0.0029998783671144756\n",
      "Average value of feature compactness error: 0.025478138840070295\n",
      "Standard deviation of feature compactness error: 0.01789243586828196\n",
      "Average value of feature concavity error: 0.03189371634446397\n",
      "Standard deviation of feature concavity error: 0.030159523121970472\n",
      "Average value of feature concave points error: 0.011796137082601054\n",
      "Standard deviation of feature concave points error: 0.006164860746471701\n",
      "Average value of feature symmetry error: 0.02054229876977153\n",
      "Standard deviation of feature symmetry error: 0.008259104387588135\n",
      "Average value of feature fractal dimension error: 0.0037949038664323374\n",
      "Standard deviation of feature fractal dimension error: 0.0026437447504047374\n",
      "Average value of feature worst radius: 16.269189806678387\n",
      "Standard deviation of feature worst radius: 4.828992576060772\n",
      "Average value of feature worst texture: 25.677223198594024\n",
      "Standard deviation of feature worst texture: 6.1408543185890005\n",
      "Average value of feature worst perimeter: 107.26121265377857\n",
      "Standard deviation of feature worst perimeter: 33.57300156682593\n",
      "Average value of feature worst area: 880.5831282952548\n",
      "Standard deviation of feature worst area: 568.8564589532671\n",
      "Average value of feature worst smoothness: 0.13236859402460457\n",
      "Standard deviation of feature worst smoothness: 0.022812356935544644\n",
      "Average value of feature worst compactness: 0.25426504393673116\n",
      "Standard deviation of feature worst compactness: 0.15719817109455372\n",
      "Average value of feature worst concavity: 0.27218848330404216\n",
      "Standard deviation of feature worst concavity: 0.20844087461170602\n",
      "Average value of feature worst concave points: 0.11460622319859401\n",
      "Standard deviation of feature worst concave points: 0.06567455451119314\n",
      "Average value of feature worst symmetry: 0.2900755711775044\n",
      "Standard deviation of feature worst symmetry: 0.06181307854455481\n",
      "Average value of feature worst fractal dimension: 0.0839458172231986\n",
      "Standard deviation of feature worst fractal dimension: 0.01804538930859499\n",
      "None\n",
      "Dataset Digits\n",
      "Number of samples: 1797\n",
      "Numer of classes: 10\n",
      "Number of samples in class 0: 178\n",
      "Number of samples in class 1: 182\n",
      "Number of samples in class 2: 177\n",
      "Number of samples in class 3: 183\n",
      "Number of samples in class 4: 181\n",
      "Number of samples in class 5: 182\n",
      "Number of samples in class 6: 181\n",
      "Number of samples in class 7: 179\n",
      "Number of samples in class 8: 174\n",
      "Number of samples in class 9: 180\n",
      "Number of features: 64\n",
      "Average value of feature pixel_0_0: 0.0\n",
      "Standard deviation of feature pixel_0_0: 0.0\n",
      "Average value of feature pixel_0_1: 0.3038397328881469\n",
      "Standard deviation of feature pixel_0_1: 0.9069396416225868\n",
      "Average value of feature pixel_0_2: 5.204785754034502\n",
      "Standard deviation of feature pixel_0_2: 4.753503165476308\n",
      "Average value of feature pixel_0_3: 11.835837506956038\n",
      "Standard deviation of feature pixel_0_3: 4.247659479558838\n",
      "Average value of feature pixel_0_4: 11.848080133555927\n",
      "Standard deviation of feature pixel_0_4: 4.28619491163344\n",
      "Average value of feature pixel_0_5: 5.781858653311074\n",
      "Standard deviation of feature pixel_0_5: 5.664840875402161\n",
      "Average value of feature pixel_0_6: 1.3622704507512522\n",
      "Standard deviation of feature pixel_0_6: 3.3248496885753926\n",
      "Average value of feature pixel_0_7: 0.1296605453533667\n",
      "Standard deviation of feature pixel_0_7: 1.0370941738844648\n",
      "Average value of feature pixel_1_0: 0.005564830272676683\n",
      "Standard deviation of feature pixel_1_0: 0.09419533481186314\n",
      "Average value of feature pixel_1_1: 1.9938786867000557\n",
      "Standard deviation of feature pixel_1_1: 3.195270979244702\n",
      "Average value of feature pixel_1_2: 10.382303839732888\n",
      "Standard deviation of feature pixel_1_2: 5.419946941963783\n",
      "Average value of feature pixel_1_3: 11.979410127991097\n",
      "Standard deviation of feature pixel_1_3: 3.976435750390223\n",
      "Average value of feature pixel_1_4: 10.279354479688369\n",
      "Standard deviation of feature pixel_1_4: 4.781349644682542\n",
      "Average value of feature pixel_1_5: 8.175848636616584\n",
      "Standard deviation of feature pixel_1_5: 6.051275606580334\n",
      "Average value of feature pixel_1_6: 1.8464106844741235\n",
      "Standard deviation of feature pixel_1_6: 3.5853229337375834\n",
      "Average value of feature pixel_1_7: 0.10795770728992765\n",
      "Standard deviation of feature pixel_1_7: 0.8276846522533949\n",
      "Average value of feature pixel_2_0: 0.0027824151363383415\n",
      "Standard deviation of feature pixel_2_0: 0.06235093709706977\n",
      "Average value of feature pixel_2_1: 2.6015581524763496\n",
      "Standard deviation of feature pixel_2_1: 3.5753060535118997\n",
      "Average value of feature pixel_2_2: 9.903171953255425\n",
      "Standard deviation of feature pixel_2_2: 5.689183320635447\n",
      "Average value of feature pixel_2_3: 6.9927657206455205\n",
      "Standard deviation of feature pixel_2_3: 5.801046954917701\n",
      "Average value of feature pixel_2_4: 7.09794101279911\n",
      "Standard deviation of feature pixel_2_4: 6.174009933121541\n",
      "Average value of feature pixel_2_5: 7.806343906510851\n",
      "Standard deviation of feature pixel_2_5: 6.195597180109272\n",
      "Average value of feature pixel_2_6: 1.788536449638286\n",
      "Standard deviation of feature pixel_2_6: 3.2589625446575097\n",
      "Average value of feature pixel_2_7: 0.05008347245409015\n",
      "Standard deviation of feature pixel_2_7: 0.43847543298413466\n",
      "Average value of feature pixel_3_0: 0.0011129660545353367\n",
      "Standard deviation of feature pixel_3_0: 0.03334257580177016\n",
      "Average value of feature pixel_3_1: 2.4696716750139123\n",
      "Standard deviation of feature pixel_3_1: 3.1456568451376414\n",
      "Average value of feature pixel_3_2: 9.091263216471898\n",
      "Standard deviation of feature pixel_3_2: 6.190314694052891\n",
      "Average value of feature pixel_3_3: 8.821368948247079\n",
      "Standard deviation of feature pixel_3_3: 5.8812993877890305\n",
      "Average value of feature pixel_3_4: 9.927100723427936\n",
      "Standard deviation of feature pixel_3_4: 6.150380825954414\n",
      "Average value of feature pixel_3_5: 7.55147468002226\n",
      "Standard deviation of feature pixel_3_5: 5.870921361772325\n",
      "Average value of feature pixel_3_6: 2.3177518085698385\n",
      "Standard deviation of feature pixel_3_6: 3.6854300896415455\n",
      "Average value of feature pixel_3_7: 0.0022259321090706734\n",
      "Standard deviation of feature pixel_3_7: 0.04712724620977213\n",
      "Average value of feature pixel_4_0: 0.0\n",
      "Standard deviation of feature pixel_4_0: 0.0\n",
      "Average value of feature pixel_4_1: 2.3394546466332775\n",
      "Standard deviation of feature pixel_4_1: 3.4794037977405856\n",
      "Average value of feature pixel_4_2: 7.6672231496939345\n",
      "Standard deviation of feature pixel_4_2: 6.322927314015063\n",
      "Average value of feature pixel_4_3: 9.07178631051753\n",
      "Standard deviation of feature pixel_4_3: 6.266646815255113\n",
      "Average value of feature pixel_4_4: 10.301613800779077\n",
      "Standard deviation of feature pixel_4_4: 5.931839018869794\n",
      "Average value of feature pixel_4_5: 8.744017807456872\n",
      "Standard deviation of feature pixel_4_5: 5.869013932180817\n",
      "Average value of feature pixel_4_6: 2.90929326655537\n",
      "Standard deviation of feature pixel_4_6: 3.5362983644873442\n",
      "Average value of feature pixel_4_7: 0.0\n",
      "Standard deviation of feature pixel_4_7: 0.0\n",
      "Average value of feature pixel_5_0: 0.008903728436282694\n",
      "Standard deviation of feature pixel_5_0: 0.1451450262878626\n",
      "Average value of feature pixel_5_1: 1.5837506956037841\n",
      "Standard deviation of feature pixel_5_1: 2.980986447555122\n",
      "Average value of feature pixel_5_2: 6.881469115191987\n",
      "Standard deviation of feature pixel_5_2: 6.53613528840761\n",
      "Average value of feature pixel_5_3: 7.228158041179744\n",
      "Standard deviation of feature pixel_5_3: 6.439585043986941\n",
      "Average value of feature pixel_5_4: 7.672231496939343\n",
      "Standard deviation of feature pixel_5_4: 6.257769543654501\n",
      "Average value of feature pixel_5_5: 8.23650528658876\n",
      "Standard deviation of feature pixel_5_5: 5.693941622793823\n",
      "Average value of feature pixel_5_6: 3.456316082359488\n",
      "Standard deviation of feature pixel_5_6: 4.329746009614352\n",
      "Average value of feature pixel_5_7: 0.027267668336115748\n",
      "Standard deviation of feature pixel_5_7: 0.30727035640667144\n",
      "Average value of feature pixel_6_0: 0.007234279354479688\n",
      "Standard deviation of feature pixel_6_0: 0.2041663347550141\n",
      "Average value of feature pixel_6_1: 0.7045075125208681\n",
      "Standard deviation of feature pixel_6_1: 1.7456669448787105\n",
      "Average value of feature pixel_6_2: 7.506956037840846\n",
      "Standard deviation of feature pixel_6_2: 5.642925308523729\n",
      "Average value of feature pixel_6_3: 9.53923205342237\n",
      "Standard deviation of feature pixel_6_3: 5.225493143981038\n",
      "Average value of feature pixel_6_4: 9.416249304396215\n",
      "Standard deviation of feature pixel_6_4: 5.300573016362214\n",
      "Average value of feature pixel_6_5: 8.758486366165831\n",
      "Standard deviation of feature pixel_6_5: 6.029476061060764\n",
      "Average value of feature pixel_6_6: 3.725097384529772\n",
      "Standard deviation of feature pixel_6_6: 4.918037061763359\n",
      "Average value of feature pixel_6_7: 0.20645520311630494\n",
      "Standard deviation of feature pixel_6_7: 0.9841269784187194\n",
      "Average value of feature pixel_7_0: 0.0005564830272676684\n",
      "Standard deviation of feature pixel_7_0: 0.023583327880263873\n",
      "Average value of feature pixel_7_1: 0.2793544796883695\n",
      "Standard deviation of feature pixel_7_1: 0.934041800590968\n",
      "Average value of feature pixel_7_2: 5.557595993322204\n",
      "Standard deviation of feature pixel_7_2: 5.101599300489528\n",
      "Average value of feature pixel_7_3: 12.089037284362828\n",
      "Standard deviation of feature pixel_7_3: 4.373476619077704\n",
      "Average value of feature pixel_7_4: 11.80912632164719\n",
      "Standard deviation of feature pixel_7_4: 4.932574333335633\n",
      "Average value of feature pixel_7_5: 6.764051196438508\n",
      "Standard deviation of feature pixel_7_5: 5.8989806853325515\n",
      "Average value of feature pixel_7_6: 2.0678909293266554\n",
      "Standard deviation of feature pixel_7_6: 4.089409568798566\n",
      "Average value of feature pixel_7_7: 0.36449638286032277\n",
      "Standard deviation of feature pixel_7_7: 1.8596040873906479\n",
      "None\n",
      "Dataset Diabetes\n",
      "Number of samples: 442\n",
      "No classes available\n",
      "Number of features: 10\n",
      "Average value of feature age: -2.511816797794472e-19\n",
      "Standard deviation of feature age: 0.047565149415449426\n",
      "Average value of feature sex: 1.2307902309192911e-17\n",
      "Standard deviation of feature sex: 0.047565149415449454\n",
      "Average value of feature bmi: -2.2455642172282577e-16\n",
      "Standard deviation of feature bmi: 0.0475651494154494\n",
      "Average value of feature bp: -4.7975700837874414e-17\n",
      "Standard deviation of feature bp: 0.047565149415449384\n",
      "Average value of feature s1: -1.3814992387869595e-17\n",
      "Standard deviation of feature s1: 0.04756514941544938\n",
      "Average value of feature s2: 3.918434204559376e-17\n",
      "Standard deviation of feature s2: 0.047565149415449426\n",
      "Average value of feature s3: -5.7771786349272854e-18\n",
      "Standard deviation of feature s3: 0.047565149415449384\n",
      "Average value of feature s4: -9.042540472060099e-18\n",
      "Standard deviation of feature s4: 0.047565149415449405\n",
      "Average value of feature s5: 9.293722151839546e-17\n",
      "Standard deviation of feature s5: 0.0475651494154494\n",
      "Average value of feature s6: 1.1303175590075123e-17\n",
      "Standard deviation of feature s6: 0.047565149415449426\n",
      "None\n",
      "Dataset Linnerud\n",
      "Number of samples: 20\n",
      "Numer of classes: 3\n",
      "Number of samples in class Weight: 0\n",
      "Number of samples in class Waist: 0\n",
      "Number of samples in class Pulse: 0\n",
      "Number of features: 3\n",
      "Average value of feature Chins: 9.45\n",
      "Standard deviation of feature Chins: 5.1524266127718885\n",
      "Average value of feature Situps: 145.55\n",
      "Standard deviation of feature Situps: 60.982354005072644\n",
      "Average value of feature Jumps: 70.3\n",
      "Standard deviation of feature Jumps: 49.979095630073175\n",
      "None\n",
      "Dataset Wine\n",
      "Number of samples: 178\n",
      "Numer of classes: 3\n",
      "Number of samples in class class_0: 59\n",
      "Number of samples in class class_1: 71\n",
      "Number of samples in class class_2: 48\n",
      "Number of features: 13\n",
      "Average value of feature alcohol: 13.00061797752809\n",
      "Standard deviation of feature alcohol: 0.8095429145285168\n",
      "Average value of feature malic_acid: 2.3363483146067416\n",
      "Standard deviation of feature malic_acid: 1.1140036269797893\n",
      "Average value of feature ash: 2.3665168539325845\n",
      "Standard deviation of feature ash: 0.27357229442643255\n",
      "Average value of feature alcalinity_of_ash: 19.49494382022472\n",
      "Standard deviation of feature alcalinity_of_ash: 3.3301697576582128\n",
      "Average value of feature magnesium: 99.74157303370787\n",
      "Standard deviation of feature magnesium: 14.242307673359806\n",
      "Average value of feature total_phenols: 2.295112359550562\n",
      "Standard deviation of feature total_phenols: 0.6240905641965369\n",
      "Average value of feature flavanoids: 2.0292696629213487\n",
      "Standard deviation of feature flavanoids: 0.996048950379233\n",
      "Average value of feature nonflavanoid_phenols: 0.3618539325842696\n",
      "Standard deviation of feature nonflavanoid_phenols: 0.12410325988364795\n",
      "Average value of feature proanthocyanins: 1.5908988764044945\n",
      "Standard deviation of feature proanthocyanins: 0.5707488486199379\n",
      "Average value of feature color_intensity: 5.058089882022472\n",
      "Standard deviation of feature color_intensity: 2.3117646609525573\n",
      "Average value of feature hue: 0.9574494382022471\n",
      "Standard deviation of feature hue: 0.22792860656507252\n",
      "Average value of feature od280/od315_of_diluted_wines: 2.6116853932584267\n",
      "Standard deviation of feature od280/od315_of_diluted_wines: 0.7079932646716005\n",
      "Average value of feature proline: 746.8932584269663\n",
      "Standard deviation of feature proline: 314.0216568419878\n",
      "None\n"
     ]
    }
   ],
   "source": [
    "from sklearn.utils import Bunch\n",
    "import numpy as np\n",
    "def prepare_dataset_description(data_set : Bunch, data_set_name):\n",
    "    print(f'Dataset {data_set_name}')\n",
    "    print(f'Number of samples: {data_set.data.shape[0]}')\n",
    "\n",
    "    try:\n",
    "        print(f'Numer of classes: {len(data_set.target_names)}')\n",
    "        target_names = data_set.target_names\n",
    "        for i, target_name in enumerate(target_names):\n",
    "            print(\n",
    "                f'Number of samples in class {target_name}: {np.sum(data_set.target == i)}'\n",
    "            )\n",
    "            \n",
    "    except AttributeError:\n",
    "        print(f'No classes available')\n",
    "\n",
    "    print(f'Number of features: {len(data_set.feature_names)}')\n",
    "\n",
    "    for i, feature in enumerate(data_set.feature_names):\n",
    "            print(f'Average value of feature {feature}: {np.mean(data_set.data[:, i])}')\n",
    "\n",
    "            print(f'Standard deviation of feature {feature}: {np.std(data_set.data[:, i])}')\n",
    "\n",
    "\n",
    "    \n",
    "print(prepare_dataset_description(iris_data_set, 'Iris'))\n",
    "print(prepare_dataset_description(breast_cancer_data_set, 'BC'))\n",
    "print(prepare_dataset_description(digits_data_set, 'Digits'))\n",
    "print(prepare_dataset_description(diabetes_data_set, 'Diabetes'))\n",
    "print(prepare_dataset_description(linnerud_data_set, 'Linnerud'))\n",
    "print(prepare_dataset_description(wine_data_set, 'Wine'))\n"
   ]
  }
 ],
 "metadata": {
  "kernelspec": {
   "display_name": "Python 3",
   "language": "python",
   "name": "python3"
  },
  "language_info": {
   "codemirror_mode": {
    "name": "ipython",
    "version": 3
   },
   "file_extension": ".py",
   "mimetype": "text/x-python",
   "name": "python",
   "nbconvert_exporter": "python",
   "pygments_lexer": "ipython3",
   "version": "3.11.7"
  },
  "orig_nbformat": 4,
  "vscode": {
   "interpreter": {
    "hash": "0cc2e28e15ec3d399ff2fa987eff54814158b78b1ea93d5ce0744d3e4b658fec"
   }
  }
 },
 "nbformat": 4,
 "nbformat_minor": 2
}
