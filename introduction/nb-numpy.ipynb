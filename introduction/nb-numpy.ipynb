{
  "cells": [
    {
      "cell_type": "markdown",
      "metadata": {
        "id": "brUItmAn2E5K"
      },
      "source": [
        "# NumPy tutorial\n",
        "\n",
        "[Numerical Python](https://numpy.org) is one of the most fundamental tools in each data miner's toolbox. It is impossible to do serious data pre-processing and transformation without the understanding of `NumPy` and its most commonly used methods. The goal of this tutorial is to familiarize students with this awesome library."
      ]
    },
    {
      "cell_type": "markdown",
      "metadata": {
        "id": "wSuGecTh2E5M"
      },
      "source": [
        "## Introduction\n",
        "\n",
        "Python is among the least efficient languages out there. Data mining is a field of study, which requires a lot of processing power. Why would we ever want to use python in order to do the data mining? The answer is really simple - we do not. We use python only as an interface to packages, which contain very efficient and optimized programs, such as numpy, scipy, sklearn, tensorflow, pytorch, keras... The list is long. Python is very flexible and simple. We just like its syntax, ability to combine it with programs written in other languages, not necessairly its efficency. In the previous tutorial we have already seen some numpy stuctures. When we imported the toy data sets, the data was stored in something called ndarray. In fact 99% of `NumPy` is about this very data structure and operations on this structure. `NumPy` stores everything in multidimensional arrays and vectorizes all operations on these arrays. \n",
        "\n",
        "Contrary to Python lists, the NumPy arrays represent tensors (e.g. 1st rank tensor - a vector, 2nd rank tensor - a matrix; do not confuse this with Tensorflow tensor data structure, tensors in a mathematical sense). Python list is just a list of things, specifically it could be a list of lists, there is no additional limitation to that. A tensor has some limitations:\n",
        "- every element must be of the same type and size\n",
        "- if an array has arrays, they must match as well\n",
        "\n",
        "After all this:\n",
        "\n",
        "\\begin{matrix} 1 & 2 & 3 \\\\ 4 & 5 & 6 & 8 \\\\ 7 & 8 &  \\end{matrix}\n",
        "\n",
        "is not a matrix.\n",
        "\n",
        "While this:\n",
        "\n"
      ]
    },
    {
      "cell_type": "code",
      "execution_count": 1,
      "metadata": {
        "id": "sbiDLEns2E5N"
      },
      "outputs": [],
      "source": [
        "lst = [[1,2,3],[4,5,6,8],[7,8]]"
      ]
    },
    {
      "cell_type": "markdown",
      "metadata": {
        "id": "hCDFILs12E5O"
      },
      "source": [
        "is a list.\n",
        "\n",
        "For a motivating example, let's compare the speed of computing an average of 10 mln of random numbers stored in a list vs an array"
      ]
    },
    {
      "cell_type": "markdown",
      "metadata": {
        "id": "tin70cNS2E5P"
      },
      "source": [
        "First, we are going to generate a list of 10 mln random numbers. We will use a function from the numpy package named randint. As you might suspect the function can be used to generate a random integer. In fact this function is flexible enough to create a tensor of any shape with random integers."
      ]
    },
    {
      "cell_type": "code",
      "execution_count": 2,
      "metadata": {
        "ExecuteTime": {
          "end_time": "2021-03-04T13:09:30.997021Z",
          "start_time": "2021-03-04T13:09:30.231420Z"
        },
        "id": "TrLPUEq52E5P"
      },
      "outputs": [],
      "source": [
        "import numpy as np\n",
        "from numpy.random import randint\n",
        "\n",
        "randoms = randint(low=0, high=1000, size=(1000,1000))\n",
        "randoms = randint(low=0, high=1000, size=(100,100,100))\n",
        "randoms = randint(low=0, high=1000, size=(10,10000))\n",
        "randoms = randint(low=0, high=1000, size=(10000000))\n",
        "lst = list(randoms)"
      ]
    },
    {
      "cell_type": "markdown",
      "metadata": {
        "id": "NZJdVrr02E5Q"
      },
      "source": [
        "I hope you're not surprised the size is not just a single number. n-th rank tensor requires n numbers to describe its shape. A vector has just its length. A matrix has a number of columns and a number of rows. A cuboid has three dimensions, and so on. So, in the second to last line we generated a vector of 10 mln random numbers. In the last line we converted it to a list. We can get the length of this list with a built-in len function."
      ]
    },
    {
      "cell_type": "code",
      "execution_count": 3,
      "metadata": {
        "ExecuteTime": {
          "end_time": "2021-03-04T13:09:55.762564Z",
          "start_time": "2021-03-04T13:09:55.717269Z"
        },
        "id": "bQmL155p2E5Q",
        "outputId": "818b1350-dcea-4050-8159-019813974078"
      },
      "outputs": [
        {
          "data": {
            "text/plain": [
              "10000000"
            ]
          },
          "execution_count": 3,
          "metadata": {},
          "output_type": "execute_result"
        }
      ],
      "source": [
        "len(lst)"
      ]
    },
    {
      "cell_type": "markdown",
      "metadata": {
        "id": "5RYc9moE2E5R"
      },
      "source": [
        "We expect the len function to return an integer. So it does. If we try to check the length of a numpy array we are going to get only the size of the first dimension. If we want to get a full description of the tensor shape, we can use the `shape` attribute."
      ]
    },
    {
      "cell_type": "code",
      "execution_count": 4,
      "metadata": {
        "id": "XzldeNBs2E5R",
        "outputId": "c4b6e130-ba7f-4fb8-df1e-9b4b2f1e2a8c"
      },
      "outputs": [
        {
          "name": "stdout",
          "output_type": "stream",
          "text": [
            "1000\n",
            "(1000, 1000, 1000)\n"
          ]
        }
      ],
      "source": [
        "sample = np.zeros((1000,1000,1000))\n",
        "\n",
        "print(len(sample))\n",
        "print(sample.shape)"
      ]
    },
    {
      "cell_type": "markdown",
      "metadata": {
        "id": "Zrt66dXW2E5S"
      },
      "source": [
        "Let's start the calculation of an average - we will use the cell magic here to compare the solutions."
      ]
    },
    {
      "cell_type": "code",
      "execution_count": 6,
      "metadata": {
        "ExecuteTime": {
          "end_time": "2021-03-04T12:49:38.689313Z",
          "start_time": "2021-03-04T12:49:36.690067Z"
        },
        "id": "bPOdDf3g2E5S",
        "outputId": "4ea15b83-3cff-43b5-f6ca-317d0564e54b"
      },
      "outputs": [
        {
          "name": "stdout",
          "output_type": "stream",
          "text": [
            "Average = 499.4664618\n",
            "CPU times: user 2.11 s, sys: 31 µs, total: 2.11 s\n",
            "Wall time: 2.13 s\n"
          ]
        }
      ],
      "source": [
        "%%time\n",
        "\n",
        "# old-school iteration\n",
        "summ = 0\n",
        "for i in range(len(lst)):\n",
        "    summ += lst[i]\n",
        "    \n",
        "print(f'Average = {summ/len(lst)}')"
      ]
    },
    {
      "cell_type": "code",
      "execution_count": 7,
      "metadata": {
        "ExecuteTime": {
          "end_time": "2021-03-04T12:49:56.610164Z",
          "start_time": "2021-03-04T12:49:55.653897Z"
        },
        "id": "Mvl6SCQm2E5T",
        "outputId": "0413e523-3242-4f7b-aa01-4c30672abe17"
      },
      "outputs": [
        {
          "name": "stdout",
          "output_type": "stream",
          "text": [
            "Average = 499.4664618\n",
            "CPU times: user 382 ms, sys: 3.07 ms, total: 385 ms\n",
            "Wall time: 388 ms\n"
          ]
        }
      ],
      "source": [
        "%%time\n",
        "\n",
        "# using built-ins sum() and len()\n",
        "print(f'Average = {sum(lst)/len(lst)}')"
      ]
    },
    {
      "cell_type": "code",
      "execution_count": 8,
      "metadata": {
        "ExecuteTime": {
          "end_time": "2021-03-04T12:50:24.702116Z",
          "start_time": "2021-03-04T12:50:24.675694Z"
        },
        "id": "mBQYSZzj2E5T"
      },
      "outputs": [
        {
          "name": "stdout",
          "output_type": "stream",
          "text": [
            "Average = 499.4664618\n",
            "CPU times: user 25.4 ms, sys: 0 ns, total: 25.4 ms\n",
            "Wall time: 24.6 ms\n"
          ]
        }
      ],
      "source": [
        "%%time\n",
        "\n",
        "# using NumPy\n",
        "print(f'Average = {np.mean(randoms)}')"
      ]
    },
    {
      "cell_type": "markdown",
      "metadata": {
        "id": "bFb6tTdE2E5T"
      },
      "source": [
        "Let's see how to create an array and what happens when we start messing with the types and sizes of objects.\n",
        "\n",
        "In the previous examples we already saw how to create an array of random numbers (and an array, which consists of zeros).\n",
        "We can also create a numpy array with a python list, like this:"
      ]
    },
    {
      "cell_type": "code",
      "execution_count": 9,
      "metadata": {
        "ExecuteTime": {
          "end_time": "2021-03-04T12:51:56.301681Z",
          "start_time": "2021-03-04T12:51:56.283329Z"
        },
        "id": "QSkQgQeo2E5U",
        "outputId": "7445bedb-a1af-425c-8d01-48371f64e975",
        "tags": []
      },
      "outputs": [],
      "source": [
        "a = np.array([1, 2, 3, 4, 5])\n",
        "\n"
      ]
    },
    {
      "cell_type": "markdown",
      "metadata": {
        "id": "Wk9IkQIb2E5U"
      },
      "source": [
        "we have also seen how to get the exact shape of an array. In fact there are more descriptors for an array."
      ]
    },
    {
      "cell_type": "code",
      "execution_count": 10,
      "metadata": {
        "id": "6LZS9lMk2E5U",
        "outputId": "541e043f-6c46-49df-81f7-c74265a80940"
      },
      "outputs": [
        {
          "name": "stdout",
          "output_type": "stream",
          "text": [
            "\n",
            "Shape (sizes of dimensions): (5,)\n",
            "Number of dimensions: 1\n",
            "Length (number of elements): 5\n",
            "Size (number of nested elements): 5\n",
            "Type : <class 'numpy.ndarray'>\n",
            "Data type (type of array elements): int64\n",
            "\n"
          ]
        }
      ],
      "source": [
        "print(f\"\"\"\n",
        "Shape (sizes of dimensions): {a.shape}\n",
        "Number of dimensions: {a.ndim}\n",
        "Length (number of elements): {len(a)}\n",
        "Size (number of nested elements): {a.size}\n",
        "Type : {type(a)}\n",
        "Data type (type of array elements): {a.dtype}\n",
        "\"\"\")"
      ]
    },
    {
      "cell_type": "markdown",
      "metadata": {
        "id": "HeDS9U492E5V"
      },
      "source": [
        "Now let's see how the same descriptors can be applied to a two- and three -dimensional array"
      ]
    },
    {
      "cell_type": "code",
      "execution_count": 11,
      "metadata": {
        "ExecuteTime": {
          "end_time": "2021-03-04T12:55:13.741515Z",
          "start_time": "2021-03-04T12:55:13.728336Z"
        },
        "id": "_e3YuNHS2E5V",
        "outputId": "d0a7230c-4fd1-4ca1-e459-1acdecec122d"
      },
      "outputs": [
        {
          "name": "stdout",
          "output_type": "stream",
          "text": [
            "\n",
            "Shape (sizes of dimensions): (2, 5)\n",
            "Number of dimensions: 2\n",
            "Length (number of elements): 2\n",
            "Size (number of nested elements): 10\n",
            "Type : <class 'numpy.ndarray'>\n",
            "Data type (type of array elements): int64\n",
            "\n"
          ]
        }
      ],
      "source": [
        "a = np.array([\n",
        "    [1, 2, 3, 4, 5],\n",
        "    [1, 4, 9, 16, 25]\n",
        "])\n",
        "\n",
        "print(f\"\"\"\n",
        "Shape (sizes of dimensions): {a.shape}\n",
        "Number of dimensions: {a.ndim}\n",
        "Length (number of elements): {len(a)}\n",
        "Size (number of nested elements): {a.size}\n",
        "Type : {type(a)}\n",
        "Data type (type of array elements): {a.dtype}\n",
        "\"\"\")"
      ]
    },
    {
      "cell_type": "code",
      "execution_count": 12,
      "metadata": {
        "colab": {
          "base_uri": "https://localhost:8080/"
        },
        "id": "CMZCYrnA2gNE",
        "outputId": "f7ee961d-6a51-488e-919e-6b33d751bf01"
      },
      "outputs": [
        {
          "name": "stdout",
          "output_type": "stream",
          "text": [
            "\n",
            "Shape (sizes of dimensions): (2, 2, 5)\n",
            "Number of dimensions: 3\n",
            "Length (number of elements): 2\n",
            "Size (number of nested elements): 20\n",
            "Type : <class 'numpy.ndarray'>\n",
            "Data type (type of array elements): int64\n",
            "\n"
          ]
        }
      ],
      "source": [
        "a = np.array([\n",
        "    [\n",
        "    [1, 2, 3, 4, 5],\n",
        "    [1, 1, 2, 3, 5]\n",
        "    ],\n",
        "    [\n",
        "    [1, 2, 3, 4, 5],\n",
        "    [1, 4, 9, 16, 25]\n",
        "    ]\n",
        "])\n",
        "\n",
        "print(f\"\"\"\n",
        "Shape (sizes of dimensions): {a.shape}\n",
        "Number of dimensions: {a.ndim}\n",
        "Length (number of elements): {len(a)}\n",
        "Size (number of nested elements): {a.size}\n",
        "Type : {type(a)}\n",
        "Data type (type of array elements): {a.dtype}\n",
        "\"\"\")"
      ]
    },
    {
      "cell_type": "markdown",
      "metadata": {
        "id": "APUmyRWg2E5V"
      },
      "source": [
        "Array elements should be of the same type. Let's see what happens if we mix two or more types."
      ]
    },
    {
      "cell_type": "code",
      "execution_count": 13,
      "metadata": {
        "ExecuteTime": {
          "end_time": "2021-03-04T12:56:18.484257Z",
          "start_time": "2021-03-04T12:56:18.473013Z"
        },
        "colab": {
          "base_uri": "https://localhost:8080/"
        },
        "id": "t3ltLGn72E5V",
        "outputId": "c4f05a35-daa5-46af-8f36-4186aa4e5eb2"
      },
      "outputs": [
        {
          "data": {
            "text/plain": [
              "array(['1', '2', 'mary', 'had', '2.5', 'lambs'], dtype='<U32')"
            ]
          },
          "execution_count": 13,
          "metadata": {},
          "output_type": "execute_result"
        }
      ],
      "source": [
        "a = np.array([1, 2, 'mary', 'had', 2.5, 'lambs'])\n",
        "a"
      ]
    },
    {
      "cell_type": "code",
      "execution_count": 14,
      "metadata": {
        "ExecuteTime": {
          "end_time": "2021-03-04T12:57:03.692524Z",
          "start_time": "2021-03-04T12:57:03.673507Z"
        },
        "id": "aW0ozWxB2E5W",
        "outputId": "70e2fa01-a5fc-474f-9b6b-bc3e87e3644b"
      },
      "outputs": [
        {
          "data": {
            "text/plain": [
              "dtype('<U32')"
            ]
          },
          "execution_count": 14,
          "metadata": {},
          "output_type": "execute_result"
        }
      ],
      "source": [
        "a.dtype"
      ]
    },
    {
      "cell_type": "markdown",
      "metadata": {
        "id": "11g6takz2E5W"
      },
      "source": [
        "We can also try to modify the length of array's elements"
      ]
    },
    {
      "cell_type": "code",
      "execution_count": 15,
      "metadata": {
        "ExecuteTime": {
          "end_time": "2021-03-04T12:57:53.328704Z",
          "start_time": "2021-03-04T12:57:53.322752Z"
        },
        "id": "iOfm6-6l2E5W",
        "outputId": "7687e6f6-2d36-4e8c-b93f-f57aa7bf6cf2"
      },
      "outputs": [
        {
          "data": {
            "text/plain": [
              "dtype('<U6')"
            ]
          },
          "execution_count": 15,
          "metadata": {},
          "output_type": "execute_result"
        }
      ],
      "source": [
        "a = np.array(['mary', 'had', 'a', 'little', 'lamb'])\n",
        "a.dtype"
      ]
    },
    {
      "cell_type": "code",
      "execution_count": 18,
      "metadata": {
        "ExecuteTime": {
          "end_time": "2021-03-04T12:58:21.535252Z",
          "start_time": "2021-03-04T12:58:21.524891Z"
        },
        "id": "o03wMgVr2E5W",
        "outputId": "18ce76b3-7817-4c6f-c4f6-18e0e6498362"
      },
      "outputs": [
        {
          "ename": "ValueError",
          "evalue": "invalid literal for int() with base 10: 'and very very very very long snake'",
          "output_type": "error",
          "traceback": [
            "\u001b[0;31m---------------------------------------------------------------------------\u001b[0m",
            "\u001b[0;31mValueError\u001b[0m                                Traceback (most recent call last)",
            "Cell \u001b[0;32mIn[18], line 1\u001b[0m\n\u001b[0;32m----> 1\u001b[0m a[\u001b[38;5;241m4\u001b[39m] \u001b[38;5;241m=\u001b[39m \u001b[38;5;124m'\u001b[39m\u001b[38;5;124mand very very very very long snake\u001b[39m\u001b[38;5;124m'\u001b[39m\n\u001b[1;32m      2\u001b[0m a\n",
            "\u001b[0;31mValueError\u001b[0m: invalid literal for int() with base 10: 'and very very very very long snake'"
          ]
        }
      ],
      "source": [
        "a[4] = 'and very very very very long snake'\n",
        "a"
      ]
    },
    {
      "cell_type": "markdown",
      "metadata": {
        "id": "oOSxBUGV2E5X"
      },
      "source": [
        "After an array has been created, it can be reshaped to whatever shape one desires. A special function is provided for transposing an array (changing rows into columns and vice versa)"
      ]
    },
    {
      "cell_type": "code",
      "execution_count": 19,
      "metadata": {
        "ExecuteTime": {
          "end_time": "2021-03-04T13:00:28.784164Z",
          "start_time": "2021-03-04T13:00:28.778418Z"
        },
        "id": "GxhH8jWn2E5X",
        "outputId": "eebd77db-367f-41f7-c669-72395af3d6a9"
      },
      "outputs": [
        {
          "data": {
            "text/plain": [
              "array([[ 0,  1,  2,  3],\n",
              "       [ 4,  5,  6,  7],\n",
              "       [ 8,  9, 10, 11]])"
            ]
          },
          "execution_count": 19,
          "metadata": {},
          "output_type": "execute_result"
        }
      ],
      "source": [
        "a = np.array(list(range(12)))\n",
        "\n",
        "a.shape = (3,4)\n",
        "a"
      ]
    },
    {
      "cell_type": "code",
      "execution_count": 20,
      "metadata": {
        "ExecuteTime": {
          "end_time": "2021-03-04T13:02:28.005978Z",
          "start_time": "2021-03-04T13:02:27.996818Z"
        },
        "id": "dF2TaGK02E5X",
        "outputId": "5dbef499-2cb7-47b4-ed04-57af19017822"
      },
      "outputs": [
        {
          "data": {
            "text/plain": [
              "array([[ 0,  1],\n",
              "       [ 2,  3],\n",
              "       [ 4,  5],\n",
              "       [ 6,  7],\n",
              "       [ 8,  9],\n",
              "       [10, 11]])"
            ]
          },
          "execution_count": 20,
          "metadata": {},
          "output_type": "execute_result"
        }
      ],
      "source": [
        "a = a.reshape(6, 2)\n",
        "a"
      ]
    },
    {
      "cell_type": "code",
      "execution_count": 21,
      "metadata": {
        "ExecuteTime": {
          "start_time": "2021-03-04T13:03:51.936Z"
        },
        "id": "fy2wiuCF2E5X",
        "outputId": "0902740a-7f69-49b9-c8bb-bef6519bc38c"
      },
      "outputs": [
        {
          "data": {
            "text/plain": [
              "array([[ 0,  2,  4,  6,  8, 10],\n",
              "       [ 1,  3,  5,  7,  9, 11]])"
            ]
          },
          "execution_count": 21,
          "metadata": {},
          "output_type": "execute_result"
        }
      ],
      "source": [
        "a.T"
      ]
    },
    {
      "cell_type": "markdown",
      "metadata": {
        "id": "KX8pXzdm2E5Y"
      },
      "source": [
        "## Creating arrays\n",
        "\n",
        "The easiest way to create a 1-d array is to use a list. If you want a 2-d array, you use a list of lists. 3-d arrays are created using a list of lists of lists. You get the gist."
      ]
    },
    {
      "cell_type": "code",
      "execution_count": 22,
      "metadata": {
        "ExecuteTime": {
          "end_time": "2021-03-04T13:10:43.986631Z",
          "start_time": "2021-03-04T13:10:43.703190Z"
        },
        "id": "-e1SN2SI2E5Y"
      },
      "outputs": [],
      "source": [
        "a_1d = np.array([1, 2, 3, 4])\n",
        "\n",
        "a_2d = np.array([\n",
        "    [1, 2, 3, 4],\n",
        "    [1, 4, 9, 16],\n",
        "    [1, 8, 27, 64]\n",
        "])\n",
        "\n",
        "a_3d = np.array([\n",
        "    [\n",
        "        [0, 0],\n",
        "        [0, 1],\n",
        "    ],\n",
        "    [\n",
        "        [1, 0],\n",
        "        [1, 1],\n",
        "    ],\n",
        "])"
      ]
    },
    {
      "cell_type": "markdown",
      "metadata": {
        "id": "6owW0SnJ2E5Y"
      },
      "source": [
        "There are utility functions in the `np` module for creating popular types of arrays:\n",
        "- an array filled with zeros\n",
        "- an array filled with ones\n",
        "- an array filled with any value\n",
        "- an array of consecutive (or stepped) values\n",
        "- an array filled with random values\n",
        "- a diagonal array"
      ]
    },
    {
      "cell_type": "code",
      "execution_count": 23,
      "metadata": {
        "ExecuteTime": {
          "end_time": "2021-03-04T13:11:23.604189Z",
          "start_time": "2021-03-04T13:11:23.595746Z"
        },
        "id": "uJmkUStv2E5Y"
      },
      "outputs": [
        {
          "data": {
            "text/plain": [
              "array([[0., 0., 0.],\n",
              "       [0., 0., 0.],\n",
              "       [0., 0., 0.]])"
            ]
          },
          "execution_count": 23,
          "metadata": {},
          "output_type": "execute_result"
        }
      ],
      "source": [
        "np.zeros(shape=(3,3))"
      ]
    },
    {
      "cell_type": "code",
      "execution_count": 24,
      "metadata": {
        "ExecuteTime": {
          "end_time": "2021-03-03T23:53:47.705059Z",
          "start_time": "2021-03-03T23:53:47.701794Z"
        },
        "id": "Emk2nzbQ2E5Y"
      },
      "outputs": [
        {
          "data": {
            "text/plain": [
              "array([[0., 0., 0., 0., 0.],\n",
              "       [0., 0., 0., 0., 0.],\n",
              "       [0., 0., 0., 0., 0.]])"
            ]
          },
          "execution_count": 24,
          "metadata": {},
          "output_type": "execute_result"
        }
      ],
      "source": [
        "np.zeros(shape=(3,5))"
      ]
    },
    {
      "cell_type": "code",
      "execution_count": 25,
      "metadata": {
        "ExecuteTime": {
          "end_time": "2021-03-04T13:11:45.001157Z",
          "start_time": "2021-03-04T13:11:44.993958Z"
        },
        "id": "rHsyIh6w2E5Z"
      },
      "outputs": [
        {
          "data": {
            "text/plain": [
              "array([1., 1., 1., 1., 1., 1., 1., 1., 1., 1.])"
            ]
          },
          "execution_count": 25,
          "metadata": {},
          "output_type": "execute_result"
        }
      ],
      "source": [
        "np.ones(10)"
      ]
    },
    {
      "cell_type": "code",
      "execution_count": 26,
      "metadata": {
        "ExecuteTime": {
          "end_time": "2021-03-04T13:12:05.434852Z",
          "start_time": "2021-03-04T13:12:05.422013Z"
        },
        "id": "M9UlB1nx2E5Z"
      },
      "outputs": [
        {
          "data": {
            "text/plain": [
              "array([1, 1, 1, 1, 1, 1, 1, 1, 1, 1], dtype=int32)"
            ]
          },
          "execution_count": 26,
          "metadata": {},
          "output_type": "execute_result"
        }
      ],
      "source": [
        "np.ones(10, dtype=np.int32)"
      ]
    },
    {
      "cell_type": "code",
      "execution_count": 27,
      "metadata": {
        "ExecuteTime": {
          "end_time": "2021-03-04T13:12:26.368482Z",
          "start_time": "2021-03-04T13:12:26.361206Z"
        },
        "id": "IwGOIatZ2E5Z"
      },
      "outputs": [
        {
          "data": {
            "text/plain": [
              "array([['empty', 'empty', 'empty', 'empty'],\n",
              "       ['empty', 'empty', 'empty', 'empty'],\n",
              "       ['empty', 'empty', 'empty', 'empty'],\n",
              "       ['empty', 'empty', 'empty', 'empty']], dtype='<U5')"
            ]
          },
          "execution_count": 27,
          "metadata": {},
          "output_type": "execute_result"
        }
      ],
      "source": [
        "np.full(shape=(4,4), fill_value='empty')"
      ]
    },
    {
      "cell_type": "code",
      "execution_count": 28,
      "metadata": {
        "ExecuteTime": {
          "end_time": "2021-03-04T13:12:46.553556Z",
          "start_time": "2021-03-04T13:12:46.538365Z"
        },
        "id": "7AF570792E5Z"
      },
      "outputs": [
        {
          "name": "stdout",
          "output_type": "stream",
          "text": [
            "\u001b[0;31mDocstring:\u001b[0m\n",
            "arange([start,] stop[, step,], dtype=None, *, like=None)\n",
            "\n",
            "Return evenly spaced values within a given interval.\n",
            "\n",
            "``arange`` can be called with a varying number of positional arguments:\n",
            "\n",
            "* ``arange(stop)``: Values are generated within the half-open interval\n",
            "  ``[0, stop)`` (in other words, the interval including `start` but\n",
            "  excluding `stop`).\n",
            "* ``arange(start, stop)``: Values are generated within the half-open\n",
            "  interval ``[start, stop)``.\n",
            "* ``arange(start, stop, step)`` Values are generated within the half-open\n",
            "  interval ``[start, stop)``, with spacing between values given by\n",
            "  ``step``.\n",
            "\n",
            "For integer arguments the function is roughly equivalent to the Python\n",
            "built-in :py:class:`range`, but returns an ndarray rather than a ``range``\n",
            "instance.\n",
            "\n",
            "When using a non-integer step, such as 0.1, it is often better to use\n",
            "`numpy.linspace`.\n",
            "\n",
            "See the Warning sections below for more information.\n",
            "\n",
            "Parameters\n",
            "----------\n",
            "start : integer or real, optional\n",
            "    Start of interval.  The interval includes this value.  The default\n",
            "    start value is 0.\n",
            "stop : integer or real\n",
            "    End of interval.  The interval does not include this value, except\n",
            "    in some cases where `step` is not an integer and floating point\n",
            "    round-off affects the length of `out`.\n",
            "step : integer or real, optional\n",
            "    Spacing between values.  For any output `out`, this is the distance\n",
            "    between two adjacent values, ``out[i+1] - out[i]``.  The default\n",
            "    step size is 1.  If `step` is specified as a position argument,\n",
            "    `start` must also be given.\n",
            "dtype : dtype, optional\n",
            "    The type of the output array.  If `dtype` is not given, infer the data\n",
            "    type from the other input arguments.\n",
            "like : array_like, optional\n",
            "    Reference object to allow the creation of arrays which are not\n",
            "    NumPy arrays. If an array-like passed in as ``like`` supports\n",
            "    the ``__array_function__`` protocol, the result will be defined\n",
            "    by it. In this case, it ensures the creation of an array object\n",
            "    compatible with that passed in via this argument.\n",
            "\n",
            "    .. versionadded:: 1.20.0\n",
            "\n",
            "Returns\n",
            "-------\n",
            "arange : ndarray\n",
            "    Array of evenly spaced values.\n",
            "\n",
            "    For floating point arguments, the length of the result is\n",
            "    ``ceil((stop - start)/step)``.  Because of floating point overflow,\n",
            "    this rule may result in the last element of `out` being greater\n",
            "    than `stop`.\n",
            "\n",
            "Warnings\n",
            "--------\n",
            "The length of the output might not be numerically stable.\n",
            "\n",
            "Another stability issue is due to the internal implementation of\n",
            "`numpy.arange`.\n",
            "The actual step value used to populate the array is\n",
            "``dtype(start + step) - dtype(start)`` and not `step`. Precision loss\n",
            "can occur here, due to casting or due to using floating points when\n",
            "`start` is much larger than `step`. This can lead to unexpected\n",
            "behaviour. For example::\n",
            "\n",
            "  >>> np.arange(0, 5, 0.5, dtype=int)\n",
            "  array([0, 0, 0, 0, 0, 0, 0, 0, 0, 0])\n",
            "  >>> np.arange(-3, 3, 0.5, dtype=int)\n",
            "  array([-3, -2, -1,  0,  1,  2,  3,  4,  5,  6,  7,  8])\n",
            "\n",
            "In such cases, the use of `numpy.linspace` should be preferred.\n",
            "\n",
            "The built-in :py:class:`range` generates :std:doc:`Python built-in integers\n",
            "that have arbitrary size <python:c-api/long>`, while `numpy.arange`\n",
            "produces `numpy.int32` or `numpy.int64` numbers. This may result in\n",
            "incorrect results for large integer values::\n",
            "\n",
            "  >>> power = 40\n",
            "  >>> modulo = 10000\n",
            "  >>> x1 = [(n ** power) % modulo for n in range(8)]\n",
            "  >>> x2 = [(n ** power) % modulo for n in np.arange(8)]\n",
            "  >>> print(x1)\n",
            "  [0, 1, 7776, 8801, 6176, 625, 6576, 4001]  # correct\n",
            "  >>> print(x2)\n",
            "  [0, 1, 7776, 7185, 0, 5969, 4816, 3361]  # incorrect\n",
            "\n",
            "See Also\n",
            "--------\n",
            "numpy.linspace : Evenly spaced numbers with careful handling of endpoints.\n",
            "numpy.ogrid: Arrays of evenly spaced numbers in N-dimensions.\n",
            "numpy.mgrid: Grid-shaped arrays of evenly spaced numbers in N-dimensions.\n",
            ":ref:`how-to-partition`\n",
            "\n",
            "Examples\n",
            "--------\n",
            ">>> np.arange(3)\n",
            "array([0, 1, 2])\n",
            ">>> np.arange(3.0)\n",
            "array([ 0.,  1.,  2.])\n",
            ">>> np.arange(3,7)\n",
            "array([3, 4, 5, 6])\n",
            ">>> np.arange(3,7,2)\n",
            "array([3, 5])\n",
            "\u001b[0;31mType:\u001b[0m      builtin_function_or_method"
          ]
        }
      ],
      "source": [
        "??np.arange"
      ]
    },
    {
      "cell_type": "code",
      "execution_count": 29,
      "metadata": {
        "ExecuteTime": {
          "end_time": "2021-03-04T13:13:11.553100Z",
          "start_time": "2021-03-04T13:13:11.533041Z"
        },
        "id": "aQLKhqgZ2E5Z"
      },
      "outputs": [
        {
          "data": {
            "text/plain": [
              "array([-2. , -1.5, -1. , -0.5,  0. ,  0.5,  1. ,  1.5])"
            ]
          },
          "execution_count": 29,
          "metadata": {},
          "output_type": "execute_result"
        }
      ],
      "source": [
        "np.arange(-2, 2, 0.5)"
      ]
    },
    {
      "cell_type": "code",
      "execution_count": 30,
      "metadata": {
        "ExecuteTime": {
          "end_time": "2021-03-04T13:13:37.060198Z",
          "start_time": "2021-03-04T13:13:37.052684Z"
        },
        "id": "aD6X0AJB2E5a"
      },
      "outputs": [
        {
          "data": {
            "text/plain": [
              "array([[[ 1.13072733, -0.7630362 ],\n",
              "        [-1.32065521,  0.10414325],\n",
              "        [-0.18526901,  0.79518184]],\n",
              "\n",
              "       [[-0.77667374, -1.30318229],\n",
              "        [ 1.30504639, -0.21759502],\n",
              "        [ 0.19032885,  0.34217152]],\n",
              "\n",
              "       [[-0.84359886,  1.00195619],\n",
              "        [ 0.03090637, -0.21850373],\n",
              "        [-2.13887734, -0.38763719]]])"
            ]
          },
          "execution_count": 30,
          "metadata": {},
          "output_type": "execute_result"
        }
      ],
      "source": [
        "np.random.randn(3, 3, 2)"
      ]
    },
    {
      "cell_type": "code",
      "execution_count": 31,
      "metadata": {
        "ExecuteTime": {
          "end_time": "2021-03-04T13:14:20.406628Z",
          "start_time": "2021-03-04T13:14:20.399730Z"
        },
        "id": "Fklz9ZgH2E5a"
      },
      "outputs": [
        {
          "data": {
            "text/plain": [
              "array([5, 2, 4, 6, 6, 1, 6, 2, 4, 2])"
            ]
          },
          "execution_count": 31,
          "metadata": {},
          "output_type": "execute_result"
        }
      ],
      "source": [
        "np.random.randint(low=1, high=7, size=10)"
      ]
    },
    {
      "cell_type": "code",
      "execution_count": 32,
      "metadata": {
        "ExecuteTime": {
          "end_time": "2021-03-04T13:14:39.501768Z",
          "start_time": "2021-03-04T13:14:39.491009Z"
        },
        "id": "U3JkYvuL2E5a"
      },
      "outputs": [
        {
          "data": {
            "text/plain": [
              "array([[1., 0., 0., 0., 0.],\n",
              "       [0., 1., 0., 0., 0.],\n",
              "       [0., 0., 1., 0., 0.],\n",
              "       [0., 0., 0., 1., 0.],\n",
              "       [0., 0., 0., 0., 1.]])"
            ]
          },
          "execution_count": 32,
          "metadata": {},
          "output_type": "execute_result"
        }
      ],
      "source": [
        "np.eye(5)"
      ]
    },
    {
      "cell_type": "code",
      "execution_count": 33,
      "metadata": {
        "ExecuteTime": {
          "end_time": "2021-03-04T13:14:59.335926Z",
          "start_time": "2021-03-04T13:14:59.328609Z"
        },
        "id": "_BUh9puv2E5a"
      },
      "outputs": [
        {
          "data": {
            "text/plain": [
              "array([[1., 0., 0., 0., 0., 0., 0., 0.],\n",
              "       [0., 1., 0., 0., 0., 0., 0., 0.],\n",
              "       [0., 0., 1., 0., 0., 0., 0., 0.],\n",
              "       [0., 0., 0., 1., 0., 0., 0., 0.],\n",
              "       [0., 0., 0., 0., 1., 0., 0., 0.]])"
            ]
          },
          "execution_count": 33,
          "metadata": {},
          "output_type": "execute_result"
        }
      ],
      "source": [
        "np.eye(5, 8)"
      ]
    },
    {
      "cell_type": "markdown",
      "metadata": {
        "id": "EWESuoCh2E5a"
      },
      "source": [
        "## Indexing arrays\n",
        "\n",
        "Arrays in `NumPy` are 0-indexed. Indexing of 1-d arrays is very easy, just follow the pattern of *start*:*end*:*step*"
      ]
    },
    {
      "cell_type": "code",
      "execution_count": 34,
      "metadata": {
        "ExecuteTime": {
          "end_time": "2021-03-04T13:16:20.626180Z",
          "start_time": "2021-03-04T13:16:20.615565Z"
        },
        "id": "UBBDvgwp2E5b",
        "outputId": "8dab0b7c-ee9b-484c-af2f-0d65008558cb"
      },
      "outputs": [
        {
          "name": "stdout",
          "output_type": "stream",
          "text": [
            "[0 1 2 3 4 5 6 7 8 9]\n",
            "\n",
            "First element: 0\n",
            "First three elements: [0 1 2]\n",
            "Last element: 9 and 9\n",
            "Even elements: [0 2 4 6 8]\n",
            "\n"
          ]
        }
      ],
      "source": [
        "a = np.arange(0, 10)\n",
        "\n",
        "print(f\"\"\"{a}\n",
        "\n",
        "First element: {a[0]}\n",
        "First three elements: {a[0:3]}\n",
        "Last element: {a[len(a)-1]} and {a[-1]}\n",
        "Even elements: {a[::2]}\n",
        "\"\"\")"
      ]
    },
    {
      "cell_type": "markdown",
      "metadata": {
        "id": "12ooZX4b2E5b"
      },
      "source": [
        "Indexing of n-dim arrays is a bit more tricky. Keep in mind that axis 0 refers to rows and axis 1 refers to columns. For high dimensional arrays try to build the following intuition:\n",
        "- 1-d: a row of values\n",
        "- 2-d: a matrix (rows and columns) of values\n",
        "- 3-d: a row of arrays\n",
        "- 4-d: a matrix of arrays\n",
        "- and so on..."
      ]
    },
    {
      "cell_type": "code",
      "execution_count": 35,
      "metadata": {
        "ExecuteTime": {
          "end_time": "2021-03-04T13:18:21.877530Z",
          "start_time": "2021-03-04T13:18:21.866842Z"
        },
        "id": "cjiuZi742E5b"
      },
      "outputs": [
        {
          "name": "stdout",
          "output_type": "stream",
          "text": [
            "[[  1   2   3   4]\n",
            " [ 10  20  30  40]\n",
            " [100 200 300 400]]\n",
            "\n",
            "Element at second row, third column: 30\n",
            "Entire first row: [1 2 3 4]\n",
            "Entire first row as 2-d array: [[1 2 3 4]]\n",
            "First and second rows, last column: [ 4 40]\n",
            "\n"
          ]
        }
      ],
      "source": [
        "a = np.array([\n",
        "    [1, 2, 3, 4],\n",
        "    [10, 20, 30, 40],\n",
        "    [100, 200, 300, 400],\n",
        "])\n",
        "\n",
        "print(f\"\"\"{a}\n",
        "\n",
        "Element at second row, third column: {a[1,2]}\n",
        "Entire first row: {a[0]}\n",
        "Entire first row as 2-d array: {a[0, None]}\n",
        "First and second rows, last column: {a[:2,-1]}\n",
        "\"\"\")"
      ]
    },
    {
      "cell_type": "markdown",
      "metadata": {
        "id": "73U50rHA2E5b"
      },
      "source": [
        "The same goes with all n-dim arrays. For instance, let's extract first matrix, all rows, first column. You can also use indexing to assign multiple values to array cell at once."
      ]
    },
    {
      "cell_type": "code",
      "execution_count": 36,
      "metadata": {
        "ExecuteTime": {
          "end_time": "2021-03-04T13:20:16.240846Z",
          "start_time": "2021-03-04T13:20:16.234427Z"
        },
        "id": "1g25c3v-2E5b"
      },
      "outputs": [
        {
          "data": {
            "text/plain": [
              "array([[[0, 0],\n",
              "        [0, 1]],\n",
              "\n",
              "       [[1, 0],\n",
              "        [1, 1]]])"
            ]
          },
          "execution_count": 36,
          "metadata": {},
          "output_type": "execute_result"
        }
      ],
      "source": [
        "a_3d"
      ]
    },
    {
      "cell_type": "code",
      "execution_count": 37,
      "metadata": {
        "ExecuteTime": {
          "end_time": "2021-03-04T13:20:57.303804Z",
          "start_time": "2021-03-04T13:20:57.290046Z"
        },
        "id": "fEti6Mxx2E5b"
      },
      "outputs": [
        {
          "data": {
            "text/plain": [
              "array([0, 0])"
            ]
          },
          "execution_count": 37,
          "metadata": {},
          "output_type": "execute_result"
        }
      ],
      "source": [
        "a_3d[0, :,0]"
      ]
    },
    {
      "cell_type": "code",
      "execution_count": 38,
      "metadata": {
        "ExecuteTime": {
          "end_time": "2021-03-04T13:21:21.940140Z",
          "start_time": "2021-03-04T13:21:21.936109Z"
        },
        "id": "LrQNuGuR2E5c"
      },
      "outputs": [
        {
          "name": "stdout",
          "output_type": "stream",
          "text": [
            "[[[ 0  0]\n",
            "  [ 0  1]]\n",
            "\n",
            " [[ 1 -1]\n",
            "  [ 1 -1]]]\n"
          ]
        }
      ],
      "source": [
        "a_3d[1, :, 1] = -1\n",
        "\n",
        "print(a_3d)"
      ]
    },
    {
      "cell_type": "markdown",
      "metadata": {
        "id": "YKz9r_CQ2E5c"
      },
      "source": [
        "## Basic operations on arrays\n",
        "\n",
        "All array operations are vectorized, so they tend to be very quick. By default, `NumPy` performs element-wise array operations. If you want to correctly multiply arrays, use `@` operator as shown below."
      ]
    },
    {
      "cell_type": "code",
      "execution_count": 39,
      "metadata": {
        "ExecuteTime": {
          "end_time": "2021-03-04T13:22:29.144487Z",
          "start_time": "2021-03-04T13:22:29.139066Z"
        },
        "id": "-kP_vsMp2E5c"
      },
      "outputs": [],
      "source": [
        "a = np.arange(0, 12)\n",
        "b = np.arange(12, 24)\n",
        "\n",
        "a.shape = b.shape = 3, 4"
      ]
    },
    {
      "cell_type": "code",
      "execution_count": 40,
      "metadata": {
        "ExecuteTime": {
          "end_time": "2021-03-04T13:22:48.461576Z",
          "start_time": "2021-03-04T13:22:48.455160Z"
        },
        "id": "vp_JnAs-2E5c",
        "outputId": "5f14f2c4-10c0-45cc-8adc-c79b48cc3302"
      },
      "outputs": [
        {
          "data": {
            "text/plain": [
              "array([[ 0,  1,  2,  3],\n",
              "       [ 4,  5,  6,  7],\n",
              "       [ 8,  9, 10, 11]])"
            ]
          },
          "execution_count": 40,
          "metadata": {},
          "output_type": "execute_result"
        }
      ],
      "source": [
        "a"
      ]
    },
    {
      "cell_type": "code",
      "execution_count": 41,
      "metadata": {
        "ExecuteTime": {
          "end_time": "2021-03-04T13:23:07.434526Z",
          "start_time": "2021-03-04T13:23:07.425287Z"
        },
        "id": "Ud5VSGHj2E5c",
        "outputId": "b8fd7a40-7070-4000-b667-3894f99ae03f"
      },
      "outputs": [
        {
          "data": {
            "text/plain": [
              "array([[12, 13, 14, 15],\n",
              "       [16, 17, 18, 19],\n",
              "       [20, 21, 22, 23]])"
            ]
          },
          "execution_count": 41,
          "metadata": {},
          "output_type": "execute_result"
        }
      ],
      "source": [
        "b"
      ]
    },
    {
      "cell_type": "code",
      "execution_count": 42,
      "metadata": {
        "ExecuteTime": {
          "end_time": "2021-03-04T13:23:28.286320Z",
          "start_time": "2021-03-04T13:23:28.278655Z"
        },
        "id": "TV4D7LTN2E5d",
        "outputId": "4afb39a9-4a50-4493-e6df-836992117d0b"
      },
      "outputs": [
        {
          "data": {
            "text/plain": [
              "array([[12, 14, 16, 18],\n",
              "       [20, 22, 24, 26],\n",
              "       [28, 30, 32, 34]])"
            ]
          },
          "execution_count": 42,
          "metadata": {},
          "output_type": "execute_result"
        }
      ],
      "source": [
        "a + b"
      ]
    },
    {
      "cell_type": "code",
      "execution_count": 43,
      "metadata": {
        "ExecuteTime": {
          "end_time": "2021-03-04T00:22:14.920011Z",
          "start_time": "2021-03-04T00:22:14.917144Z"
        },
        "id": "iV5rGEWq2E5d",
        "outputId": "a39288e1-9d9c-462f-bba1-1e1004b69bc6"
      },
      "outputs": [
        {
          "data": {
            "text/plain": [
              "array([[12, 12, 12, 12],\n",
              "       [12, 12, 12, 12],\n",
              "       [12, 12, 12, 12]])"
            ]
          },
          "execution_count": 43,
          "metadata": {},
          "output_type": "execute_result"
        }
      ],
      "source": [
        "b - a"
      ]
    },
    {
      "cell_type": "code",
      "execution_count": 44,
      "metadata": {
        "ExecuteTime": {
          "end_time": "2021-03-04T13:23:49.057702Z",
          "start_time": "2021-03-04T13:23:49.047245Z"
        },
        "id": "DSzTIVUu2E5d",
        "outputId": "4c4fe746-43a0-4c39-95bd-01093f474d40"
      },
      "outputs": [
        {
          "data": {
            "text/plain": [
              "array([[  0,  10,  20,  30],\n",
              "       [ 40,  50,  60,  70],\n",
              "       [ 80,  90, 100, 110]])"
            ]
          },
          "execution_count": 44,
          "metadata": {},
          "output_type": "execute_result"
        }
      ],
      "source": [
        "a * 10"
      ]
    },
    {
      "cell_type": "code",
      "execution_count": 45,
      "metadata": {
        "ExecuteTime": {
          "end_time": "2021-03-04T13:24:31.691102Z",
          "start_time": "2021-03-04T13:24:31.599197Z"
        },
        "id": "6q6KpBS02E5d",
        "outputId": "ba9d5906-b7f4-4974-d143-711c2f1a02ba"
      },
      "outputs": [
        {
          "data": {
            "text/plain": [
              "array([[ 86, 110, 134],\n",
              "       [302, 390, 478],\n",
              "       [518, 670, 822]])"
            ]
          },
          "execution_count": 45,
          "metadata": {},
          "output_type": "execute_result"
        }
      ],
      "source": [
        "a @ b.T"
      ]
    },
    {
      "cell_type": "markdown",
      "metadata": {
        "id": "Iv3ff3Ak2E5e"
      },
      "source": [
        "## Homework"
      ]
    },
    {
      "cell_type": "markdown",
      "metadata": {
        "id": "pdlWCXA72E5e"
      },
      "source": [
        "### Calculating sliding averages\n",
        "\n",
        "Given an array of daily measurements, create a new array with averages computed over each pair of consecutive days. Compare the execution time of various solutions."
      ]
    },
    {
      "cell_type": "markdown",
      "metadata": {
        "id": "CO7Wk8fP6djB"
      },
      "source": [
        "In the first solution you should use the for loop comprehension in order to create an array of pairs of measurements. Then, using the numpy average function calculate averages over the list of pairs."
      ]
    },
    {
      "cell_type": "code",
      "execution_count": 48,
      "metadata": {
        "id": "YFjznjg88ruo"
      },
      "outputs": [
        {
          "data": {
            "text/plain": [
              "array([ 0,  1,  2,  3,  4,  5,  6,  7,  8,  9, 10, 11, 12, 13, 14, 15, 16,\n",
              "       17, 18, 19, 20, 21, 22, 23, 24, 25, 26, 27, 28, 29, 30, 31, 32, 33,\n",
              "       34, 35, 36, 37, 38, 39, 40, 41, 42, 43, 44, 45, 46, 47, 48, 49, 50,\n",
              "       51, 52, 53, 54, 55, 56, 57, 58, 59, 60, 61, 62, 63, 64, 65, 66, 67,\n",
              "       68, 69, 70, 71, 72, 73, 74, 75, 76, 77, 78, 79, 80, 81, 82, 83, 84,\n",
              "       85, 86, 87, 88, 89, 90, 91, 92, 93, 94, 95, 96, 97, 98, 99])"
            ]
          },
          "execution_count": 48,
          "metadata": {},
          "output_type": "execute_result"
        }
      ],
      "source": [
        "measurements = np.arange(100)\n",
        "measurements"
      ]
    },
    {
      "cell_type": "code",
      "execution_count": 47,
      "metadata": {
        "id": "s6Hqn-n-7L_A"
      },
      "outputs": [
        {
          "name": "stdout",
          "output_type": "stream",
          "text": [
            "\u001b[0;31mSignature:\u001b[0m      \n",
            "\u001b[0mnp\u001b[0m\u001b[0;34m.\u001b[0m\u001b[0maverage\u001b[0m\u001b[0;34m(\u001b[0m\u001b[0;34m\u001b[0m\n",
            "\u001b[0;34m\u001b[0m    \u001b[0ma\u001b[0m\u001b[0;34m,\u001b[0m\u001b[0;34m\u001b[0m\n",
            "\u001b[0;34m\u001b[0m    \u001b[0maxis\u001b[0m\u001b[0;34m=\u001b[0m\u001b[0;32mNone\u001b[0m\u001b[0;34m,\u001b[0m\u001b[0;34m\u001b[0m\n",
            "\u001b[0;34m\u001b[0m    \u001b[0mweights\u001b[0m\u001b[0;34m=\u001b[0m\u001b[0;32mNone\u001b[0m\u001b[0;34m,\u001b[0m\u001b[0;34m\u001b[0m\n",
            "\u001b[0;34m\u001b[0m    \u001b[0mreturned\u001b[0m\u001b[0;34m=\u001b[0m\u001b[0;32mFalse\u001b[0m\u001b[0;34m,\u001b[0m\u001b[0;34m\u001b[0m\n",
            "\u001b[0;34m\u001b[0m    \u001b[0;34m*\u001b[0m\u001b[0;34m,\u001b[0m\u001b[0;34m\u001b[0m\n",
            "\u001b[0;34m\u001b[0m    \u001b[0mkeepdims\u001b[0m\u001b[0;34m=\u001b[0m\u001b[0;34m<\u001b[0m\u001b[0mno\u001b[0m \u001b[0mvalue\u001b[0m\u001b[0;34m>\u001b[0m\u001b[0;34m,\u001b[0m\u001b[0;34m\u001b[0m\n",
            "\u001b[0;34m\u001b[0m\u001b[0;34m)\u001b[0m\u001b[0;34m\u001b[0m\u001b[0;34m\u001b[0m\u001b[0m\n",
            "\u001b[0;31mCall signature:\u001b[0m  \u001b[0mnp\u001b[0m\u001b[0;34m.\u001b[0m\u001b[0maverage\u001b[0m\u001b[0;34m(\u001b[0m\u001b[0;34m*\u001b[0m\u001b[0margs\u001b[0m\u001b[0;34m,\u001b[0m \u001b[0;34m**\u001b[0m\u001b[0mkwargs\u001b[0m\u001b[0;34m)\u001b[0m\u001b[0;34m\u001b[0m\u001b[0;34m\u001b[0m\u001b[0m\n",
            "\u001b[0;31mType:\u001b[0m            _ArrayFunctionDispatcher\n",
            "\u001b[0;31mString form:\u001b[0m     <function average at 0x7fae3047f240>\n",
            "\u001b[0;31mFile:\u001b[0m            ~/anaconda3/lib/python3.11/site-packages/numpy/lib/function_base.py\n",
            "\u001b[0;31mSource:\u001b[0m         \n",
            "\u001b[0;34m@\u001b[0m\u001b[0marray_function_dispatch\u001b[0m\u001b[0;34m(\u001b[0m\u001b[0m_average_dispatcher\u001b[0m\u001b[0;34m)\u001b[0m\u001b[0;34m\u001b[0m\n",
            "\u001b[0;34m\u001b[0m\u001b[0;32mdef\u001b[0m \u001b[0maverage\u001b[0m\u001b[0;34m(\u001b[0m\u001b[0ma\u001b[0m\u001b[0;34m,\u001b[0m \u001b[0maxis\u001b[0m\u001b[0;34m=\u001b[0m\u001b[0;32mNone\u001b[0m\u001b[0;34m,\u001b[0m \u001b[0mweights\u001b[0m\u001b[0;34m=\u001b[0m\u001b[0;32mNone\u001b[0m\u001b[0;34m,\u001b[0m \u001b[0mreturned\u001b[0m\u001b[0;34m=\u001b[0m\u001b[0;32mFalse\u001b[0m\u001b[0;34m,\u001b[0m \u001b[0;34m*\u001b[0m\u001b[0;34m,\u001b[0m\u001b[0;34m\u001b[0m\n",
            "\u001b[0;34m\u001b[0m            \u001b[0mkeepdims\u001b[0m\u001b[0;34m=\u001b[0m\u001b[0mnp\u001b[0m\u001b[0;34m.\u001b[0m\u001b[0m_NoValue\u001b[0m\u001b[0;34m)\u001b[0m\u001b[0;34m:\u001b[0m\u001b[0;34m\u001b[0m\n",
            "\u001b[0;34m\u001b[0m    \u001b[0;34m\"\"\"\u001b[0m\n",
            "\u001b[0;34m    Compute the weighted average along the specified axis.\u001b[0m\n",
            "\u001b[0;34m\u001b[0m\n",
            "\u001b[0;34m    Parameters\u001b[0m\n",
            "\u001b[0;34m    ----------\u001b[0m\n",
            "\u001b[0;34m    a : array_like\u001b[0m\n",
            "\u001b[0;34m        Array containing data to be averaged. If `a` is not an array, a\u001b[0m\n",
            "\u001b[0;34m        conversion is attempted.\u001b[0m\n",
            "\u001b[0;34m    axis : None or int or tuple of ints, optional\u001b[0m\n",
            "\u001b[0;34m        Axis or axes along which to average `a`.  The default,\u001b[0m\n",
            "\u001b[0;34m        axis=None, will average over all of the elements of the input array.\u001b[0m\n",
            "\u001b[0;34m        If axis is negative it counts from the last to the first axis.\u001b[0m\n",
            "\u001b[0;34m\u001b[0m\n",
            "\u001b[0;34m        .. versionadded:: 1.7.0\u001b[0m\n",
            "\u001b[0;34m\u001b[0m\n",
            "\u001b[0;34m        If axis is a tuple of ints, averaging is performed on all of the axes\u001b[0m\n",
            "\u001b[0;34m        specified in the tuple instead of a single axis or all the axes as\u001b[0m\n",
            "\u001b[0;34m        before.\u001b[0m\n",
            "\u001b[0;34m    weights : array_like, optional\u001b[0m\n",
            "\u001b[0;34m        An array of weights associated with the values in `a`. Each value in\u001b[0m\n",
            "\u001b[0;34m        `a` contributes to the average according to its associated weight.\u001b[0m\n",
            "\u001b[0;34m        The weights array can either be 1-D (in which case its length must be\u001b[0m\n",
            "\u001b[0;34m        the size of `a` along the given axis) or of the same shape as `a`.\u001b[0m\n",
            "\u001b[0;34m        If `weights=None`, then all data in `a` are assumed to have a\u001b[0m\n",
            "\u001b[0;34m        weight equal to one.  The 1-D calculation is::\u001b[0m\n",
            "\u001b[0;34m\u001b[0m\n",
            "\u001b[0;34m            avg = sum(a * weights) / sum(weights)\u001b[0m\n",
            "\u001b[0;34m\u001b[0m\n",
            "\u001b[0;34m        The only constraint on `weights` is that `sum(weights)` must not be 0.\u001b[0m\n",
            "\u001b[0;34m    returned : bool, optional\u001b[0m\n",
            "\u001b[0;34m        Default is `False`. If `True`, the tuple (`average`, `sum_of_weights`)\u001b[0m\n",
            "\u001b[0;34m        is returned, otherwise only the average is returned.\u001b[0m\n",
            "\u001b[0;34m        If `weights=None`, `sum_of_weights` is equivalent to the number of\u001b[0m\n",
            "\u001b[0;34m        elements over which the average is taken.\u001b[0m\n",
            "\u001b[0;34m    keepdims : bool, optional\u001b[0m\n",
            "\u001b[0;34m        If this is set to True, the axes which are reduced are left\u001b[0m\n",
            "\u001b[0;34m        in the result as dimensions with size one. With this option,\u001b[0m\n",
            "\u001b[0;34m        the result will broadcast correctly against the original `a`.\u001b[0m\n",
            "\u001b[0;34m        *Note:* `keepdims` will not work with instances of `numpy.matrix`\u001b[0m\n",
            "\u001b[0;34m        or other classes whose methods do not support `keepdims`.\u001b[0m\n",
            "\u001b[0;34m\u001b[0m\n",
            "\u001b[0;34m        .. versionadded:: 1.23.0\u001b[0m\n",
            "\u001b[0;34m\u001b[0m\n",
            "\u001b[0;34m    Returns\u001b[0m\n",
            "\u001b[0;34m    -------\u001b[0m\n",
            "\u001b[0;34m    retval, [sum_of_weights] : array_type or double\u001b[0m\n",
            "\u001b[0;34m        Return the average along the specified axis. When `returned` is `True`,\u001b[0m\n",
            "\u001b[0;34m        return a tuple with the average as the first element and the sum\u001b[0m\n",
            "\u001b[0;34m        of the weights as the second element. `sum_of_weights` is of the\u001b[0m\n",
            "\u001b[0;34m        same type as `retval`. The result dtype follows a genereal pattern.\u001b[0m\n",
            "\u001b[0;34m        If `weights` is None, the result dtype will be that of `a` , or ``float64``\u001b[0m\n",
            "\u001b[0;34m        if `a` is integral. Otherwise, if `weights` is not None and `a` is non-\u001b[0m\n",
            "\u001b[0;34m        integral, the result type will be the type of lowest precision capable of\u001b[0m\n",
            "\u001b[0;34m        representing values of both `a` and `weights`. If `a` happens to be\u001b[0m\n",
            "\u001b[0;34m        integral, the previous rules still applies but the result dtype will\u001b[0m\n",
            "\u001b[0;34m        at least be ``float64``.\u001b[0m\n",
            "\u001b[0;34m\u001b[0m\n",
            "\u001b[0;34m    Raises\u001b[0m\n",
            "\u001b[0;34m    ------\u001b[0m\n",
            "\u001b[0;34m    ZeroDivisionError\u001b[0m\n",
            "\u001b[0;34m        When all weights along axis are zero. See `numpy.ma.average` for a\u001b[0m\n",
            "\u001b[0;34m        version robust to this type of error.\u001b[0m\n",
            "\u001b[0;34m    TypeError\u001b[0m\n",
            "\u001b[0;34m        When the length of 1D `weights` is not the same as the shape of `a`\u001b[0m\n",
            "\u001b[0;34m        along axis.\u001b[0m\n",
            "\u001b[0;34m\u001b[0m\n",
            "\u001b[0;34m    See Also\u001b[0m\n",
            "\u001b[0;34m    --------\u001b[0m\n",
            "\u001b[0;34m    mean\u001b[0m\n",
            "\u001b[0;34m\u001b[0m\n",
            "\u001b[0;34m    ma.average : average for masked arrays -- useful if your data contains\u001b[0m\n",
            "\u001b[0;34m                 \"missing\" values\u001b[0m\n",
            "\u001b[0;34m    numpy.result_type : Returns the type that results from applying the\u001b[0m\n",
            "\u001b[0;34m                        numpy type promotion rules to the arguments.\u001b[0m\n",
            "\u001b[0;34m\u001b[0m\n",
            "\u001b[0;34m    Examples\u001b[0m\n",
            "\u001b[0;34m    --------\u001b[0m\n",
            "\u001b[0;34m    >>> data = np.arange(1, 5)\u001b[0m\n",
            "\u001b[0;34m    >>> data\u001b[0m\n",
            "\u001b[0;34m    array([1, 2, 3, 4])\u001b[0m\n",
            "\u001b[0;34m    >>> np.average(data)\u001b[0m\n",
            "\u001b[0;34m    2.5\u001b[0m\n",
            "\u001b[0;34m    >>> np.average(np.arange(1, 11), weights=np.arange(10, 0, -1))\u001b[0m\n",
            "\u001b[0;34m    4.0\u001b[0m\n",
            "\u001b[0;34m\u001b[0m\n",
            "\u001b[0;34m    >>> data = np.arange(6).reshape((3, 2))\u001b[0m\n",
            "\u001b[0;34m    >>> data\u001b[0m\n",
            "\u001b[0;34m    array([[0, 1],\u001b[0m\n",
            "\u001b[0;34m           [2, 3],\u001b[0m\n",
            "\u001b[0;34m           [4, 5]])\u001b[0m\n",
            "\u001b[0;34m    >>> np.average(data, axis=1, weights=[1./4, 3./4])\u001b[0m\n",
            "\u001b[0;34m    array([0.75, 2.75, 4.75])\u001b[0m\n",
            "\u001b[0;34m    >>> np.average(data, weights=[1./4, 3./4])\u001b[0m\n",
            "\u001b[0;34m    Traceback (most recent call last):\u001b[0m\n",
            "\u001b[0;34m        ...\u001b[0m\n",
            "\u001b[0;34m    TypeError: Axis must be specified when shapes of a and weights differ.\u001b[0m\n",
            "\u001b[0;34m\u001b[0m\n",
            "\u001b[0;34m    >>> a = np.ones(5, dtype=np.float128)\u001b[0m\n",
            "\u001b[0;34m    >>> w = np.ones(5, dtype=np.complex64)\u001b[0m\n",
            "\u001b[0;34m    >>> avg = np.average(a, weights=w)\u001b[0m\n",
            "\u001b[0;34m    >>> print(avg.dtype)\u001b[0m\n",
            "\u001b[0;34m    complex256\u001b[0m\n",
            "\u001b[0;34m\u001b[0m\n",
            "\u001b[0;34m    With ``keepdims=True``, the following result has shape (3, 1).\u001b[0m\n",
            "\u001b[0;34m\u001b[0m\n",
            "\u001b[0;34m    >>> np.average(data, axis=1, keepdims=True)\u001b[0m\n",
            "\u001b[0;34m    array([[0.5],\u001b[0m\n",
            "\u001b[0;34m           [2.5],\u001b[0m\n",
            "\u001b[0;34m           [4.5]])\u001b[0m\n",
            "\u001b[0;34m    \"\"\"\u001b[0m\u001b[0;34m\u001b[0m\n",
            "\u001b[0;34m\u001b[0m    \u001b[0ma\u001b[0m \u001b[0;34m=\u001b[0m \u001b[0mnp\u001b[0m\u001b[0;34m.\u001b[0m\u001b[0masanyarray\u001b[0m\u001b[0;34m(\u001b[0m\u001b[0ma\u001b[0m\u001b[0;34m)\u001b[0m\u001b[0;34m\u001b[0m\n",
            "\u001b[0;34m\u001b[0m\u001b[0;34m\u001b[0m\n",
            "\u001b[0;34m\u001b[0m    \u001b[0;32mif\u001b[0m \u001b[0mkeepdims\u001b[0m \u001b[0;32mis\u001b[0m \u001b[0mnp\u001b[0m\u001b[0;34m.\u001b[0m\u001b[0m_NoValue\u001b[0m\u001b[0;34m:\u001b[0m\u001b[0;34m\u001b[0m\n",
            "\u001b[0;34m\u001b[0m        \u001b[0;31m# Don't pass on the keepdims argument if one wasn't given.\u001b[0m\u001b[0;34m\u001b[0m\n",
            "\u001b[0;34m\u001b[0m        \u001b[0mkeepdims_kw\u001b[0m \u001b[0;34m=\u001b[0m \u001b[0;34m{\u001b[0m\u001b[0;34m}\u001b[0m\u001b[0;34m\u001b[0m\n",
            "\u001b[0;34m\u001b[0m    \u001b[0;32melse\u001b[0m\u001b[0;34m:\u001b[0m\u001b[0;34m\u001b[0m\n",
            "\u001b[0;34m\u001b[0m        \u001b[0mkeepdims_kw\u001b[0m \u001b[0;34m=\u001b[0m \u001b[0;34m{\u001b[0m\u001b[0;34m'keepdims'\u001b[0m\u001b[0;34m:\u001b[0m \u001b[0mkeepdims\u001b[0m\u001b[0;34m}\u001b[0m\u001b[0;34m\u001b[0m\n",
            "\u001b[0;34m\u001b[0m\u001b[0;34m\u001b[0m\n",
            "\u001b[0;34m\u001b[0m    \u001b[0;32mif\u001b[0m \u001b[0mweights\u001b[0m \u001b[0;32mis\u001b[0m \u001b[0;32mNone\u001b[0m\u001b[0;34m:\u001b[0m\u001b[0;34m\u001b[0m\n",
            "\u001b[0;34m\u001b[0m        \u001b[0mavg\u001b[0m \u001b[0;34m=\u001b[0m \u001b[0ma\u001b[0m\u001b[0;34m.\u001b[0m\u001b[0mmean\u001b[0m\u001b[0;34m(\u001b[0m\u001b[0maxis\u001b[0m\u001b[0;34m,\u001b[0m \u001b[0;34m**\u001b[0m\u001b[0mkeepdims_kw\u001b[0m\u001b[0;34m)\u001b[0m\u001b[0;34m\u001b[0m\n",
            "\u001b[0;34m\u001b[0m        \u001b[0mavg_as_array\u001b[0m \u001b[0;34m=\u001b[0m \u001b[0mnp\u001b[0m\u001b[0;34m.\u001b[0m\u001b[0masanyarray\u001b[0m\u001b[0;34m(\u001b[0m\u001b[0mavg\u001b[0m\u001b[0;34m)\u001b[0m\u001b[0;34m\u001b[0m\n",
            "\u001b[0;34m\u001b[0m        \u001b[0mscl\u001b[0m \u001b[0;34m=\u001b[0m \u001b[0mavg_as_array\u001b[0m\u001b[0;34m.\u001b[0m\u001b[0mdtype\u001b[0m\u001b[0;34m.\u001b[0m\u001b[0mtype\u001b[0m\u001b[0;34m(\u001b[0m\u001b[0ma\u001b[0m\u001b[0;34m.\u001b[0m\u001b[0msize\u001b[0m\u001b[0;34m/\u001b[0m\u001b[0mavg_as_array\u001b[0m\u001b[0;34m.\u001b[0m\u001b[0msize\u001b[0m\u001b[0;34m)\u001b[0m\u001b[0;34m\u001b[0m\n",
            "\u001b[0;34m\u001b[0m    \u001b[0;32melse\u001b[0m\u001b[0;34m:\u001b[0m\u001b[0;34m\u001b[0m\n",
            "\u001b[0;34m\u001b[0m        \u001b[0mwgt\u001b[0m \u001b[0;34m=\u001b[0m \u001b[0mnp\u001b[0m\u001b[0;34m.\u001b[0m\u001b[0masanyarray\u001b[0m\u001b[0;34m(\u001b[0m\u001b[0mweights\u001b[0m\u001b[0;34m)\u001b[0m\u001b[0;34m\u001b[0m\n",
            "\u001b[0;34m\u001b[0m\u001b[0;34m\u001b[0m\n",
            "\u001b[0;34m\u001b[0m        \u001b[0;32mif\u001b[0m \u001b[0missubclass\u001b[0m\u001b[0;34m(\u001b[0m\u001b[0ma\u001b[0m\u001b[0;34m.\u001b[0m\u001b[0mdtype\u001b[0m\u001b[0;34m.\u001b[0m\u001b[0mtype\u001b[0m\u001b[0;34m,\u001b[0m \u001b[0;34m(\u001b[0m\u001b[0mnp\u001b[0m\u001b[0;34m.\u001b[0m\u001b[0minteger\u001b[0m\u001b[0;34m,\u001b[0m \u001b[0mnp\u001b[0m\u001b[0;34m.\u001b[0m\u001b[0mbool_\u001b[0m\u001b[0;34m)\u001b[0m\u001b[0;34m)\u001b[0m\u001b[0;34m:\u001b[0m\u001b[0;34m\u001b[0m\n",
            "\u001b[0;34m\u001b[0m            \u001b[0mresult_dtype\u001b[0m \u001b[0;34m=\u001b[0m \u001b[0mnp\u001b[0m\u001b[0;34m.\u001b[0m\u001b[0mresult_type\u001b[0m\u001b[0;34m(\u001b[0m\u001b[0ma\u001b[0m\u001b[0;34m.\u001b[0m\u001b[0mdtype\u001b[0m\u001b[0;34m,\u001b[0m \u001b[0mwgt\u001b[0m\u001b[0;34m.\u001b[0m\u001b[0mdtype\u001b[0m\u001b[0;34m,\u001b[0m \u001b[0;34m'f8'\u001b[0m\u001b[0;34m)\u001b[0m\u001b[0;34m\u001b[0m\n",
            "\u001b[0;34m\u001b[0m        \u001b[0;32melse\u001b[0m\u001b[0;34m:\u001b[0m\u001b[0;34m\u001b[0m\n",
            "\u001b[0;34m\u001b[0m            \u001b[0mresult_dtype\u001b[0m \u001b[0;34m=\u001b[0m \u001b[0mnp\u001b[0m\u001b[0;34m.\u001b[0m\u001b[0mresult_type\u001b[0m\u001b[0;34m(\u001b[0m\u001b[0ma\u001b[0m\u001b[0;34m.\u001b[0m\u001b[0mdtype\u001b[0m\u001b[0;34m,\u001b[0m \u001b[0mwgt\u001b[0m\u001b[0;34m.\u001b[0m\u001b[0mdtype\u001b[0m\u001b[0;34m)\u001b[0m\u001b[0;34m\u001b[0m\n",
            "\u001b[0;34m\u001b[0m\u001b[0;34m\u001b[0m\n",
            "\u001b[0;34m\u001b[0m        \u001b[0;31m# Sanity checks\u001b[0m\u001b[0;34m\u001b[0m\n",
            "\u001b[0;34m\u001b[0m        \u001b[0;32mif\u001b[0m \u001b[0ma\u001b[0m\u001b[0;34m.\u001b[0m\u001b[0mshape\u001b[0m \u001b[0;34m!=\u001b[0m \u001b[0mwgt\u001b[0m\u001b[0;34m.\u001b[0m\u001b[0mshape\u001b[0m\u001b[0;34m:\u001b[0m\u001b[0;34m\u001b[0m\n",
            "\u001b[0;34m\u001b[0m            \u001b[0;32mif\u001b[0m \u001b[0maxis\u001b[0m \u001b[0;32mis\u001b[0m \u001b[0;32mNone\u001b[0m\u001b[0;34m:\u001b[0m\u001b[0;34m\u001b[0m\n",
            "\u001b[0;34m\u001b[0m                \u001b[0;32mraise\u001b[0m \u001b[0mTypeError\u001b[0m\u001b[0;34m(\u001b[0m\u001b[0;34m\u001b[0m\n",
            "\u001b[0;34m\u001b[0m                    \u001b[0;34m\"Axis must be specified when shapes of a and weights \"\u001b[0m\u001b[0;34m\u001b[0m\n",
            "\u001b[0;34m\u001b[0m                    \u001b[0;34m\"differ.\"\u001b[0m\u001b[0;34m)\u001b[0m\u001b[0;34m\u001b[0m\n",
            "\u001b[0;34m\u001b[0m            \u001b[0;32mif\u001b[0m \u001b[0mwgt\u001b[0m\u001b[0;34m.\u001b[0m\u001b[0mndim\u001b[0m \u001b[0;34m!=\u001b[0m \u001b[0;36m1\u001b[0m\u001b[0;34m:\u001b[0m\u001b[0;34m\u001b[0m\n",
            "\u001b[0;34m\u001b[0m                \u001b[0;32mraise\u001b[0m \u001b[0mTypeError\u001b[0m\u001b[0;34m(\u001b[0m\u001b[0;34m\u001b[0m\n",
            "\u001b[0;34m\u001b[0m                    \u001b[0;34m\"1D weights expected when shapes of a and weights differ.\"\u001b[0m\u001b[0;34m)\u001b[0m\u001b[0;34m\u001b[0m\n",
            "\u001b[0;34m\u001b[0m            \u001b[0;32mif\u001b[0m \u001b[0mwgt\u001b[0m\u001b[0;34m.\u001b[0m\u001b[0mshape\u001b[0m\u001b[0;34m[\u001b[0m\u001b[0;36m0\u001b[0m\u001b[0;34m]\u001b[0m \u001b[0;34m!=\u001b[0m \u001b[0ma\u001b[0m\u001b[0;34m.\u001b[0m\u001b[0mshape\u001b[0m\u001b[0;34m[\u001b[0m\u001b[0maxis\u001b[0m\u001b[0;34m]\u001b[0m\u001b[0;34m:\u001b[0m\u001b[0;34m\u001b[0m\n",
            "\u001b[0;34m\u001b[0m                \u001b[0;32mraise\u001b[0m \u001b[0mValueError\u001b[0m\u001b[0;34m(\u001b[0m\u001b[0;34m\u001b[0m\n",
            "\u001b[0;34m\u001b[0m                    \u001b[0;34m\"Length of weights not compatible with specified axis.\"\u001b[0m\u001b[0;34m)\u001b[0m\u001b[0;34m\u001b[0m\n",
            "\u001b[0;34m\u001b[0m\u001b[0;34m\u001b[0m\n",
            "\u001b[0;34m\u001b[0m            \u001b[0;31m# setup wgt to broadcast along axis\u001b[0m\u001b[0;34m\u001b[0m\n",
            "\u001b[0;34m\u001b[0m            \u001b[0mwgt\u001b[0m \u001b[0;34m=\u001b[0m \u001b[0mnp\u001b[0m\u001b[0;34m.\u001b[0m\u001b[0mbroadcast_to\u001b[0m\u001b[0;34m(\u001b[0m\u001b[0mwgt\u001b[0m\u001b[0;34m,\u001b[0m \u001b[0;34m(\u001b[0m\u001b[0ma\u001b[0m\u001b[0;34m.\u001b[0m\u001b[0mndim\u001b[0m\u001b[0;34m-\u001b[0m\u001b[0;36m1\u001b[0m\u001b[0;34m)\u001b[0m\u001b[0;34m*\u001b[0m\u001b[0;34m(\u001b[0m\u001b[0;36m1\u001b[0m\u001b[0;34m,\u001b[0m\u001b[0;34m)\u001b[0m \u001b[0;34m+\u001b[0m \u001b[0mwgt\u001b[0m\u001b[0;34m.\u001b[0m\u001b[0mshape\u001b[0m\u001b[0;34m)\u001b[0m\u001b[0;34m\u001b[0m\n",
            "\u001b[0;34m\u001b[0m            \u001b[0mwgt\u001b[0m \u001b[0;34m=\u001b[0m \u001b[0mwgt\u001b[0m\u001b[0;34m.\u001b[0m\u001b[0mswapaxes\u001b[0m\u001b[0;34m(\u001b[0m\u001b[0;34m-\u001b[0m\u001b[0;36m1\u001b[0m\u001b[0;34m,\u001b[0m \u001b[0maxis\u001b[0m\u001b[0;34m)\u001b[0m\u001b[0;34m\u001b[0m\n",
            "\u001b[0;34m\u001b[0m\u001b[0;34m\u001b[0m\n",
            "\u001b[0;34m\u001b[0m        \u001b[0mscl\u001b[0m \u001b[0;34m=\u001b[0m \u001b[0mwgt\u001b[0m\u001b[0;34m.\u001b[0m\u001b[0msum\u001b[0m\u001b[0;34m(\u001b[0m\u001b[0maxis\u001b[0m\u001b[0;34m=\u001b[0m\u001b[0maxis\u001b[0m\u001b[0;34m,\u001b[0m \u001b[0mdtype\u001b[0m\u001b[0;34m=\u001b[0m\u001b[0mresult_dtype\u001b[0m\u001b[0;34m,\u001b[0m \u001b[0;34m**\u001b[0m\u001b[0mkeepdims_kw\u001b[0m\u001b[0;34m)\u001b[0m\u001b[0;34m\u001b[0m\n",
            "\u001b[0;34m\u001b[0m        \u001b[0;32mif\u001b[0m \u001b[0mnp\u001b[0m\u001b[0;34m.\u001b[0m\u001b[0many\u001b[0m\u001b[0;34m(\u001b[0m\u001b[0mscl\u001b[0m \u001b[0;34m==\u001b[0m \u001b[0;36m0.0\u001b[0m\u001b[0;34m)\u001b[0m\u001b[0;34m:\u001b[0m\u001b[0;34m\u001b[0m\n",
            "\u001b[0;34m\u001b[0m            \u001b[0;32mraise\u001b[0m \u001b[0mZeroDivisionError\u001b[0m\u001b[0;34m(\u001b[0m\u001b[0;34m\u001b[0m\n",
            "\u001b[0;34m\u001b[0m                \u001b[0;34m\"Weights sum to zero, can't be normalized\"\u001b[0m\u001b[0;34m)\u001b[0m\u001b[0;34m\u001b[0m\n",
            "\u001b[0;34m\u001b[0m\u001b[0;34m\u001b[0m\n",
            "\u001b[0;34m\u001b[0m        \u001b[0mavg\u001b[0m \u001b[0;34m=\u001b[0m \u001b[0mavg_as_array\u001b[0m \u001b[0;34m=\u001b[0m \u001b[0mnp\u001b[0m\u001b[0;34m.\u001b[0m\u001b[0mmultiply\u001b[0m\u001b[0;34m(\u001b[0m\u001b[0ma\u001b[0m\u001b[0;34m,\u001b[0m \u001b[0mwgt\u001b[0m\u001b[0;34m,\u001b[0m\u001b[0;34m\u001b[0m\n",
            "\u001b[0;34m\u001b[0m                          \u001b[0mdtype\u001b[0m\u001b[0;34m=\u001b[0m\u001b[0mresult_dtype\u001b[0m\u001b[0;34m)\u001b[0m\u001b[0;34m.\u001b[0m\u001b[0msum\u001b[0m\u001b[0;34m(\u001b[0m\u001b[0maxis\u001b[0m\u001b[0;34m,\u001b[0m \u001b[0;34m**\u001b[0m\u001b[0mkeepdims_kw\u001b[0m\u001b[0;34m)\u001b[0m \u001b[0;34m/\u001b[0m \u001b[0mscl\u001b[0m\u001b[0;34m\u001b[0m\n",
            "\u001b[0;34m\u001b[0m\u001b[0;34m\u001b[0m\n",
            "\u001b[0;34m\u001b[0m    \u001b[0;32mif\u001b[0m \u001b[0mreturned\u001b[0m\u001b[0;34m:\u001b[0m\u001b[0;34m\u001b[0m\n",
            "\u001b[0;34m\u001b[0m        \u001b[0;32mif\u001b[0m \u001b[0mscl\u001b[0m\u001b[0;34m.\u001b[0m\u001b[0mshape\u001b[0m \u001b[0;34m!=\u001b[0m \u001b[0mavg_as_array\u001b[0m\u001b[0;34m.\u001b[0m\u001b[0mshape\u001b[0m\u001b[0;34m:\u001b[0m\u001b[0;34m\u001b[0m\n",
            "\u001b[0;34m\u001b[0m            \u001b[0mscl\u001b[0m \u001b[0;34m=\u001b[0m \u001b[0mnp\u001b[0m\u001b[0;34m.\u001b[0m\u001b[0mbroadcast_to\u001b[0m\u001b[0;34m(\u001b[0m\u001b[0mscl\u001b[0m\u001b[0;34m,\u001b[0m \u001b[0mavg_as_array\u001b[0m\u001b[0;34m.\u001b[0m\u001b[0mshape\u001b[0m\u001b[0;34m)\u001b[0m\u001b[0;34m.\u001b[0m\u001b[0mcopy\u001b[0m\u001b[0;34m(\u001b[0m\u001b[0;34m)\u001b[0m\u001b[0;34m\u001b[0m\n",
            "\u001b[0;34m\u001b[0m        \u001b[0;32mreturn\u001b[0m \u001b[0mavg\u001b[0m\u001b[0;34m,\u001b[0m \u001b[0mscl\u001b[0m\u001b[0;34m\u001b[0m\n",
            "\u001b[0;34m\u001b[0m    \u001b[0;32melse\u001b[0m\u001b[0;34m:\u001b[0m\u001b[0;34m\u001b[0m\n",
            "\u001b[0;34m\u001b[0m        \u001b[0;32mreturn\u001b[0m \u001b[0mavg\u001b[0m\u001b[0;34m\u001b[0m\u001b[0;34m\u001b[0m\u001b[0m\n",
            "\u001b[0;31mClass docstring:\u001b[0m\n",
            "Class to wrap functions with checks for __array_function__ overrides.\n",
            "\n",
            "All arguments are required, and can only be passed by position.\n",
            "\n",
            "Parameters\n",
            "----------\n",
            "dispatcher : function or None\n",
            "    The dispatcher function that returns a single sequence-like object\n",
            "    of all arguments relevant.  It must have the same signature (except\n",
            "    the default values) as the actual implementation.\n",
            "    If ``None``, this is a ``like=`` dispatcher and the\n",
            "    ``_ArrayFunctionDispatcher`` must be called with ``like`` as the\n",
            "    first (additional and positional) argument.\n",
            "implementation : function\n",
            "    Function that implements the operation on NumPy arrays without\n",
            "    overrides.  Arguments passed calling the ``_ArrayFunctionDispatcher``\n",
            "    will be forwarded to this (and the ``dispatcher``) as if using\n",
            "    ``*args, **kwargs``.\n",
            "\n",
            "Attributes\n",
            "----------\n",
            "_implementation : function\n",
            "    The original implementation passed in."
          ]
        }
      ],
      "source": [
        "??np.average"
      ]
    },
    {
      "cell_type": "code",
      "execution_count": 52,
      "metadata": {
        "ExecuteTime": {
          "end_time": "2021-03-04T13:31:26.704866Z",
          "start_time": "2021-03-04T13:31:26.701305Z"
        },
        "colab": {
          "base_uri": "https://localhost:8080/"
        },
        "id": "UhJDtQnK2E5e",
        "outputId": "c4e86e17-e177-4a6a-f387-56a3deb41a65"
      },
      "outputs": [
        {
          "name": "stdout",
          "output_type": "stream",
          "text": [
            "113 µs ± 27.1 µs per loop (mean ± std. dev. of 7 runs, 1,000 loops each)\n"
          ]
        }
      ],
      "source": [
        "%%timeit\n",
        "pairs = [[measurements[i],measurements[i]] for i in range(len(measurements)-1)]\n",
        "np.mean(pairs,axis=1)"
      ]
    },
    {
      "cell_type": "markdown",
      "metadata": {
        "id": "Pi9b3djK62tE"
      },
      "source": [
        "In the second solution you are still supposed to create an array of pairs of measurements. This time use the numpy vstack to stack two duplicates of the measurements array. Cut the last day from the first duplicate, cut the first day from the second duplicate. Remember to check the validity of the solution, use transposition if necessary."
      ]
    },
    {
      "cell_type": "code",
      "execution_count": 53,
      "metadata": {
        "id": "wxTuSlDM7Qxy"
      },
      "outputs": [
        {
          "name": "stdout",
          "output_type": "stream",
          "text": [
            "\u001b[0;31mSignature:\u001b[0m       \u001b[0mnp\u001b[0m\u001b[0;34m.\u001b[0m\u001b[0mvstack\u001b[0m\u001b[0;34m(\u001b[0m\u001b[0mtup\u001b[0m\u001b[0;34m,\u001b[0m \u001b[0;34m*\u001b[0m\u001b[0;34m,\u001b[0m \u001b[0mdtype\u001b[0m\u001b[0;34m=\u001b[0m\u001b[0;32mNone\u001b[0m\u001b[0;34m,\u001b[0m \u001b[0mcasting\u001b[0m\u001b[0;34m=\u001b[0m\u001b[0;34m'same_kind'\u001b[0m\u001b[0;34m)\u001b[0m\u001b[0;34m\u001b[0m\u001b[0;34m\u001b[0m\u001b[0m\n",
            "\u001b[0;31mCall signature:\u001b[0m  \u001b[0mnp\u001b[0m\u001b[0;34m.\u001b[0m\u001b[0mvstack\u001b[0m\u001b[0;34m(\u001b[0m\u001b[0;34m*\u001b[0m\u001b[0margs\u001b[0m\u001b[0;34m,\u001b[0m \u001b[0;34m**\u001b[0m\u001b[0mkwargs\u001b[0m\u001b[0;34m)\u001b[0m\u001b[0;34m\u001b[0m\u001b[0;34m\u001b[0m\u001b[0m\n",
            "\u001b[0;31mType:\u001b[0m            _ArrayFunctionDispatcher\n",
            "\u001b[0;31mString form:\u001b[0m     <function vstack at 0x7fae30558a40>\n",
            "\u001b[0;31mFile:\u001b[0m            ~/anaconda3/lib/python3.11/site-packages/numpy/core/shape_base.py\n",
            "\u001b[0;31mSource:\u001b[0m         \n",
            "\u001b[0;34m@\u001b[0m\u001b[0marray_function_dispatch\u001b[0m\u001b[0;34m(\u001b[0m\u001b[0m_vhstack_dispatcher\u001b[0m\u001b[0;34m)\u001b[0m\u001b[0;34m\u001b[0m\n",
            "\u001b[0;34m\u001b[0m\u001b[0;32mdef\u001b[0m \u001b[0mvstack\u001b[0m\u001b[0;34m(\u001b[0m\u001b[0mtup\u001b[0m\u001b[0;34m,\u001b[0m \u001b[0;34m*\u001b[0m\u001b[0;34m,\u001b[0m \u001b[0mdtype\u001b[0m\u001b[0;34m=\u001b[0m\u001b[0;32mNone\u001b[0m\u001b[0;34m,\u001b[0m \u001b[0mcasting\u001b[0m\u001b[0;34m=\u001b[0m\u001b[0;34m\"same_kind\"\u001b[0m\u001b[0;34m)\u001b[0m\u001b[0;34m:\u001b[0m\u001b[0;34m\u001b[0m\n",
            "\u001b[0;34m\u001b[0m    \u001b[0;34m\"\"\"\u001b[0m\n",
            "\u001b[0;34m    Stack arrays in sequence vertically (row wise).\u001b[0m\n",
            "\u001b[0;34m\u001b[0m\n",
            "\u001b[0;34m    This is equivalent to concatenation along the first axis after 1-D arrays\u001b[0m\n",
            "\u001b[0;34m    of shape `(N,)` have been reshaped to `(1,N)`. Rebuilds arrays divided by\u001b[0m\n",
            "\u001b[0;34m    `vsplit`.\u001b[0m\n",
            "\u001b[0;34m\u001b[0m\n",
            "\u001b[0;34m    This function makes most sense for arrays with up to 3 dimensions. For\u001b[0m\n",
            "\u001b[0;34m    instance, for pixel-data with a height (first axis), width (second axis),\u001b[0m\n",
            "\u001b[0;34m    and r/g/b channels (third axis). The functions `concatenate`, `stack` and\u001b[0m\n",
            "\u001b[0;34m    `block` provide more general stacking and concatenation operations.\u001b[0m\n",
            "\u001b[0;34m\u001b[0m\n",
            "\u001b[0;34m    ``np.row_stack`` is an alias for `vstack`. They are the same function.\u001b[0m\n",
            "\u001b[0;34m\u001b[0m\n",
            "\u001b[0;34m    Parameters\u001b[0m\n",
            "\u001b[0;34m    ----------\u001b[0m\n",
            "\u001b[0;34m    tup : sequence of ndarrays\u001b[0m\n",
            "\u001b[0;34m        The arrays must have the same shape along all but the first axis.\u001b[0m\n",
            "\u001b[0;34m        1-D arrays must have the same length.\u001b[0m\n",
            "\u001b[0;34m\u001b[0m\n",
            "\u001b[0;34m    dtype : str or dtype\u001b[0m\n",
            "\u001b[0;34m        If provided, the destination array will have this dtype. Cannot be\u001b[0m\n",
            "\u001b[0;34m        provided together with `out`.\u001b[0m\n",
            "\u001b[0;34m\u001b[0m\n",
            "\u001b[0;34m    .. versionadded:: 1.24\u001b[0m\n",
            "\u001b[0;34m\u001b[0m\n",
            "\u001b[0;34m    casting : {'no', 'equiv', 'safe', 'same_kind', 'unsafe'}, optional\u001b[0m\n",
            "\u001b[0;34m        Controls what kind of data casting may occur. Defaults to 'same_kind'.\u001b[0m\n",
            "\u001b[0;34m\u001b[0m\n",
            "\u001b[0;34m    .. versionadded:: 1.24\u001b[0m\n",
            "\u001b[0;34m\u001b[0m\n",
            "\u001b[0;34m    Returns\u001b[0m\n",
            "\u001b[0;34m    -------\u001b[0m\n",
            "\u001b[0;34m    stacked : ndarray\u001b[0m\n",
            "\u001b[0;34m        The array formed by stacking the given arrays, will be at least 2-D.\u001b[0m\n",
            "\u001b[0;34m\u001b[0m\n",
            "\u001b[0;34m    See Also\u001b[0m\n",
            "\u001b[0;34m    --------\u001b[0m\n",
            "\u001b[0;34m    concatenate : Join a sequence of arrays along an existing axis.\u001b[0m\n",
            "\u001b[0;34m    stack : Join a sequence of arrays along a new axis.\u001b[0m\n",
            "\u001b[0;34m    block : Assemble an nd-array from nested lists of blocks.\u001b[0m\n",
            "\u001b[0;34m    hstack : Stack arrays in sequence horizontally (column wise).\u001b[0m\n",
            "\u001b[0;34m    dstack : Stack arrays in sequence depth wise (along third axis).\u001b[0m\n",
            "\u001b[0;34m    column_stack : Stack 1-D arrays as columns into a 2-D array.\u001b[0m\n",
            "\u001b[0;34m    vsplit : Split an array into multiple sub-arrays vertically (row-wise).\u001b[0m\n",
            "\u001b[0;34m\u001b[0m\n",
            "\u001b[0;34m    Examples\u001b[0m\n",
            "\u001b[0;34m    --------\u001b[0m\n",
            "\u001b[0;34m    >>> a = np.array([1, 2, 3])\u001b[0m\n",
            "\u001b[0;34m    >>> b = np.array([4, 5, 6])\u001b[0m\n",
            "\u001b[0;34m    >>> np.vstack((a,b))\u001b[0m\n",
            "\u001b[0;34m    array([[1, 2, 3],\u001b[0m\n",
            "\u001b[0;34m           [4, 5, 6]])\u001b[0m\n",
            "\u001b[0;34m\u001b[0m\n",
            "\u001b[0;34m    >>> a = np.array([[1], [2], [3]])\u001b[0m\n",
            "\u001b[0;34m    >>> b = np.array([[4], [5], [6]])\u001b[0m\n",
            "\u001b[0;34m    >>> np.vstack((a,b))\u001b[0m\n",
            "\u001b[0;34m    array([[1],\u001b[0m\n",
            "\u001b[0;34m           [2],\u001b[0m\n",
            "\u001b[0;34m           [3],\u001b[0m\n",
            "\u001b[0;34m           [4],\u001b[0m\n",
            "\u001b[0;34m           [5],\u001b[0m\n",
            "\u001b[0;34m           [6]])\u001b[0m\n",
            "\u001b[0;34m\u001b[0m\n",
            "\u001b[0;34m    \"\"\"\u001b[0m\u001b[0;34m\u001b[0m\n",
            "\u001b[0;34m\u001b[0m    \u001b[0marrs\u001b[0m \u001b[0;34m=\u001b[0m \u001b[0matleast_2d\u001b[0m\u001b[0;34m(\u001b[0m\u001b[0;34m*\u001b[0m\u001b[0mtup\u001b[0m\u001b[0;34m)\u001b[0m\u001b[0;34m\u001b[0m\n",
            "\u001b[0;34m\u001b[0m    \u001b[0;32mif\u001b[0m \u001b[0;32mnot\u001b[0m \u001b[0misinstance\u001b[0m\u001b[0;34m(\u001b[0m\u001b[0marrs\u001b[0m\u001b[0;34m,\u001b[0m \u001b[0mlist\u001b[0m\u001b[0;34m)\u001b[0m\u001b[0;34m:\u001b[0m\u001b[0;34m\u001b[0m\n",
            "\u001b[0;34m\u001b[0m        \u001b[0marrs\u001b[0m \u001b[0;34m=\u001b[0m \u001b[0;34m[\u001b[0m\u001b[0marrs\u001b[0m\u001b[0;34m]\u001b[0m\u001b[0;34m\u001b[0m\n",
            "\u001b[0;34m\u001b[0m    \u001b[0;32mreturn\u001b[0m \u001b[0m_nx\u001b[0m\u001b[0;34m.\u001b[0m\u001b[0mconcatenate\u001b[0m\u001b[0;34m(\u001b[0m\u001b[0marrs\u001b[0m\u001b[0;34m,\u001b[0m \u001b[0;36m0\u001b[0m\u001b[0;34m,\u001b[0m \u001b[0mdtype\u001b[0m\u001b[0;34m=\u001b[0m\u001b[0mdtype\u001b[0m\u001b[0;34m,\u001b[0m \u001b[0mcasting\u001b[0m\u001b[0;34m=\u001b[0m\u001b[0mcasting\u001b[0m\u001b[0;34m)\u001b[0m\u001b[0;34m\u001b[0m\u001b[0;34m\u001b[0m\u001b[0m\n",
            "\u001b[0;31mClass docstring:\u001b[0m\n",
            "Class to wrap functions with checks for __array_function__ overrides.\n",
            "\n",
            "All arguments are required, and can only be passed by position.\n",
            "\n",
            "Parameters\n",
            "----------\n",
            "dispatcher : function or None\n",
            "    The dispatcher function that returns a single sequence-like object\n",
            "    of all arguments relevant.  It must have the same signature (except\n",
            "    the default values) as the actual implementation.\n",
            "    If ``None``, this is a ``like=`` dispatcher and the\n",
            "    ``_ArrayFunctionDispatcher`` must be called with ``like`` as the\n",
            "    first (additional and positional) argument.\n",
            "implementation : function\n",
            "    Function that implements the operation on NumPy arrays without\n",
            "    overrides.  Arguments passed calling the ``_ArrayFunctionDispatcher``\n",
            "    will be forwarded to this (and the ``dispatcher``) as if using\n",
            "    ``*args, **kwargs``.\n",
            "\n",
            "Attributes\n",
            "----------\n",
            "_implementation : function\n",
            "    The original implementation passed in."
          ]
        }
      ],
      "source": [
        "??np.vstack"
      ]
    },
    {
      "cell_type": "code",
      "execution_count": 54,
      "metadata": {
        "id": "DuVw8IRo71Nh"
      },
      "outputs": [
        {
          "name": "stdout",
          "output_type": "stream",
          "text": [
            "\u001b[0;31mSignature:\u001b[0m       \u001b[0mnp\u001b[0m\u001b[0;34m.\u001b[0m\u001b[0mtranspose\u001b[0m\u001b[0;34m(\u001b[0m\u001b[0ma\u001b[0m\u001b[0;34m,\u001b[0m \u001b[0maxes\u001b[0m\u001b[0;34m=\u001b[0m\u001b[0;32mNone\u001b[0m\u001b[0;34m)\u001b[0m\u001b[0;34m\u001b[0m\u001b[0;34m\u001b[0m\u001b[0m\n",
            "\u001b[0;31mCall signature:\u001b[0m  \u001b[0mnp\u001b[0m\u001b[0;34m.\u001b[0m\u001b[0mtranspose\u001b[0m\u001b[0;34m(\u001b[0m\u001b[0;34m*\u001b[0m\u001b[0margs\u001b[0m\u001b[0;34m,\u001b[0m \u001b[0;34m**\u001b[0m\u001b[0mkwargs\u001b[0m\u001b[0;34m)\u001b[0m\u001b[0;34m\u001b[0m\u001b[0;34m\u001b[0m\u001b[0m\n",
            "\u001b[0;31mType:\u001b[0m            _ArrayFunctionDispatcher\n",
            "\u001b[0;31mString form:\u001b[0m     <function transpose at 0x7fae305516c0>\n",
            "\u001b[0;31mFile:\u001b[0m            ~/anaconda3/lib/python3.11/site-packages/numpy/core/fromnumeric.py\n",
            "\u001b[0;31mSource:\u001b[0m         \n",
            "\u001b[0;34m@\u001b[0m\u001b[0marray_function_dispatch\u001b[0m\u001b[0;34m(\u001b[0m\u001b[0m_transpose_dispatcher\u001b[0m\u001b[0;34m)\u001b[0m\u001b[0;34m\u001b[0m\n",
            "\u001b[0;34m\u001b[0m\u001b[0;32mdef\u001b[0m \u001b[0mtranspose\u001b[0m\u001b[0;34m(\u001b[0m\u001b[0ma\u001b[0m\u001b[0;34m,\u001b[0m \u001b[0maxes\u001b[0m\u001b[0;34m=\u001b[0m\u001b[0;32mNone\u001b[0m\u001b[0;34m)\u001b[0m\u001b[0;34m:\u001b[0m\u001b[0;34m\u001b[0m\n",
            "\u001b[0;34m\u001b[0m    \u001b[0;34m\"\"\"\u001b[0m\n",
            "\u001b[0;34m    Returns an array with axes transposed.\u001b[0m\n",
            "\u001b[0;34m\u001b[0m\n",
            "\u001b[0;34m    For a 1-D array, this returns an unchanged view of the original array, as a\u001b[0m\n",
            "\u001b[0;34m    transposed vector is simply the same vector.\u001b[0m\n",
            "\u001b[0;34m    To convert a 1-D array into a 2-D column vector, an additional dimension\u001b[0m\n",
            "\u001b[0;34m    must be added, e.g., ``np.atleast2d(a).T`` achieves this, as does\u001b[0m\n",
            "\u001b[0;34m    ``a[:, np.newaxis]``.\u001b[0m\n",
            "\u001b[0;34m    For a 2-D array, this is the standard matrix transpose.\u001b[0m\n",
            "\u001b[0;34m    For an n-D array, if axes are given, their order indicates how the\u001b[0m\n",
            "\u001b[0;34m    axes are permuted (see Examples). If axes are not provided, then\u001b[0m\n",
            "\u001b[0;34m    ``transpose(a).shape == a.shape[::-1]``.\u001b[0m\n",
            "\u001b[0;34m\u001b[0m\n",
            "\u001b[0;34m    Parameters\u001b[0m\n",
            "\u001b[0;34m    ----------\u001b[0m\n",
            "\u001b[0;34m    a : array_like\u001b[0m\n",
            "\u001b[0;34m        Input array.\u001b[0m\n",
            "\u001b[0;34m    axes : tuple or list of ints, optional\u001b[0m\n",
            "\u001b[0;34m        If specified, it must be a tuple or list which contains a permutation\u001b[0m\n",
            "\u001b[0;34m        of [0,1,...,N-1] where N is the number of axes of `a`. The `i`'th axis\u001b[0m\n",
            "\u001b[0;34m        of the returned array will correspond to the axis numbered ``axes[i]``\u001b[0m\n",
            "\u001b[0;34m        of the input. If not specified, defaults to ``range(a.ndim)[::-1]``,\u001b[0m\n",
            "\u001b[0;34m        which reverses the order of the axes.\u001b[0m\n",
            "\u001b[0;34m\u001b[0m\n",
            "\u001b[0;34m    Returns\u001b[0m\n",
            "\u001b[0;34m    -------\u001b[0m\n",
            "\u001b[0;34m    p : ndarray\u001b[0m\n",
            "\u001b[0;34m        `a` with its axes permuted. A view is returned whenever possible.\u001b[0m\n",
            "\u001b[0;34m\u001b[0m\n",
            "\u001b[0;34m    See Also\u001b[0m\n",
            "\u001b[0;34m    --------\u001b[0m\n",
            "\u001b[0;34m    ndarray.transpose : Equivalent method.\u001b[0m\n",
            "\u001b[0;34m    moveaxis : Move axes of an array to new positions.\u001b[0m\n",
            "\u001b[0;34m    argsort : Return the indices that would sort an array.\u001b[0m\n",
            "\u001b[0;34m\u001b[0m\n",
            "\u001b[0;34m    Notes\u001b[0m\n",
            "\u001b[0;34m    -----\u001b[0m\n",
            "\u001b[0;34m    Use ``transpose(a, argsort(axes))`` to invert the transposition of tensors\u001b[0m\n",
            "\u001b[0;34m    when using the `axes` keyword argument.\u001b[0m\n",
            "\u001b[0;34m\u001b[0m\n",
            "\u001b[0;34m    Examples\u001b[0m\n",
            "\u001b[0;34m    --------\u001b[0m\n",
            "\u001b[0;34m    >>> a = np.array([[1, 2], [3, 4]])\u001b[0m\n",
            "\u001b[0;34m    >>> a\u001b[0m\n",
            "\u001b[0;34m    array([[1, 2],\u001b[0m\n",
            "\u001b[0;34m           [3, 4]])\u001b[0m\n",
            "\u001b[0;34m    >>> np.transpose(a)\u001b[0m\n",
            "\u001b[0;34m    array([[1, 3],\u001b[0m\n",
            "\u001b[0;34m           [2, 4]])\u001b[0m\n",
            "\u001b[0;34m\u001b[0m\n",
            "\u001b[0;34m    >>> a = np.array([1, 2, 3, 4])\u001b[0m\n",
            "\u001b[0;34m    >>> a\u001b[0m\n",
            "\u001b[0;34m    array([1, 2, 3, 4])\u001b[0m\n",
            "\u001b[0;34m    >>> np.transpose(a)\u001b[0m\n",
            "\u001b[0;34m    array([1, 2, 3, 4])\u001b[0m\n",
            "\u001b[0;34m\u001b[0m\n",
            "\u001b[0;34m    >>> a = np.ones((1, 2, 3))\u001b[0m\n",
            "\u001b[0;34m    >>> np.transpose(a, (1, 0, 2)).shape\u001b[0m\n",
            "\u001b[0;34m    (2, 1, 3)\u001b[0m\n",
            "\u001b[0;34m\u001b[0m\n",
            "\u001b[0;34m    >>> a = np.ones((2, 3, 4, 5))\u001b[0m\n",
            "\u001b[0;34m    >>> np.transpose(a).shape\u001b[0m\n",
            "\u001b[0;34m    (5, 4, 3, 2)\u001b[0m\n",
            "\u001b[0;34m\u001b[0m\n",
            "\u001b[0;34m    \"\"\"\u001b[0m\u001b[0;34m\u001b[0m\n",
            "\u001b[0;34m\u001b[0m    \u001b[0;32mreturn\u001b[0m \u001b[0m_wrapfunc\u001b[0m\u001b[0;34m(\u001b[0m\u001b[0ma\u001b[0m\u001b[0;34m,\u001b[0m \u001b[0;34m'transpose'\u001b[0m\u001b[0;34m,\u001b[0m \u001b[0maxes\u001b[0m\u001b[0;34m)\u001b[0m\u001b[0;34m\u001b[0m\u001b[0;34m\u001b[0m\u001b[0m\n",
            "\u001b[0;31mClass docstring:\u001b[0m\n",
            "Class to wrap functions with checks for __array_function__ overrides.\n",
            "\n",
            "All arguments are required, and can only be passed by position.\n",
            "\n",
            "Parameters\n",
            "----------\n",
            "dispatcher : function or None\n",
            "    The dispatcher function that returns a single sequence-like object\n",
            "    of all arguments relevant.  It must have the same signature (except\n",
            "    the default values) as the actual implementation.\n",
            "    If ``None``, this is a ``like=`` dispatcher and the\n",
            "    ``_ArrayFunctionDispatcher`` must be called with ``like`` as the\n",
            "    first (additional and positional) argument.\n",
            "implementation : function\n",
            "    Function that implements the operation on NumPy arrays without\n",
            "    overrides.  Arguments passed calling the ``_ArrayFunctionDispatcher``\n",
            "    will be forwarded to this (and the ``dispatcher``) as if using\n",
            "    ``*args, **kwargs``.\n",
            "\n",
            "Attributes\n",
            "----------\n",
            "_implementation : function\n",
            "    The original implementation passed in."
          ]
        }
      ],
      "source": [
        "??np.transpose"
      ]
    },
    {
      "cell_type": "code",
      "execution_count": 56,
      "metadata": {
        "colab": {
          "base_uri": "https://localhost:8080/"
        },
        "id": "8ksBXJQO77Fy",
        "outputId": "6a8d3fd5-9634-4af3-cbe6-0f2aada1c9e6"
      },
      "outputs": [
        {
          "name": "stdout",
          "output_type": "stream",
          "text": [
            "[[1 2 3]\n",
            " [2 3 4]]\n",
            "[[1 2]\n",
            " [2 3]\n",
            " [3 4]]\n"
          ]
        }
      ],
      "source": [
        "a = np.array([[1,2,3],[2,3,4]])\n",
        "print(a)\n",
        "print(a.T)"
      ]
    },
    {
      "cell_type": "code",
      "execution_count": 58,
      "metadata": {
        "colab": {
          "base_uri": "https://localhost:8080/"
        },
        "id": "aPCZtF0P4v7C",
        "outputId": "15d1b380-b9fc-400e-9f13-557874c78dc6"
      },
      "outputs": [
        {
          "name": "stdout",
          "output_type": "stream",
          "text": [
            "23.9 µs ± 1.79 µs per loop (mean ± std. dev. of 7 runs, 10,000 loops each)\n"
          ]
        }
      ],
      "source": [
        "%%timeit\n",
        "np.mean(np.vstack((measurements[1:],measurements[:-1])),axis=0)"
      ]
    },
    {
      "cell_type": "markdown",
      "metadata": {
        "id": "r9EIoyDHH-jK"
      },
      "source": []
    },
    {
      "cell_type": "markdown",
      "metadata": {
        "id": "vo418T_b8LLt"
      },
      "source": [
        "In your third solution use the discrete convolution function. This time you calculate the averages with the convolution directly, you don't need to use average function here.\n",
        "\n",
        "An example of discrete convolution:\n",
        "\n",
        "given a filter $G=[g_1,g_2,g_3]$ and a vector (1st rank tensor) $V=[v_1,v_2,v_3,v_4,v_5,v_6]$ the convolution of the vector $V$ and a filter $G$ is calculated as follows:\n",
        "\n",
        "$$V * G = [g_1\\cdot v_1+g_2\\cdot v_2+g_3\\cdot v_3,$$\n",
        "$$g_1\\cdot v_2+g_2\\cdot v_3+g_3\\cdot v_4,$$\n",
        "$$g_1\\cdot v_3+g_2\\cdot v_4+g_3\\cdot v_5,$$\n",
        "$$g_1\\cdot v_4+g_2\\cdot v_5+g_3\\cdot v_6]$$\n",
        "\n",
        "keep in mind that the filter can be of any size as long as each of its components (of the shape) is equal or lower than its equivalent in the tensor. However, the dimensionality of the filter has to be the same as the dimensionality of the tensor (the filter could be of a lower dimensionality, but then it should be interpreted as if it was of the same dimensionality as the tensor). Notice the similarity between sliding window and the convolution - in both cases you put a \"window\" or a \"filter\" on the data and move the window throughout the data. In the example above the window moves like this:\n",
        "\n",
        "[**_1,2,3_**,4,5,6]\n",
        "\n",
        "[1,**_2,3,4_**,5,6]\n",
        "\n",
        "[1,2,**_3,4,5_**,6]\n",
        "\n",
        "[1,2,3**_,4,5,6_**]\n"
      ]
    },
    {
      "cell_type": "code",
      "execution_count": 61,
      "metadata": {
        "id": "IJ6QCBr4FNS6"
      },
      "outputs": [
        {
          "name": "stdout",
          "output_type": "stream",
          "text": [
            "\u001b[0;31mSignature:\u001b[0m       \u001b[0mnp\u001b[0m\u001b[0;34m.\u001b[0m\u001b[0mconvolve\u001b[0m\u001b[0;34m(\u001b[0m\u001b[0ma\u001b[0m\u001b[0;34m,\u001b[0m \u001b[0mv\u001b[0m\u001b[0;34m,\u001b[0m \u001b[0mmode\u001b[0m\u001b[0;34m=\u001b[0m\u001b[0;34m'full'\u001b[0m\u001b[0;34m)\u001b[0m\u001b[0;34m\u001b[0m\u001b[0;34m\u001b[0m\u001b[0m\n",
            "\u001b[0;31mCall signature:\u001b[0m  \u001b[0mnp\u001b[0m\u001b[0;34m.\u001b[0m\u001b[0mconvolve\u001b[0m\u001b[0;34m(\u001b[0m\u001b[0;34m*\u001b[0m\u001b[0margs\u001b[0m\u001b[0;34m,\u001b[0m \u001b[0;34m**\u001b[0m\u001b[0mkwargs\u001b[0m\u001b[0;34m)\u001b[0m\u001b[0;34m\u001b[0m\u001b[0;34m\u001b[0m\u001b[0m\n",
            "\u001b[0;31mType:\u001b[0m            _ArrayFunctionDispatcher\n",
            "\u001b[0;31mString form:\u001b[0m     <function convolve at 0x7fae30559ee0>\n",
            "\u001b[0;31mFile:\u001b[0m            ~/anaconda3/lib/python3.11/site-packages/numpy/core/numeric.py\n",
            "\u001b[0;31mSource:\u001b[0m         \n",
            "\u001b[0;34m@\u001b[0m\u001b[0marray_function_dispatch\u001b[0m\u001b[0;34m(\u001b[0m\u001b[0m_convolve_dispatcher\u001b[0m\u001b[0;34m)\u001b[0m\u001b[0;34m\u001b[0m\n",
            "\u001b[0;34m\u001b[0m\u001b[0;32mdef\u001b[0m \u001b[0mconvolve\u001b[0m\u001b[0;34m(\u001b[0m\u001b[0ma\u001b[0m\u001b[0;34m,\u001b[0m \u001b[0mv\u001b[0m\u001b[0;34m,\u001b[0m \u001b[0mmode\u001b[0m\u001b[0;34m=\u001b[0m\u001b[0;34m'full'\u001b[0m\u001b[0;34m)\u001b[0m\u001b[0;34m:\u001b[0m\u001b[0;34m\u001b[0m\n",
            "\u001b[0;34m\u001b[0m    \u001b[0;34m\"\"\"\u001b[0m\n",
            "\u001b[0;34m    Returns the discrete, linear convolution of two one-dimensional sequences.\u001b[0m\n",
            "\u001b[0;34m\u001b[0m\n",
            "\u001b[0;34m    The convolution operator is often seen in signal processing, where it\u001b[0m\n",
            "\u001b[0;34m    models the effect of a linear time-invariant system on a signal [1]_.  In\u001b[0m\n",
            "\u001b[0;34m    probability theory, the sum of two independent random variables is\u001b[0m\n",
            "\u001b[0;34m    distributed according to the convolution of their individual\u001b[0m\n",
            "\u001b[0;34m    distributions.\u001b[0m\n",
            "\u001b[0;34m\u001b[0m\n",
            "\u001b[0;34m    If `v` is longer than `a`, the arrays are swapped before computation.\u001b[0m\n",
            "\u001b[0;34m\u001b[0m\n",
            "\u001b[0;34m    Parameters\u001b[0m\n",
            "\u001b[0;34m    ----------\u001b[0m\n",
            "\u001b[0;34m    a : (N,) array_like\u001b[0m\n",
            "\u001b[0;34m        First one-dimensional input array.\u001b[0m\n",
            "\u001b[0;34m    v : (M,) array_like\u001b[0m\n",
            "\u001b[0;34m        Second one-dimensional input array.\u001b[0m\n",
            "\u001b[0;34m    mode : {'full', 'valid', 'same'}, optional\u001b[0m\n",
            "\u001b[0;34m        'full':\u001b[0m\n",
            "\u001b[0;34m          By default, mode is 'full'.  This returns the convolution\u001b[0m\n",
            "\u001b[0;34m          at each point of overlap, with an output shape of (N+M-1,). At\u001b[0m\n",
            "\u001b[0;34m          the end-points of the convolution, the signals do not overlap\u001b[0m\n",
            "\u001b[0;34m          completely, and boundary effects may be seen.\u001b[0m\n",
            "\u001b[0;34m\u001b[0m\n",
            "\u001b[0;34m        'same':\u001b[0m\n",
            "\u001b[0;34m          Mode 'same' returns output of length ``max(M, N)``.  Boundary\u001b[0m\n",
            "\u001b[0;34m          effects are still visible.\u001b[0m\n",
            "\u001b[0;34m\u001b[0m\n",
            "\u001b[0;34m        'valid':\u001b[0m\n",
            "\u001b[0;34m          Mode 'valid' returns output of length\u001b[0m\n",
            "\u001b[0;34m          ``max(M, N) - min(M, N) + 1``.  The convolution product is only given\u001b[0m\n",
            "\u001b[0;34m          for points where the signals overlap completely.  Values outside\u001b[0m\n",
            "\u001b[0;34m          the signal boundary have no effect.\u001b[0m\n",
            "\u001b[0;34m\u001b[0m\n",
            "\u001b[0;34m    Returns\u001b[0m\n",
            "\u001b[0;34m    -------\u001b[0m\n",
            "\u001b[0;34m    out : ndarray\u001b[0m\n",
            "\u001b[0;34m        Discrete, linear convolution of `a` and `v`.\u001b[0m\n",
            "\u001b[0;34m\u001b[0m\n",
            "\u001b[0;34m    See Also\u001b[0m\n",
            "\u001b[0;34m    --------\u001b[0m\n",
            "\u001b[0;34m    scipy.signal.fftconvolve : Convolve two arrays using the Fast Fourier\u001b[0m\n",
            "\u001b[0;34m                               Transform.\u001b[0m\n",
            "\u001b[0;34m    scipy.linalg.toeplitz : Used to construct the convolution operator.\u001b[0m\n",
            "\u001b[0;34m    polymul : Polynomial multiplication. Same output as convolve, but also\u001b[0m\n",
            "\u001b[0;34m              accepts poly1d objects as input.\u001b[0m\n",
            "\u001b[0;34m\u001b[0m\n",
            "\u001b[0;34m    Notes\u001b[0m\n",
            "\u001b[0;34m    -----\u001b[0m\n",
            "\u001b[0;34m    The discrete convolution operation is defined as\u001b[0m\n",
            "\u001b[0;34m\u001b[0m\n",
            "\u001b[0;34m    .. math:: (a * v)_n = \\\\sum_{m = -\\\\infty}^{\\\\infty} a_m v_{n - m}\u001b[0m\n",
            "\u001b[0;34m\u001b[0m\n",
            "\u001b[0;34m    It can be shown that a convolution :math:`x(t) * y(t)` in time/space\u001b[0m\n",
            "\u001b[0;34m    is equivalent to the multiplication :math:`X(f) Y(f)` in the Fourier\u001b[0m\n",
            "\u001b[0;34m    domain, after appropriate padding (padding is necessary to prevent\u001b[0m\n",
            "\u001b[0;34m    circular convolution).  Since multiplication is more efficient (faster)\u001b[0m\n",
            "\u001b[0;34m    than convolution, the function `scipy.signal.fftconvolve` exploits the\u001b[0m\n",
            "\u001b[0;34m    FFT to calculate the convolution of large data-sets.\u001b[0m\n",
            "\u001b[0;34m\u001b[0m\n",
            "\u001b[0;34m    References\u001b[0m\n",
            "\u001b[0;34m    ----------\u001b[0m\n",
            "\u001b[0;34m    .. [1] Wikipedia, \"Convolution\",\u001b[0m\n",
            "\u001b[0;34m        https://en.wikipedia.org/wiki/Convolution\u001b[0m\n",
            "\u001b[0;34m\u001b[0m\n",
            "\u001b[0;34m    Examples\u001b[0m\n",
            "\u001b[0;34m    --------\u001b[0m\n",
            "\u001b[0;34m    Note how the convolution operator flips the second array\u001b[0m\n",
            "\u001b[0;34m    before \"sliding\" the two across one another:\u001b[0m\n",
            "\u001b[0;34m\u001b[0m\n",
            "\u001b[0;34m    >>> np.convolve([1, 2, 3], [0, 1, 0.5])\u001b[0m\n",
            "\u001b[0;34m    array([0. , 1. , 2.5, 4. , 1.5])\u001b[0m\n",
            "\u001b[0;34m\u001b[0m\n",
            "\u001b[0;34m    Only return the middle values of the convolution.\u001b[0m\n",
            "\u001b[0;34m    Contains boundary effects, where zeros are taken\u001b[0m\n",
            "\u001b[0;34m    into account:\u001b[0m\n",
            "\u001b[0;34m\u001b[0m\n",
            "\u001b[0;34m    >>> np.convolve([1,2,3],[0,1,0.5], 'same')\u001b[0m\n",
            "\u001b[0;34m    array([1. ,  2.5,  4. ])\u001b[0m\n",
            "\u001b[0;34m\u001b[0m\n",
            "\u001b[0;34m    The two arrays are of the same length, so there\u001b[0m\n",
            "\u001b[0;34m    is only one position where they completely overlap:\u001b[0m\n",
            "\u001b[0;34m\u001b[0m\n",
            "\u001b[0;34m    >>> np.convolve([1,2,3],[0,1,0.5], 'valid')\u001b[0m\n",
            "\u001b[0;34m    array([2.5])\u001b[0m\n",
            "\u001b[0;34m\u001b[0m\n",
            "\u001b[0;34m    \"\"\"\u001b[0m\u001b[0;34m\u001b[0m\n",
            "\u001b[0;34m\u001b[0m    \u001b[0ma\u001b[0m\u001b[0;34m,\u001b[0m \u001b[0mv\u001b[0m \u001b[0;34m=\u001b[0m \u001b[0marray\u001b[0m\u001b[0;34m(\u001b[0m\u001b[0ma\u001b[0m\u001b[0;34m,\u001b[0m \u001b[0mcopy\u001b[0m\u001b[0;34m=\u001b[0m\u001b[0;32mFalse\u001b[0m\u001b[0;34m,\u001b[0m \u001b[0mndmin\u001b[0m\u001b[0;34m=\u001b[0m\u001b[0;36m1\u001b[0m\u001b[0;34m)\u001b[0m\u001b[0;34m,\u001b[0m \u001b[0marray\u001b[0m\u001b[0;34m(\u001b[0m\u001b[0mv\u001b[0m\u001b[0;34m,\u001b[0m \u001b[0mcopy\u001b[0m\u001b[0;34m=\u001b[0m\u001b[0;32mFalse\u001b[0m\u001b[0;34m,\u001b[0m \u001b[0mndmin\u001b[0m\u001b[0;34m=\u001b[0m\u001b[0;36m1\u001b[0m\u001b[0;34m)\u001b[0m\u001b[0;34m\u001b[0m\n",
            "\u001b[0;34m\u001b[0m    \u001b[0;32mif\u001b[0m \u001b[0;34m(\u001b[0m\u001b[0mlen\u001b[0m\u001b[0;34m(\u001b[0m\u001b[0mv\u001b[0m\u001b[0;34m)\u001b[0m \u001b[0;34m>\u001b[0m \u001b[0mlen\u001b[0m\u001b[0;34m(\u001b[0m\u001b[0ma\u001b[0m\u001b[0;34m)\u001b[0m\u001b[0;34m)\u001b[0m\u001b[0;34m:\u001b[0m\u001b[0;34m\u001b[0m\n",
            "\u001b[0;34m\u001b[0m        \u001b[0ma\u001b[0m\u001b[0;34m,\u001b[0m \u001b[0mv\u001b[0m \u001b[0;34m=\u001b[0m \u001b[0mv\u001b[0m\u001b[0;34m,\u001b[0m \u001b[0ma\u001b[0m\u001b[0;34m\u001b[0m\n",
            "\u001b[0;34m\u001b[0m    \u001b[0;32mif\u001b[0m \u001b[0mlen\u001b[0m\u001b[0;34m(\u001b[0m\u001b[0ma\u001b[0m\u001b[0;34m)\u001b[0m \u001b[0;34m==\u001b[0m \u001b[0;36m0\u001b[0m\u001b[0;34m:\u001b[0m\u001b[0;34m\u001b[0m\n",
            "\u001b[0;34m\u001b[0m        \u001b[0;32mraise\u001b[0m \u001b[0mValueError\u001b[0m\u001b[0;34m(\u001b[0m\u001b[0;34m'a cannot be empty'\u001b[0m\u001b[0;34m)\u001b[0m\u001b[0;34m\u001b[0m\n",
            "\u001b[0;34m\u001b[0m    \u001b[0;32mif\u001b[0m \u001b[0mlen\u001b[0m\u001b[0;34m(\u001b[0m\u001b[0mv\u001b[0m\u001b[0;34m)\u001b[0m \u001b[0;34m==\u001b[0m \u001b[0;36m0\u001b[0m\u001b[0;34m:\u001b[0m\u001b[0;34m\u001b[0m\n",
            "\u001b[0;34m\u001b[0m        \u001b[0;32mraise\u001b[0m \u001b[0mValueError\u001b[0m\u001b[0;34m(\u001b[0m\u001b[0;34m'v cannot be empty'\u001b[0m\u001b[0;34m)\u001b[0m\u001b[0;34m\u001b[0m\n",
            "\u001b[0;34m\u001b[0m    \u001b[0;32mreturn\u001b[0m \u001b[0mmultiarray\u001b[0m\u001b[0;34m.\u001b[0m\u001b[0mcorrelate\u001b[0m\u001b[0;34m(\u001b[0m\u001b[0ma\u001b[0m\u001b[0;34m,\u001b[0m \u001b[0mv\u001b[0m\u001b[0;34m[\u001b[0m\u001b[0;34m:\u001b[0m\u001b[0;34m:\u001b[0m\u001b[0;34m-\u001b[0m\u001b[0;36m1\u001b[0m\u001b[0;34m]\u001b[0m\u001b[0;34m,\u001b[0m \u001b[0mmode\u001b[0m\u001b[0;34m)\u001b[0m\u001b[0;34m\u001b[0m\u001b[0;34m\u001b[0m\u001b[0m\n",
            "\u001b[0;31mClass docstring:\u001b[0m\n",
            "Class to wrap functions with checks for __array_function__ overrides.\n",
            "\n",
            "All arguments are required, and can only be passed by position.\n",
            "\n",
            "Parameters\n",
            "----------\n",
            "dispatcher : function or None\n",
            "    The dispatcher function that returns a single sequence-like object\n",
            "    of all arguments relevant.  It must have the same signature (except\n",
            "    the default values) as the actual implementation.\n",
            "    If ``None``, this is a ``like=`` dispatcher and the\n",
            "    ``_ArrayFunctionDispatcher`` must be called with ``like`` as the\n",
            "    first (additional and positional) argument.\n",
            "implementation : function\n",
            "    Function that implements the operation on NumPy arrays without\n",
            "    overrides.  Arguments passed calling the ``_ArrayFunctionDispatcher``\n",
            "    will be forwarded to this (and the ``dispatcher``) as if using\n",
            "    ``*args, **kwargs``.\n",
            "\n",
            "Attributes\n",
            "----------\n",
            "_implementation : function\n",
            "    The original implementation passed in."
          ]
        }
      ],
      "source": [
        "??np.convolve"
      ]
    },
    {
      "cell_type": "code",
      "execution_count": 67,
      "metadata": {
        "colab": {
          "base_uri": "https://localhost:8080/"
        },
        "id": "wpTILX9m5zUj",
        "outputId": "d4bf402e-783a-4235-97c5-d66156c59167"
      },
      "outputs": [
        {
          "data": {
            "text/plain": [
              "array([ 0.5,  1.5,  2.5,  3.5,  4.5,  5.5,  6.5,  7.5,  8.5,  9.5, 10.5,\n",
              "       11.5, 12.5, 13.5, 14.5, 15.5, 16.5, 17.5, 18.5, 19.5, 20.5, 21.5,\n",
              "       22.5, 23.5, 24.5, 25.5, 26.5, 27.5, 28.5, 29.5, 30.5, 31.5, 32.5,\n",
              "       33.5, 34.5, 35.5, 36.5, 37.5, 38.5, 39.5, 40.5, 41.5, 42.5, 43.5,\n",
              "       44.5, 45.5, 46.5, 47.5, 48.5, 49.5, 50.5, 51.5, 52.5, 53.5, 54.5,\n",
              "       55.5, 56.5, 57.5, 58.5, 59.5, 60.5, 61.5, 62.5, 63.5, 64.5, 65.5,\n",
              "       66.5, 67.5, 68.5, 69.5, 70.5, 71.5, 72.5, 73.5, 74.5, 75.5, 76.5,\n",
              "       77.5, 78.5, 79.5, 80.5, 81.5, 82.5, 83.5, 84.5, 85.5, 86.5, 87.5,\n",
              "       88.5, 89.5, 90.5, 91.5, 92.5, 93.5, 94.5, 95.5, 96.5, 97.5, 98.5])"
            ]
          },
          "execution_count": 67,
          "metadata": {},
          "output_type": "execute_result"
        }
      ],
      "source": [
        "# %%timeit\n",
        "np.convolve(measurements,np.array([0.5,0.5]),mode=\"valid\")"
      ]
    },
    {
      "cell_type": "markdown",
      "metadata": {
        "id": "S2mLPhv09VDr"
      },
      "source": [
        "In this solution use the numpy insert to add a 0 at the beginning of the measurements array (for padding purposes). Then calculate the cumulative sums of the measurements. Finally use the cumulative sum array in order to calculate the averages (it is a combination of picking elements in the correct order and a simple numerical operation). \n",
        "\n",
        "hint:\n",
        "\n",
        "measurements = [1**,2,3,**4,5,6]\n",
        "\n",
        "cumulative_sums = [0,**1**,3,**6**,10,15,21]\n",
        "\n",
        "$$c_1 = x_0+x_1$$\n",
        "$$c_3=x_0+x_1+x_2+x_3$$\n",
        "$$c_3-c_1 = x_2+x_3$$\n",
        "\n",
        "measurements = [1,2,**3,4**,5,6]\n",
        "\n",
        "cumulative_sums = [0,1,**3**,6,**10**,15,21]\n",
        "\n",
        "$$c_2 = x_0+x_1+x_2$$\n",
        "$$c_2=x_0+x_1+x_2+x_3+x_4$$\n",
        "$$c_3-c_1 = x_3+x_4$$\n",
        "\n"
      ]
    },
    {
      "cell_type": "code",
      "execution_count": 62,
      "metadata": {
        "id": "enMGQuP19Ty4"
      },
      "outputs": [
        {
          "name": "stdout",
          "output_type": "stream",
          "text": [
            "\u001b[0;31mSignature:\u001b[0m       \u001b[0mnp\u001b[0m\u001b[0;34m.\u001b[0m\u001b[0minsert\u001b[0m\u001b[0;34m(\u001b[0m\u001b[0marr\u001b[0m\u001b[0;34m,\u001b[0m \u001b[0mobj\u001b[0m\u001b[0;34m,\u001b[0m \u001b[0mvalues\u001b[0m\u001b[0;34m,\u001b[0m \u001b[0maxis\u001b[0m\u001b[0;34m=\u001b[0m\u001b[0;32mNone\u001b[0m\u001b[0;34m)\u001b[0m\u001b[0;34m\u001b[0m\u001b[0;34m\u001b[0m\u001b[0m\n",
            "\u001b[0;31mCall signature:\u001b[0m  \u001b[0mnp\u001b[0m\u001b[0;34m.\u001b[0m\u001b[0minsert\u001b[0m\u001b[0;34m(\u001b[0m\u001b[0;34m*\u001b[0m\u001b[0margs\u001b[0m\u001b[0;34m,\u001b[0m \u001b[0;34m**\u001b[0m\u001b[0mkwargs\u001b[0m\u001b[0;34m)\u001b[0m\u001b[0;34m\u001b[0m\u001b[0;34m\u001b[0m\u001b[0m\n",
            "\u001b[0;31mType:\u001b[0m            _ArrayFunctionDispatcher\n",
            "\u001b[0;31mString form:\u001b[0m     <function insert at 0x7fae3049e8e0>\n",
            "\u001b[0;31mFile:\u001b[0m            ~/anaconda3/lib/python3.11/site-packages/numpy/lib/function_base.py\n",
            "\u001b[0;31mSource:\u001b[0m         \n",
            "\u001b[0;34m@\u001b[0m\u001b[0marray_function_dispatch\u001b[0m\u001b[0;34m(\u001b[0m\u001b[0m_insert_dispatcher\u001b[0m\u001b[0;34m)\u001b[0m\u001b[0;34m\u001b[0m\n",
            "\u001b[0;34m\u001b[0m\u001b[0;32mdef\u001b[0m \u001b[0minsert\u001b[0m\u001b[0;34m(\u001b[0m\u001b[0marr\u001b[0m\u001b[0;34m,\u001b[0m \u001b[0mobj\u001b[0m\u001b[0;34m,\u001b[0m \u001b[0mvalues\u001b[0m\u001b[0;34m,\u001b[0m \u001b[0maxis\u001b[0m\u001b[0;34m=\u001b[0m\u001b[0;32mNone\u001b[0m\u001b[0;34m)\u001b[0m\u001b[0;34m:\u001b[0m\u001b[0;34m\u001b[0m\n",
            "\u001b[0;34m\u001b[0m    \u001b[0;34m\"\"\"\u001b[0m\n",
            "\u001b[0;34m    Insert values along the given axis before the given indices.\u001b[0m\n",
            "\u001b[0;34m\u001b[0m\n",
            "\u001b[0;34m    Parameters\u001b[0m\n",
            "\u001b[0;34m    ----------\u001b[0m\n",
            "\u001b[0;34m    arr : array_like\u001b[0m\n",
            "\u001b[0;34m        Input array.\u001b[0m\n",
            "\u001b[0;34m    obj : int, slice or sequence of ints\u001b[0m\n",
            "\u001b[0;34m        Object that defines the index or indices before which `values` is\u001b[0m\n",
            "\u001b[0;34m        inserted.\u001b[0m\n",
            "\u001b[0;34m\u001b[0m\n",
            "\u001b[0;34m        .. versionadded:: 1.8.0\u001b[0m\n",
            "\u001b[0;34m\u001b[0m\n",
            "\u001b[0;34m        Support for multiple insertions when `obj` is a single scalar or a\u001b[0m\n",
            "\u001b[0;34m        sequence with one element (similar to calling insert multiple\u001b[0m\n",
            "\u001b[0;34m        times).\u001b[0m\n",
            "\u001b[0;34m    values : array_like\u001b[0m\n",
            "\u001b[0;34m        Values to insert into `arr`. If the type of `values` is different\u001b[0m\n",
            "\u001b[0;34m        from that of `arr`, `values` is converted to the type of `arr`.\u001b[0m\n",
            "\u001b[0;34m        `values` should be shaped so that ``arr[...,obj,...] = values``\u001b[0m\n",
            "\u001b[0;34m        is legal.\u001b[0m\n",
            "\u001b[0;34m    axis : int, optional\u001b[0m\n",
            "\u001b[0;34m        Axis along which to insert `values`.  If `axis` is None then `arr`\u001b[0m\n",
            "\u001b[0;34m        is flattened first.\u001b[0m\n",
            "\u001b[0;34m\u001b[0m\n",
            "\u001b[0;34m    Returns\u001b[0m\n",
            "\u001b[0;34m    -------\u001b[0m\n",
            "\u001b[0;34m    out : ndarray\u001b[0m\n",
            "\u001b[0;34m        A copy of `arr` with `values` inserted.  Note that `insert`\u001b[0m\n",
            "\u001b[0;34m        does not occur in-place: a new array is returned. If\u001b[0m\n",
            "\u001b[0;34m        `axis` is None, `out` is a flattened array.\u001b[0m\n",
            "\u001b[0;34m\u001b[0m\n",
            "\u001b[0;34m    See Also\u001b[0m\n",
            "\u001b[0;34m    --------\u001b[0m\n",
            "\u001b[0;34m    append : Append elements at the end of an array.\u001b[0m\n",
            "\u001b[0;34m    concatenate : Join a sequence of arrays along an existing axis.\u001b[0m\n",
            "\u001b[0;34m    delete : Delete elements from an array.\u001b[0m\n",
            "\u001b[0;34m\u001b[0m\n",
            "\u001b[0;34m    Notes\u001b[0m\n",
            "\u001b[0;34m    -----\u001b[0m\n",
            "\u001b[0;34m    Note that for higher dimensional inserts ``obj=0`` behaves very different\u001b[0m\n",
            "\u001b[0;34m    from ``obj=[0]`` just like ``arr[:,0,:] = values`` is different from\u001b[0m\n",
            "\u001b[0;34m    ``arr[:,[0],:] = values``.\u001b[0m\n",
            "\u001b[0;34m\u001b[0m\n",
            "\u001b[0;34m    Examples\u001b[0m\n",
            "\u001b[0;34m    --------\u001b[0m\n",
            "\u001b[0;34m    >>> a = np.array([[1, 1], [2, 2], [3, 3]])\u001b[0m\n",
            "\u001b[0;34m    >>> a\u001b[0m\n",
            "\u001b[0;34m    array([[1, 1],\u001b[0m\n",
            "\u001b[0;34m           [2, 2],\u001b[0m\n",
            "\u001b[0;34m           [3, 3]])\u001b[0m\n",
            "\u001b[0;34m    >>> np.insert(a, 1, 5)\u001b[0m\n",
            "\u001b[0;34m    array([1, 5, 1, ..., 2, 3, 3])\u001b[0m\n",
            "\u001b[0;34m    >>> np.insert(a, 1, 5, axis=1)\u001b[0m\n",
            "\u001b[0;34m    array([[1, 5, 1],\u001b[0m\n",
            "\u001b[0;34m           [2, 5, 2],\u001b[0m\n",
            "\u001b[0;34m           [3, 5, 3]])\u001b[0m\n",
            "\u001b[0;34m\u001b[0m\n",
            "\u001b[0;34m    Difference between sequence and scalars:\u001b[0m\n",
            "\u001b[0;34m\u001b[0m\n",
            "\u001b[0;34m    >>> np.insert(a, [1], [[1],[2],[3]], axis=1)\u001b[0m\n",
            "\u001b[0;34m    array([[1, 1, 1],\u001b[0m\n",
            "\u001b[0;34m           [2, 2, 2],\u001b[0m\n",
            "\u001b[0;34m           [3, 3, 3]])\u001b[0m\n",
            "\u001b[0;34m    >>> np.array_equal(np.insert(a, 1, [1, 2, 3], axis=1),\u001b[0m\n",
            "\u001b[0;34m    ...                np.insert(a, [1], [[1],[2],[3]], axis=1))\u001b[0m\n",
            "\u001b[0;34m    True\u001b[0m\n",
            "\u001b[0;34m\u001b[0m\n",
            "\u001b[0;34m    >>> b = a.flatten()\u001b[0m\n",
            "\u001b[0;34m    >>> b\u001b[0m\n",
            "\u001b[0;34m    array([1, 1, 2, 2, 3, 3])\u001b[0m\n",
            "\u001b[0;34m    >>> np.insert(b, [2, 2], [5, 6])\u001b[0m\n",
            "\u001b[0;34m    array([1, 1, 5, ..., 2, 3, 3])\u001b[0m\n",
            "\u001b[0;34m\u001b[0m\n",
            "\u001b[0;34m    >>> np.insert(b, slice(2, 4), [5, 6])\u001b[0m\n",
            "\u001b[0;34m    array([1, 1, 5, ..., 2, 3, 3])\u001b[0m\n",
            "\u001b[0;34m\u001b[0m\n",
            "\u001b[0;34m    >>> np.insert(b, [2, 2], [7.13, False]) # type casting\u001b[0m\n",
            "\u001b[0;34m    array([1, 1, 7, ..., 2, 3, 3])\u001b[0m\n",
            "\u001b[0;34m\u001b[0m\n",
            "\u001b[0;34m    >>> x = np.arange(8).reshape(2, 4)\u001b[0m\n",
            "\u001b[0;34m    >>> idx = (1, 3)\u001b[0m\n",
            "\u001b[0;34m    >>> np.insert(x, idx, 999, axis=1)\u001b[0m\n",
            "\u001b[0;34m    array([[  0, 999,   1,   2, 999,   3],\u001b[0m\n",
            "\u001b[0;34m           [  4, 999,   5,   6, 999,   7]])\u001b[0m\n",
            "\u001b[0;34m\u001b[0m\n",
            "\u001b[0;34m    \"\"\"\u001b[0m\u001b[0;34m\u001b[0m\n",
            "\u001b[0;34m\u001b[0m    \u001b[0mwrap\u001b[0m \u001b[0;34m=\u001b[0m \u001b[0;32mNone\u001b[0m\u001b[0;34m\u001b[0m\n",
            "\u001b[0;34m\u001b[0m    \u001b[0;32mif\u001b[0m \u001b[0mtype\u001b[0m\u001b[0;34m(\u001b[0m\u001b[0marr\u001b[0m\u001b[0;34m)\u001b[0m \u001b[0;32mis\u001b[0m \u001b[0;32mnot\u001b[0m \u001b[0mndarray\u001b[0m\u001b[0;34m:\u001b[0m\u001b[0;34m\u001b[0m\n",
            "\u001b[0;34m\u001b[0m        \u001b[0;32mtry\u001b[0m\u001b[0;34m:\u001b[0m\u001b[0;34m\u001b[0m\n",
            "\u001b[0;34m\u001b[0m            \u001b[0mwrap\u001b[0m \u001b[0;34m=\u001b[0m \u001b[0marr\u001b[0m\u001b[0;34m.\u001b[0m\u001b[0m__array_wrap__\u001b[0m\u001b[0;34m\u001b[0m\n",
            "\u001b[0;34m\u001b[0m        \u001b[0;32mexcept\u001b[0m \u001b[0mAttributeError\u001b[0m\u001b[0;34m:\u001b[0m\u001b[0;34m\u001b[0m\n",
            "\u001b[0;34m\u001b[0m            \u001b[0;32mpass\u001b[0m\u001b[0;34m\u001b[0m\n",
            "\u001b[0;34m\u001b[0m\u001b[0;34m\u001b[0m\n",
            "\u001b[0;34m\u001b[0m    \u001b[0marr\u001b[0m \u001b[0;34m=\u001b[0m \u001b[0masarray\u001b[0m\u001b[0;34m(\u001b[0m\u001b[0marr\u001b[0m\u001b[0;34m)\u001b[0m\u001b[0;34m\u001b[0m\n",
            "\u001b[0;34m\u001b[0m    \u001b[0mndim\u001b[0m \u001b[0;34m=\u001b[0m \u001b[0marr\u001b[0m\u001b[0;34m.\u001b[0m\u001b[0mndim\u001b[0m\u001b[0;34m\u001b[0m\n",
            "\u001b[0;34m\u001b[0m    \u001b[0marrorder\u001b[0m \u001b[0;34m=\u001b[0m \u001b[0;34m'F'\u001b[0m \u001b[0;32mif\u001b[0m \u001b[0marr\u001b[0m\u001b[0;34m.\u001b[0m\u001b[0mflags\u001b[0m\u001b[0;34m.\u001b[0m\u001b[0mfnc\u001b[0m \u001b[0;32melse\u001b[0m \u001b[0;34m'C'\u001b[0m\u001b[0;34m\u001b[0m\n",
            "\u001b[0;34m\u001b[0m    \u001b[0;32mif\u001b[0m \u001b[0maxis\u001b[0m \u001b[0;32mis\u001b[0m \u001b[0;32mNone\u001b[0m\u001b[0;34m:\u001b[0m\u001b[0;34m\u001b[0m\n",
            "\u001b[0;34m\u001b[0m        \u001b[0;32mif\u001b[0m \u001b[0mndim\u001b[0m \u001b[0;34m!=\u001b[0m \u001b[0;36m1\u001b[0m\u001b[0;34m:\u001b[0m\u001b[0;34m\u001b[0m\n",
            "\u001b[0;34m\u001b[0m            \u001b[0marr\u001b[0m \u001b[0;34m=\u001b[0m \u001b[0marr\u001b[0m\u001b[0;34m.\u001b[0m\u001b[0mravel\u001b[0m\u001b[0;34m(\u001b[0m\u001b[0;34m)\u001b[0m\u001b[0;34m\u001b[0m\n",
            "\u001b[0;34m\u001b[0m        \u001b[0;31m# needed for np.matrix, which is still not 1d after being ravelled\u001b[0m\u001b[0;34m\u001b[0m\n",
            "\u001b[0;34m\u001b[0m        \u001b[0mndim\u001b[0m \u001b[0;34m=\u001b[0m \u001b[0marr\u001b[0m\u001b[0;34m.\u001b[0m\u001b[0mndim\u001b[0m\u001b[0;34m\u001b[0m\n",
            "\u001b[0;34m\u001b[0m        \u001b[0maxis\u001b[0m \u001b[0;34m=\u001b[0m \u001b[0mndim\u001b[0m \u001b[0;34m-\u001b[0m \u001b[0;36m1\u001b[0m\u001b[0;34m\u001b[0m\n",
            "\u001b[0;34m\u001b[0m    \u001b[0;32melse\u001b[0m\u001b[0;34m:\u001b[0m\u001b[0;34m\u001b[0m\n",
            "\u001b[0;34m\u001b[0m        \u001b[0maxis\u001b[0m \u001b[0;34m=\u001b[0m \u001b[0mnormalize_axis_index\u001b[0m\u001b[0;34m(\u001b[0m\u001b[0maxis\u001b[0m\u001b[0;34m,\u001b[0m \u001b[0mndim\u001b[0m\u001b[0;34m)\u001b[0m\u001b[0;34m\u001b[0m\n",
            "\u001b[0;34m\u001b[0m    \u001b[0mslobj\u001b[0m \u001b[0;34m=\u001b[0m \u001b[0;34m[\u001b[0m\u001b[0mslice\u001b[0m\u001b[0;34m(\u001b[0m\u001b[0;32mNone\u001b[0m\u001b[0;34m)\u001b[0m\u001b[0;34m]\u001b[0m\u001b[0;34m*\u001b[0m\u001b[0mndim\u001b[0m\u001b[0;34m\u001b[0m\n",
            "\u001b[0;34m\u001b[0m    \u001b[0mN\u001b[0m \u001b[0;34m=\u001b[0m \u001b[0marr\u001b[0m\u001b[0;34m.\u001b[0m\u001b[0mshape\u001b[0m\u001b[0;34m[\u001b[0m\u001b[0maxis\u001b[0m\u001b[0;34m]\u001b[0m\u001b[0;34m\u001b[0m\n",
            "\u001b[0;34m\u001b[0m    \u001b[0mnewshape\u001b[0m \u001b[0;34m=\u001b[0m \u001b[0mlist\u001b[0m\u001b[0;34m(\u001b[0m\u001b[0marr\u001b[0m\u001b[0;34m.\u001b[0m\u001b[0mshape\u001b[0m\u001b[0;34m)\u001b[0m\u001b[0;34m\u001b[0m\n",
            "\u001b[0;34m\u001b[0m\u001b[0;34m\u001b[0m\n",
            "\u001b[0;34m\u001b[0m    \u001b[0;32mif\u001b[0m \u001b[0misinstance\u001b[0m\u001b[0;34m(\u001b[0m\u001b[0mobj\u001b[0m\u001b[0;34m,\u001b[0m \u001b[0mslice\u001b[0m\u001b[0;34m)\u001b[0m\u001b[0;34m:\u001b[0m\u001b[0;34m\u001b[0m\n",
            "\u001b[0;34m\u001b[0m        \u001b[0;31m# turn it into a range object\u001b[0m\u001b[0;34m\u001b[0m\n",
            "\u001b[0;34m\u001b[0m        \u001b[0mindices\u001b[0m \u001b[0;34m=\u001b[0m \u001b[0marange\u001b[0m\u001b[0;34m(\u001b[0m\u001b[0;34m*\u001b[0m\u001b[0mobj\u001b[0m\u001b[0;34m.\u001b[0m\u001b[0mindices\u001b[0m\u001b[0;34m(\u001b[0m\u001b[0mN\u001b[0m\u001b[0;34m)\u001b[0m\u001b[0;34m,\u001b[0m \u001b[0mdtype\u001b[0m\u001b[0;34m=\u001b[0m\u001b[0mintp\u001b[0m\u001b[0;34m)\u001b[0m\u001b[0;34m\u001b[0m\n",
            "\u001b[0;34m\u001b[0m    \u001b[0;32melse\u001b[0m\u001b[0;34m:\u001b[0m\u001b[0;34m\u001b[0m\n",
            "\u001b[0;34m\u001b[0m        \u001b[0;31m# need to copy obj, because indices will be changed in-place\u001b[0m\u001b[0;34m\u001b[0m\n",
            "\u001b[0;34m\u001b[0m        \u001b[0mindices\u001b[0m \u001b[0;34m=\u001b[0m \u001b[0mnp\u001b[0m\u001b[0;34m.\u001b[0m\u001b[0marray\u001b[0m\u001b[0;34m(\u001b[0m\u001b[0mobj\u001b[0m\u001b[0;34m)\u001b[0m\u001b[0;34m\u001b[0m\n",
            "\u001b[0;34m\u001b[0m        \u001b[0;32mif\u001b[0m \u001b[0mindices\u001b[0m\u001b[0;34m.\u001b[0m\u001b[0mdtype\u001b[0m \u001b[0;34m==\u001b[0m \u001b[0mbool\u001b[0m\u001b[0;34m:\u001b[0m\u001b[0;34m\u001b[0m\n",
            "\u001b[0;34m\u001b[0m            \u001b[0;31m# See also delete\u001b[0m\u001b[0;34m\u001b[0m\n",
            "\u001b[0;34m\u001b[0m            \u001b[0;31m# 2012-10-11, NumPy 1.8\u001b[0m\u001b[0;34m\u001b[0m\n",
            "\u001b[0;34m\u001b[0m            \u001b[0mwarnings\u001b[0m\u001b[0;34m.\u001b[0m\u001b[0mwarn\u001b[0m\u001b[0;34m(\u001b[0m\u001b[0;34m\u001b[0m\n",
            "\u001b[0;34m\u001b[0m                \u001b[0;34m\"in the future insert will treat boolean arrays and \"\u001b[0m\u001b[0;34m\u001b[0m\n",
            "\u001b[0;34m\u001b[0m                \u001b[0;34m\"array-likes as a boolean index instead of casting it to \"\u001b[0m\u001b[0;34m\u001b[0m\n",
            "\u001b[0;34m\u001b[0m                \u001b[0;34m\"integer\"\u001b[0m\u001b[0;34m,\u001b[0m \u001b[0mFutureWarning\u001b[0m\u001b[0;34m,\u001b[0m \u001b[0mstacklevel\u001b[0m\u001b[0;34m=\u001b[0m\u001b[0;36m2\u001b[0m\u001b[0;34m)\u001b[0m\u001b[0;34m\u001b[0m\n",
            "\u001b[0;34m\u001b[0m            \u001b[0mindices\u001b[0m \u001b[0;34m=\u001b[0m \u001b[0mindices\u001b[0m\u001b[0;34m.\u001b[0m\u001b[0mastype\u001b[0m\u001b[0;34m(\u001b[0m\u001b[0mintp\u001b[0m\u001b[0;34m)\u001b[0m\u001b[0;34m\u001b[0m\n",
            "\u001b[0;34m\u001b[0m            \u001b[0;31m# Code after warning period:\u001b[0m\u001b[0;34m\u001b[0m\n",
            "\u001b[0;34m\u001b[0m            \u001b[0;31m#if obj.ndim != 1:\u001b[0m\u001b[0;34m\u001b[0m\n",
            "\u001b[0;34m\u001b[0m            \u001b[0;31m#    raise ValueError('boolean array argument obj to insert '\u001b[0m\u001b[0;34m\u001b[0m\n",
            "\u001b[0;34m\u001b[0m            \u001b[0;31m#                     'must be one dimensional')\u001b[0m\u001b[0;34m\u001b[0m\n",
            "\u001b[0;34m\u001b[0m            \u001b[0;31m#indices = np.flatnonzero(obj)\u001b[0m\u001b[0;34m\u001b[0m\n",
            "\u001b[0;34m\u001b[0m        \u001b[0;32melif\u001b[0m \u001b[0mindices\u001b[0m\u001b[0;34m.\u001b[0m\u001b[0mndim\u001b[0m \u001b[0;34m>\u001b[0m \u001b[0;36m1\u001b[0m\u001b[0;34m:\u001b[0m\u001b[0;34m\u001b[0m\n",
            "\u001b[0;34m\u001b[0m            \u001b[0;32mraise\u001b[0m \u001b[0mValueError\u001b[0m\u001b[0;34m(\u001b[0m\u001b[0;34m\u001b[0m\n",
            "\u001b[0;34m\u001b[0m                \u001b[0;34m\"index array argument obj to insert must be one dimensional \"\u001b[0m\u001b[0;34m\u001b[0m\n",
            "\u001b[0;34m\u001b[0m                \u001b[0;34m\"or scalar\"\u001b[0m\u001b[0;34m)\u001b[0m\u001b[0;34m\u001b[0m\n",
            "\u001b[0;34m\u001b[0m    \u001b[0;32mif\u001b[0m \u001b[0mindices\u001b[0m\u001b[0;34m.\u001b[0m\u001b[0msize\u001b[0m \u001b[0;34m==\u001b[0m \u001b[0;36m1\u001b[0m\u001b[0;34m:\u001b[0m\u001b[0;34m\u001b[0m\n",
            "\u001b[0;34m\u001b[0m        \u001b[0mindex\u001b[0m \u001b[0;34m=\u001b[0m \u001b[0mindices\u001b[0m\u001b[0;34m.\u001b[0m\u001b[0mitem\u001b[0m\u001b[0;34m(\u001b[0m\u001b[0;34m)\u001b[0m\u001b[0;34m\u001b[0m\n",
            "\u001b[0;34m\u001b[0m        \u001b[0;32mif\u001b[0m \u001b[0mindex\u001b[0m \u001b[0;34m<\u001b[0m \u001b[0;34m-\u001b[0m\u001b[0mN\u001b[0m \u001b[0;32mor\u001b[0m \u001b[0mindex\u001b[0m \u001b[0;34m>\u001b[0m \u001b[0mN\u001b[0m\u001b[0;34m:\u001b[0m\u001b[0;34m\u001b[0m\n",
            "\u001b[0;34m\u001b[0m            \u001b[0;32mraise\u001b[0m \u001b[0mIndexError\u001b[0m\u001b[0;34m(\u001b[0m\u001b[0;34mf\"index {obj} is out of bounds for axis {axis} \"\u001b[0m\u001b[0;34m\u001b[0m\n",
            "\u001b[0;34m\u001b[0m                             \u001b[0;34mf\"with size {N}\"\u001b[0m\u001b[0;34m)\u001b[0m\u001b[0;34m\u001b[0m\n",
            "\u001b[0;34m\u001b[0m        \u001b[0;32mif\u001b[0m \u001b[0;34m(\u001b[0m\u001b[0mindex\u001b[0m \u001b[0;34m<\u001b[0m \u001b[0;36m0\u001b[0m\u001b[0;34m)\u001b[0m\u001b[0;34m:\u001b[0m\u001b[0;34m\u001b[0m\n",
            "\u001b[0;34m\u001b[0m            \u001b[0mindex\u001b[0m \u001b[0;34m+=\u001b[0m \u001b[0mN\u001b[0m\u001b[0;34m\u001b[0m\n",
            "\u001b[0;34m\u001b[0m\u001b[0;34m\u001b[0m\n",
            "\u001b[0;34m\u001b[0m        \u001b[0;31m# There are some object array corner cases here, but we cannot avoid\u001b[0m\u001b[0;34m\u001b[0m\n",
            "\u001b[0;34m\u001b[0m        \u001b[0;31m# that:\u001b[0m\u001b[0;34m\u001b[0m\n",
            "\u001b[0;34m\u001b[0m        \u001b[0mvalues\u001b[0m \u001b[0;34m=\u001b[0m \u001b[0marray\u001b[0m\u001b[0;34m(\u001b[0m\u001b[0mvalues\u001b[0m\u001b[0;34m,\u001b[0m \u001b[0mcopy\u001b[0m\u001b[0;34m=\u001b[0m\u001b[0;32mFalse\u001b[0m\u001b[0;34m,\u001b[0m \u001b[0mndmin\u001b[0m\u001b[0;34m=\u001b[0m\u001b[0marr\u001b[0m\u001b[0;34m.\u001b[0m\u001b[0mndim\u001b[0m\u001b[0;34m,\u001b[0m \u001b[0mdtype\u001b[0m\u001b[0;34m=\u001b[0m\u001b[0marr\u001b[0m\u001b[0;34m.\u001b[0m\u001b[0mdtype\u001b[0m\u001b[0;34m)\u001b[0m\u001b[0;34m\u001b[0m\n",
            "\u001b[0;34m\u001b[0m        \u001b[0;32mif\u001b[0m \u001b[0mindices\u001b[0m\u001b[0;34m.\u001b[0m\u001b[0mndim\u001b[0m \u001b[0;34m==\u001b[0m \u001b[0;36m0\u001b[0m\u001b[0;34m:\u001b[0m\u001b[0;34m\u001b[0m\n",
            "\u001b[0;34m\u001b[0m            \u001b[0;31m# broadcasting is very different here, since a[:,0,:] = ... behaves\u001b[0m\u001b[0;34m\u001b[0m\n",
            "\u001b[0;34m\u001b[0m            \u001b[0;31m# very different from a[:,[0],:] = ...! This changes values so that\u001b[0m\u001b[0;34m\u001b[0m\n",
            "\u001b[0;34m\u001b[0m            \u001b[0;31m# it works likes the second case. (here a[:,0:1,:])\u001b[0m\u001b[0;34m\u001b[0m\n",
            "\u001b[0;34m\u001b[0m            \u001b[0mvalues\u001b[0m \u001b[0;34m=\u001b[0m \u001b[0mnp\u001b[0m\u001b[0;34m.\u001b[0m\u001b[0mmoveaxis\u001b[0m\u001b[0;34m(\u001b[0m\u001b[0mvalues\u001b[0m\u001b[0;34m,\u001b[0m \u001b[0;36m0\u001b[0m\u001b[0;34m,\u001b[0m \u001b[0maxis\u001b[0m\u001b[0;34m)\u001b[0m\u001b[0;34m\u001b[0m\n",
            "\u001b[0;34m\u001b[0m        \u001b[0mnumnew\u001b[0m \u001b[0;34m=\u001b[0m \u001b[0mvalues\u001b[0m\u001b[0;34m.\u001b[0m\u001b[0mshape\u001b[0m\u001b[0;34m[\u001b[0m\u001b[0maxis\u001b[0m\u001b[0;34m]\u001b[0m\u001b[0;34m\u001b[0m\n",
            "\u001b[0;34m\u001b[0m        \u001b[0mnewshape\u001b[0m\u001b[0;34m[\u001b[0m\u001b[0maxis\u001b[0m\u001b[0;34m]\u001b[0m \u001b[0;34m+=\u001b[0m \u001b[0mnumnew\u001b[0m\u001b[0;34m\u001b[0m\n",
            "\u001b[0;34m\u001b[0m        \u001b[0mnew\u001b[0m \u001b[0;34m=\u001b[0m \u001b[0mempty\u001b[0m\u001b[0;34m(\u001b[0m\u001b[0mnewshape\u001b[0m\u001b[0;34m,\u001b[0m \u001b[0marr\u001b[0m\u001b[0;34m.\u001b[0m\u001b[0mdtype\u001b[0m\u001b[0;34m,\u001b[0m \u001b[0marrorder\u001b[0m\u001b[0;34m)\u001b[0m\u001b[0;34m\u001b[0m\n",
            "\u001b[0;34m\u001b[0m        \u001b[0mslobj\u001b[0m\u001b[0;34m[\u001b[0m\u001b[0maxis\u001b[0m\u001b[0;34m]\u001b[0m \u001b[0;34m=\u001b[0m \u001b[0mslice\u001b[0m\u001b[0;34m(\u001b[0m\u001b[0;32mNone\u001b[0m\u001b[0;34m,\u001b[0m \u001b[0mindex\u001b[0m\u001b[0;34m)\u001b[0m\u001b[0;34m\u001b[0m\n",
            "\u001b[0;34m\u001b[0m        \u001b[0mnew\u001b[0m\u001b[0;34m[\u001b[0m\u001b[0mtuple\u001b[0m\u001b[0;34m(\u001b[0m\u001b[0mslobj\u001b[0m\u001b[0;34m)\u001b[0m\u001b[0;34m]\u001b[0m \u001b[0;34m=\u001b[0m \u001b[0marr\u001b[0m\u001b[0;34m[\u001b[0m\u001b[0mtuple\u001b[0m\u001b[0;34m(\u001b[0m\u001b[0mslobj\u001b[0m\u001b[0;34m)\u001b[0m\u001b[0;34m]\u001b[0m\u001b[0;34m\u001b[0m\n",
            "\u001b[0;34m\u001b[0m        \u001b[0mslobj\u001b[0m\u001b[0;34m[\u001b[0m\u001b[0maxis\u001b[0m\u001b[0;34m]\u001b[0m \u001b[0;34m=\u001b[0m \u001b[0mslice\u001b[0m\u001b[0;34m(\u001b[0m\u001b[0mindex\u001b[0m\u001b[0;34m,\u001b[0m \u001b[0mindex\u001b[0m\u001b[0;34m+\u001b[0m\u001b[0mnumnew\u001b[0m\u001b[0;34m)\u001b[0m\u001b[0;34m\u001b[0m\n",
            "\u001b[0;34m\u001b[0m        \u001b[0mnew\u001b[0m\u001b[0;34m[\u001b[0m\u001b[0mtuple\u001b[0m\u001b[0;34m(\u001b[0m\u001b[0mslobj\u001b[0m\u001b[0;34m)\u001b[0m\u001b[0;34m]\u001b[0m \u001b[0;34m=\u001b[0m \u001b[0mvalues\u001b[0m\u001b[0;34m\u001b[0m\n",
            "\u001b[0;34m\u001b[0m        \u001b[0mslobj\u001b[0m\u001b[0;34m[\u001b[0m\u001b[0maxis\u001b[0m\u001b[0;34m]\u001b[0m \u001b[0;34m=\u001b[0m \u001b[0mslice\u001b[0m\u001b[0;34m(\u001b[0m\u001b[0mindex\u001b[0m\u001b[0;34m+\u001b[0m\u001b[0mnumnew\u001b[0m\u001b[0;34m,\u001b[0m \u001b[0;32mNone\u001b[0m\u001b[0;34m)\u001b[0m\u001b[0;34m\u001b[0m\n",
            "\u001b[0;34m\u001b[0m        \u001b[0mslobj2\u001b[0m \u001b[0;34m=\u001b[0m \u001b[0;34m[\u001b[0m\u001b[0mslice\u001b[0m\u001b[0;34m(\u001b[0m\u001b[0;32mNone\u001b[0m\u001b[0;34m)\u001b[0m\u001b[0;34m]\u001b[0m \u001b[0;34m*\u001b[0m \u001b[0mndim\u001b[0m\u001b[0;34m\u001b[0m\n",
            "\u001b[0;34m\u001b[0m        \u001b[0mslobj2\u001b[0m\u001b[0;34m[\u001b[0m\u001b[0maxis\u001b[0m\u001b[0;34m]\u001b[0m \u001b[0;34m=\u001b[0m \u001b[0mslice\u001b[0m\u001b[0;34m(\u001b[0m\u001b[0mindex\u001b[0m\u001b[0;34m,\u001b[0m \u001b[0;32mNone\u001b[0m\u001b[0;34m)\u001b[0m\u001b[0;34m\u001b[0m\n",
            "\u001b[0;34m\u001b[0m        \u001b[0mnew\u001b[0m\u001b[0;34m[\u001b[0m\u001b[0mtuple\u001b[0m\u001b[0;34m(\u001b[0m\u001b[0mslobj\u001b[0m\u001b[0;34m)\u001b[0m\u001b[0;34m]\u001b[0m \u001b[0;34m=\u001b[0m \u001b[0marr\u001b[0m\u001b[0;34m[\u001b[0m\u001b[0mtuple\u001b[0m\u001b[0;34m(\u001b[0m\u001b[0mslobj2\u001b[0m\u001b[0;34m)\u001b[0m\u001b[0;34m]\u001b[0m\u001b[0;34m\u001b[0m\n",
            "\u001b[0;34m\u001b[0m        \u001b[0;32mif\u001b[0m \u001b[0mwrap\u001b[0m\u001b[0;34m:\u001b[0m\u001b[0;34m\u001b[0m\n",
            "\u001b[0;34m\u001b[0m            \u001b[0;32mreturn\u001b[0m \u001b[0mwrap\u001b[0m\u001b[0;34m(\u001b[0m\u001b[0mnew\u001b[0m\u001b[0;34m)\u001b[0m\u001b[0;34m\u001b[0m\n",
            "\u001b[0;34m\u001b[0m        \u001b[0;32mreturn\u001b[0m \u001b[0mnew\u001b[0m\u001b[0;34m\u001b[0m\n",
            "\u001b[0;34m\u001b[0m    \u001b[0;32melif\u001b[0m \u001b[0mindices\u001b[0m\u001b[0;34m.\u001b[0m\u001b[0msize\u001b[0m \u001b[0;34m==\u001b[0m \u001b[0;36m0\u001b[0m \u001b[0;32mand\u001b[0m \u001b[0;32mnot\u001b[0m \u001b[0misinstance\u001b[0m\u001b[0;34m(\u001b[0m\u001b[0mobj\u001b[0m\u001b[0;34m,\u001b[0m \u001b[0mnp\u001b[0m\u001b[0;34m.\u001b[0m\u001b[0mndarray\u001b[0m\u001b[0;34m)\u001b[0m\u001b[0;34m:\u001b[0m\u001b[0;34m\u001b[0m\n",
            "\u001b[0;34m\u001b[0m        \u001b[0;31m# Can safely cast the empty list to intp\u001b[0m\u001b[0;34m\u001b[0m\n",
            "\u001b[0;34m\u001b[0m        \u001b[0mindices\u001b[0m \u001b[0;34m=\u001b[0m \u001b[0mindices\u001b[0m\u001b[0;34m.\u001b[0m\u001b[0mastype\u001b[0m\u001b[0;34m(\u001b[0m\u001b[0mintp\u001b[0m\u001b[0;34m)\u001b[0m\u001b[0;34m\u001b[0m\n",
            "\u001b[0;34m\u001b[0m\u001b[0;34m\u001b[0m\n",
            "\u001b[0;34m\u001b[0m    \u001b[0mindices\u001b[0m\u001b[0;34m[\u001b[0m\u001b[0mindices\u001b[0m \u001b[0;34m<\u001b[0m \u001b[0;36m0\u001b[0m\u001b[0;34m]\u001b[0m \u001b[0;34m+=\u001b[0m \u001b[0mN\u001b[0m\u001b[0;34m\u001b[0m\n",
            "\u001b[0;34m\u001b[0m\u001b[0;34m\u001b[0m\n",
            "\u001b[0;34m\u001b[0m    \u001b[0mnumnew\u001b[0m \u001b[0;34m=\u001b[0m \u001b[0mlen\u001b[0m\u001b[0;34m(\u001b[0m\u001b[0mindices\u001b[0m\u001b[0;34m)\u001b[0m\u001b[0;34m\u001b[0m\n",
            "\u001b[0;34m\u001b[0m    \u001b[0morder\u001b[0m \u001b[0;34m=\u001b[0m \u001b[0mindices\u001b[0m\u001b[0;34m.\u001b[0m\u001b[0margsort\u001b[0m\u001b[0;34m(\u001b[0m\u001b[0mkind\u001b[0m\u001b[0;34m=\u001b[0m\u001b[0;34m'mergesort'\u001b[0m\u001b[0;34m)\u001b[0m   \u001b[0;31m# stable sort\u001b[0m\u001b[0;34m\u001b[0m\n",
            "\u001b[0;34m\u001b[0m    \u001b[0mindices\u001b[0m\u001b[0;34m[\u001b[0m\u001b[0morder\u001b[0m\u001b[0;34m]\u001b[0m \u001b[0;34m+=\u001b[0m \u001b[0mnp\u001b[0m\u001b[0;34m.\u001b[0m\u001b[0marange\u001b[0m\u001b[0;34m(\u001b[0m\u001b[0mnumnew\u001b[0m\u001b[0;34m)\u001b[0m\u001b[0;34m\u001b[0m\n",
            "\u001b[0;34m\u001b[0m\u001b[0;34m\u001b[0m\n",
            "\u001b[0;34m\u001b[0m    \u001b[0mnewshape\u001b[0m\u001b[0;34m[\u001b[0m\u001b[0maxis\u001b[0m\u001b[0;34m]\u001b[0m \u001b[0;34m+=\u001b[0m \u001b[0mnumnew\u001b[0m\u001b[0;34m\u001b[0m\n",
            "\u001b[0;34m\u001b[0m    \u001b[0mold_mask\u001b[0m \u001b[0;34m=\u001b[0m \u001b[0mones\u001b[0m\u001b[0;34m(\u001b[0m\u001b[0mnewshape\u001b[0m\u001b[0;34m[\u001b[0m\u001b[0maxis\u001b[0m\u001b[0;34m]\u001b[0m\u001b[0;34m,\u001b[0m \u001b[0mdtype\u001b[0m\u001b[0;34m=\u001b[0m\u001b[0mbool\u001b[0m\u001b[0;34m)\u001b[0m\u001b[0;34m\u001b[0m\n",
            "\u001b[0;34m\u001b[0m    \u001b[0mold_mask\u001b[0m\u001b[0;34m[\u001b[0m\u001b[0mindices\u001b[0m\u001b[0;34m]\u001b[0m \u001b[0;34m=\u001b[0m \u001b[0;32mFalse\u001b[0m\u001b[0;34m\u001b[0m\n",
            "\u001b[0;34m\u001b[0m\u001b[0;34m\u001b[0m\n",
            "\u001b[0;34m\u001b[0m    \u001b[0mnew\u001b[0m \u001b[0;34m=\u001b[0m \u001b[0mempty\u001b[0m\u001b[0;34m(\u001b[0m\u001b[0mnewshape\u001b[0m\u001b[0;34m,\u001b[0m \u001b[0marr\u001b[0m\u001b[0;34m.\u001b[0m\u001b[0mdtype\u001b[0m\u001b[0;34m,\u001b[0m \u001b[0marrorder\u001b[0m\u001b[0;34m)\u001b[0m\u001b[0;34m\u001b[0m\n",
            "\u001b[0;34m\u001b[0m    \u001b[0mslobj2\u001b[0m \u001b[0;34m=\u001b[0m \u001b[0;34m[\u001b[0m\u001b[0mslice\u001b[0m\u001b[0;34m(\u001b[0m\u001b[0;32mNone\u001b[0m\u001b[0;34m)\u001b[0m\u001b[0;34m]\u001b[0m\u001b[0;34m*\u001b[0m\u001b[0mndim\u001b[0m\u001b[0;34m\u001b[0m\n",
            "\u001b[0;34m\u001b[0m    \u001b[0mslobj\u001b[0m\u001b[0;34m[\u001b[0m\u001b[0maxis\u001b[0m\u001b[0;34m]\u001b[0m \u001b[0;34m=\u001b[0m \u001b[0mindices\u001b[0m\u001b[0;34m\u001b[0m\n",
            "\u001b[0;34m\u001b[0m    \u001b[0mslobj2\u001b[0m\u001b[0;34m[\u001b[0m\u001b[0maxis\u001b[0m\u001b[0;34m]\u001b[0m \u001b[0;34m=\u001b[0m \u001b[0mold_mask\u001b[0m\u001b[0;34m\u001b[0m\n",
            "\u001b[0;34m\u001b[0m    \u001b[0mnew\u001b[0m\u001b[0;34m[\u001b[0m\u001b[0mtuple\u001b[0m\u001b[0;34m(\u001b[0m\u001b[0mslobj\u001b[0m\u001b[0;34m)\u001b[0m\u001b[0;34m]\u001b[0m \u001b[0;34m=\u001b[0m \u001b[0mvalues\u001b[0m\u001b[0;34m\u001b[0m\n",
            "\u001b[0;34m\u001b[0m    \u001b[0mnew\u001b[0m\u001b[0;34m[\u001b[0m\u001b[0mtuple\u001b[0m\u001b[0;34m(\u001b[0m\u001b[0mslobj2\u001b[0m\u001b[0;34m)\u001b[0m\u001b[0;34m]\u001b[0m \u001b[0;34m=\u001b[0m \u001b[0marr\u001b[0m\u001b[0;34m\u001b[0m\n",
            "\u001b[0;34m\u001b[0m\u001b[0;34m\u001b[0m\n",
            "\u001b[0;34m\u001b[0m    \u001b[0;32mif\u001b[0m \u001b[0mwrap\u001b[0m\u001b[0;34m:\u001b[0m\u001b[0;34m\u001b[0m\n",
            "\u001b[0;34m\u001b[0m        \u001b[0;32mreturn\u001b[0m \u001b[0mwrap\u001b[0m\u001b[0;34m(\u001b[0m\u001b[0mnew\u001b[0m\u001b[0;34m)\u001b[0m\u001b[0;34m\u001b[0m\n",
            "\u001b[0;34m\u001b[0m    \u001b[0;32mreturn\u001b[0m \u001b[0mnew\u001b[0m\u001b[0;34m\u001b[0m\u001b[0;34m\u001b[0m\u001b[0m\n",
            "\u001b[0;31mClass docstring:\u001b[0m\n",
            "Class to wrap functions with checks for __array_function__ overrides.\n",
            "\n",
            "All arguments are required, and can only be passed by position.\n",
            "\n",
            "Parameters\n",
            "----------\n",
            "dispatcher : function or None\n",
            "    The dispatcher function that returns a single sequence-like object\n",
            "    of all arguments relevant.  It must have the same signature (except\n",
            "    the default values) as the actual implementation.\n",
            "    If ``None``, this is a ``like=`` dispatcher and the\n",
            "    ``_ArrayFunctionDispatcher`` must be called with ``like`` as the\n",
            "    first (additional and positional) argument.\n",
            "implementation : function\n",
            "    Function that implements the operation on NumPy arrays without\n",
            "    overrides.  Arguments passed calling the ``_ArrayFunctionDispatcher``\n",
            "    will be forwarded to this (and the ``dispatcher``) as if using\n",
            "    ``*args, **kwargs``.\n",
            "\n",
            "Attributes\n",
            "----------\n",
            "_implementation : function\n",
            "    The original implementation passed in."
          ]
        }
      ],
      "source": [
        "??np.insert"
      ]
    },
    {
      "cell_type": "code",
      "execution_count": 63,
      "metadata": {
        "id": "ljvgHvUAAQNF"
      },
      "outputs": [
        {
          "name": "stdout",
          "output_type": "stream",
          "text": [
            "\u001b[0;31mSignature:\u001b[0m       \u001b[0mnp\u001b[0m\u001b[0;34m.\u001b[0m\u001b[0mcumsum\u001b[0m\u001b[0;34m(\u001b[0m\u001b[0ma\u001b[0m\u001b[0;34m,\u001b[0m \u001b[0maxis\u001b[0m\u001b[0;34m=\u001b[0m\u001b[0;32mNone\u001b[0m\u001b[0;34m,\u001b[0m \u001b[0mdtype\u001b[0m\u001b[0;34m=\u001b[0m\u001b[0;32mNone\u001b[0m\u001b[0;34m,\u001b[0m \u001b[0mout\u001b[0m\u001b[0;34m=\u001b[0m\u001b[0;32mNone\u001b[0m\u001b[0;34m)\u001b[0m\u001b[0;34m\u001b[0m\u001b[0;34m\u001b[0m\u001b[0m\n",
            "\u001b[0;31mCall signature:\u001b[0m  \u001b[0mnp\u001b[0m\u001b[0;34m.\u001b[0m\u001b[0mcumsum\u001b[0m\u001b[0;34m(\u001b[0m\u001b[0;34m*\u001b[0m\u001b[0margs\u001b[0m\u001b[0;34m,\u001b[0m \u001b[0;34m**\u001b[0m\u001b[0mkwargs\u001b[0m\u001b[0;34m)\u001b[0m\u001b[0;34m\u001b[0m\u001b[0;34m\u001b[0m\u001b[0m\n",
            "\u001b[0;31mType:\u001b[0m            _ArrayFunctionDispatcher\n",
            "\u001b[0;31mString form:\u001b[0m     <function cumsum at 0x7fae30552fc0>\n",
            "\u001b[0;31mFile:\u001b[0m            ~/anaconda3/lib/python3.11/site-packages/numpy/core/fromnumeric.py\n",
            "\u001b[0;31mSource:\u001b[0m         \n",
            "\u001b[0;34m@\u001b[0m\u001b[0marray_function_dispatch\u001b[0m\u001b[0;34m(\u001b[0m\u001b[0m_cumsum_dispatcher\u001b[0m\u001b[0;34m)\u001b[0m\u001b[0;34m\u001b[0m\n",
            "\u001b[0;34m\u001b[0m\u001b[0;32mdef\u001b[0m \u001b[0mcumsum\u001b[0m\u001b[0;34m(\u001b[0m\u001b[0ma\u001b[0m\u001b[0;34m,\u001b[0m \u001b[0maxis\u001b[0m\u001b[0;34m=\u001b[0m\u001b[0;32mNone\u001b[0m\u001b[0;34m,\u001b[0m \u001b[0mdtype\u001b[0m\u001b[0;34m=\u001b[0m\u001b[0;32mNone\u001b[0m\u001b[0;34m,\u001b[0m \u001b[0mout\u001b[0m\u001b[0;34m=\u001b[0m\u001b[0;32mNone\u001b[0m\u001b[0;34m)\u001b[0m\u001b[0;34m:\u001b[0m\u001b[0;34m\u001b[0m\n",
            "\u001b[0;34m\u001b[0m    \u001b[0;34m\"\"\"\u001b[0m\n",
            "\u001b[0;34m    Return the cumulative sum of the elements along a given axis.\u001b[0m\n",
            "\u001b[0;34m\u001b[0m\n",
            "\u001b[0;34m    Parameters\u001b[0m\n",
            "\u001b[0;34m    ----------\u001b[0m\n",
            "\u001b[0;34m    a : array_like\u001b[0m\n",
            "\u001b[0;34m        Input array.\u001b[0m\n",
            "\u001b[0;34m    axis : int, optional\u001b[0m\n",
            "\u001b[0;34m        Axis along which the cumulative sum is computed. The default\u001b[0m\n",
            "\u001b[0;34m        (None) is to compute the cumsum over the flattened array.\u001b[0m\n",
            "\u001b[0;34m    dtype : dtype, optional\u001b[0m\n",
            "\u001b[0;34m        Type of the returned array and of the accumulator in which the\u001b[0m\n",
            "\u001b[0;34m        elements are summed.  If `dtype` is not specified, it defaults\u001b[0m\n",
            "\u001b[0;34m        to the dtype of `a`, unless `a` has an integer dtype with a\u001b[0m\n",
            "\u001b[0;34m        precision less than that of the default platform integer.  In\u001b[0m\n",
            "\u001b[0;34m        that case, the default platform integer is used.\u001b[0m\n",
            "\u001b[0;34m    out : ndarray, optional\u001b[0m\n",
            "\u001b[0;34m        Alternative output array in which to place the result. It must\u001b[0m\n",
            "\u001b[0;34m        have the same shape and buffer length as the expected output\u001b[0m\n",
            "\u001b[0;34m        but the type will be cast if necessary. See :ref:`ufuncs-output-type` for\u001b[0m\n",
            "\u001b[0;34m        more details.\u001b[0m\n",
            "\u001b[0;34m\u001b[0m\n",
            "\u001b[0;34m    Returns\u001b[0m\n",
            "\u001b[0;34m    -------\u001b[0m\n",
            "\u001b[0;34m    cumsum_along_axis : ndarray.\u001b[0m\n",
            "\u001b[0;34m        A new array holding the result is returned unless `out` is\u001b[0m\n",
            "\u001b[0;34m        specified, in which case a reference to `out` is returned. The\u001b[0m\n",
            "\u001b[0;34m        result has the same size as `a`, and the same shape as `a` if\u001b[0m\n",
            "\u001b[0;34m        `axis` is not None or `a` is a 1-d array.\u001b[0m\n",
            "\u001b[0;34m\u001b[0m\n",
            "\u001b[0;34m    See Also\u001b[0m\n",
            "\u001b[0;34m    --------\u001b[0m\n",
            "\u001b[0;34m    sum : Sum array elements.\u001b[0m\n",
            "\u001b[0;34m    trapz : Integration of array values using the composite trapezoidal rule.\u001b[0m\n",
            "\u001b[0;34m    diff : Calculate the n-th discrete difference along given axis.\u001b[0m\n",
            "\u001b[0;34m\u001b[0m\n",
            "\u001b[0;34m    Notes\u001b[0m\n",
            "\u001b[0;34m    -----\u001b[0m\n",
            "\u001b[0;34m    Arithmetic is modular when using integer types, and no error is\u001b[0m\n",
            "\u001b[0;34m    raised on overflow.\u001b[0m\n",
            "\u001b[0;34m\u001b[0m\n",
            "\u001b[0;34m    ``cumsum(a)[-1]`` may not be equal to ``sum(a)`` for floating-point\u001b[0m\n",
            "\u001b[0;34m    values since ``sum`` may use a pairwise summation routine, reducing\u001b[0m\n",
            "\u001b[0;34m    the roundoff-error. See `sum` for more information.\u001b[0m\n",
            "\u001b[0;34m\u001b[0m\n",
            "\u001b[0;34m    Examples\u001b[0m\n",
            "\u001b[0;34m    --------\u001b[0m\n",
            "\u001b[0;34m    >>> a = np.array([[1,2,3], [4,5,6]])\u001b[0m\n",
            "\u001b[0;34m    >>> a\u001b[0m\n",
            "\u001b[0;34m    array([[1, 2, 3],\u001b[0m\n",
            "\u001b[0;34m           [4, 5, 6]])\u001b[0m\n",
            "\u001b[0;34m    >>> np.cumsum(a)\u001b[0m\n",
            "\u001b[0;34m    array([ 1,  3,  6, 10, 15, 21])\u001b[0m\n",
            "\u001b[0;34m    >>> np.cumsum(a, dtype=float)     # specifies type of output value(s)\u001b[0m\n",
            "\u001b[0;34m    array([  1.,   3.,   6.,  10.,  15.,  21.])\u001b[0m\n",
            "\u001b[0;34m\u001b[0m\n",
            "\u001b[0;34m    >>> np.cumsum(a,axis=0)      # sum over rows for each of the 3 columns\u001b[0m\n",
            "\u001b[0;34m    array([[1, 2, 3],\u001b[0m\n",
            "\u001b[0;34m           [5, 7, 9]])\u001b[0m\n",
            "\u001b[0;34m    >>> np.cumsum(a,axis=1)      # sum over columns for each of the 2 rows\u001b[0m\n",
            "\u001b[0;34m    array([[ 1,  3,  6],\u001b[0m\n",
            "\u001b[0;34m           [ 4,  9, 15]])\u001b[0m\n",
            "\u001b[0;34m\u001b[0m\n",
            "\u001b[0;34m    ``cumsum(b)[-1]`` may not be equal to ``sum(b)``\u001b[0m\n",
            "\u001b[0;34m\u001b[0m\n",
            "\u001b[0;34m    >>> b = np.array([1, 2e-9, 3e-9] * 1000000)\u001b[0m\n",
            "\u001b[0;34m    >>> b.cumsum()[-1]\u001b[0m\n",
            "\u001b[0;34m    1000000.0050045159\u001b[0m\n",
            "\u001b[0;34m    >>> b.sum()\u001b[0m\n",
            "\u001b[0;34m    1000000.0050000029\u001b[0m\n",
            "\u001b[0;34m\u001b[0m\n",
            "\u001b[0;34m    \"\"\"\u001b[0m\u001b[0;34m\u001b[0m\n",
            "\u001b[0;34m\u001b[0m    \u001b[0;32mreturn\u001b[0m \u001b[0m_wrapfunc\u001b[0m\u001b[0;34m(\u001b[0m\u001b[0ma\u001b[0m\u001b[0;34m,\u001b[0m \u001b[0;34m'cumsum'\u001b[0m\u001b[0;34m,\u001b[0m \u001b[0maxis\u001b[0m\u001b[0;34m=\u001b[0m\u001b[0maxis\u001b[0m\u001b[0;34m,\u001b[0m \u001b[0mdtype\u001b[0m\u001b[0;34m=\u001b[0m\u001b[0mdtype\u001b[0m\u001b[0;34m,\u001b[0m \u001b[0mout\u001b[0m\u001b[0;34m=\u001b[0m\u001b[0mout\u001b[0m\u001b[0;34m)\u001b[0m\u001b[0;34m\u001b[0m\u001b[0;34m\u001b[0m\u001b[0m\n",
            "\u001b[0;31mClass docstring:\u001b[0m\n",
            "Class to wrap functions with checks for __array_function__ overrides.\n",
            "\n",
            "All arguments are required, and can only be passed by position.\n",
            "\n",
            "Parameters\n",
            "----------\n",
            "dispatcher : function or None\n",
            "    The dispatcher function that returns a single sequence-like object\n",
            "    of all arguments relevant.  It must have the same signature (except\n",
            "    the default values) as the actual implementation.\n",
            "    If ``None``, this is a ``like=`` dispatcher and the\n",
            "    ``_ArrayFunctionDispatcher`` must be called with ``like`` as the\n",
            "    first (additional and positional) argument.\n",
            "implementation : function\n",
            "    Function that implements the operation on NumPy arrays without\n",
            "    overrides.  Arguments passed calling the ``_ArrayFunctionDispatcher``\n",
            "    will be forwarded to this (and the ``dispatcher``) as if using\n",
            "    ``*args, **kwargs``.\n",
            "\n",
            "Attributes\n",
            "----------\n",
            "_implementation : function\n",
            "    The original implementation passed in."
          ]
        }
      ],
      "source": [
        "??np.cumsum"
      ]
    },
    {
      "cell_type": "code",
      "execution_count": 82,
      "metadata": {
        "colab": {
          "base_uri": "https://localhost:8080/"
        },
        "id": "_0H2PGLM9jxV",
        "outputId": "b26ad361-d41f-45aa-ea88-819ed24121df"
      },
      "outputs": [
        {
          "name": "stdout",
          "output_type": "stream",
          "text": [
            "61 µs ± 10.5 µs per loop (mean ± std. dev. of 7 runs, 10,000 loops each)\n"
          ]
        }
      ],
      "source": [
        "%%timeit\n",
        "mes = np.insert(measurements,0,0)\n",
        "cumulative_sums = np.cumsum(mes)\n",
        "temp = cumulative_sums[2:]-mes[:-2]\n",
        "[temp[i]/2 for i in range(len(temp))]"
      ]
    },
    {
      "cell_type": "markdown",
      "metadata": {
        "id": "vSCp50OJ2E5f"
      },
      "source": [
        "## Broadcasting\n",
        "\n",
        "This is by far the most important concept in `NumPy`. Broadcasting is an automatic expansion of arrays so that they match with their operands.\n",
        "\n",
        "Let's start with the simplest example."
      ]
    },
    {
      "cell_type": "code",
      "execution_count": 7,
      "metadata": {
        "ExecuteTime": {
          "end_time": "2021-03-04T13:35:17.704786Z",
          "start_time": "2021-03-04T13:35:17.686981Z"
        },
        "id": "2mwi3Y9x2E5f"
      },
      "outputs": [
        {
          "data": {
            "text/plain": [
              "array([10, 11, 12, 13, 14, 15, 16, 17, 18, 19])"
            ]
          },
          "execution_count": 7,
          "metadata": {},
          "output_type": "execute_result"
        }
      ],
      "source": [
        "a = np.arange(10)\n",
        "\n",
        "a + 10"
      ]
    },
    {
      "cell_type": "markdown",
      "metadata": {
        "id": "Uw876qMy2E5f"
      },
      "source": [
        "The same happens for 2-d arrays"
      ]
    },
    {
      "cell_type": "code",
      "execution_count": 8,
      "metadata": {
        "ExecuteTime": {
          "end_time": "2021-03-04T13:36:11.473371Z",
          "start_time": "2021-03-04T13:36:11.467333Z"
        },
        "id": "IXQlqKMy2E5g"
      },
      "outputs": [],
      "source": [
        "a = np.array([\n",
        "    [1, 2, 3, 4],\n",
        "    [1, 4, 9, 16],\n",
        "])\n",
        "\n",
        "b = np.array([\n",
        "    [0.1, 0.2, 0.3, 0.4]\n",
        "])"
      ]
    },
    {
      "cell_type": "code",
      "execution_count": 9,
      "metadata": {
        "ExecuteTime": {
          "end_time": "2021-03-04T13:36:30.753757Z",
          "start_time": "2021-03-04T13:36:30.746997Z"
        },
        "id": "bz4691m82E5g"
      },
      "outputs": [
        {
          "data": {
            "text/plain": [
              "array([[ 1,  2,  3,  4],\n",
              "       [ 1,  4,  9, 16]])"
            ]
          },
          "execution_count": 9,
          "metadata": {},
          "output_type": "execute_result"
        }
      ],
      "source": [
        "a"
      ]
    },
    {
      "cell_type": "code",
      "execution_count": 10,
      "metadata": {
        "ExecuteTime": {
          "end_time": "2021-03-04T13:36:51.280051Z",
          "start_time": "2021-03-04T13:36:51.270176Z"
        },
        "id": "a7Fdc8QL2E5g"
      },
      "outputs": [
        {
          "data": {
            "text/plain": [
              "array([[0.1, 0.2, 0.3, 0.4]])"
            ]
          },
          "execution_count": 10,
          "metadata": {},
          "output_type": "execute_result"
        }
      ],
      "source": [
        "b"
      ]
    },
    {
      "cell_type": "code",
      "execution_count": 11,
      "metadata": {
        "ExecuteTime": {
          "end_time": "2021-03-04T13:37:13.042712Z",
          "start_time": "2021-03-04T13:37:13.034225Z"
        },
        "id": "cw5Zjky02E5g"
      },
      "outputs": [
        {
          "data": {
            "text/plain": [
              "array([[ 1.1,  2.2,  3.3,  4.4],\n",
              "       [ 1.1,  4.2,  9.3, 16.4]])"
            ]
          },
          "execution_count": 11,
          "metadata": {},
          "output_type": "execute_result"
        }
      ],
      "source": [
        "a + b"
      ]
    },
    {
      "cell_type": "code",
      "execution_count": 12,
      "metadata": {
        "ExecuteTime": {
          "end_time": "2021-03-04T13:38:22.088441Z",
          "start_time": "2021-03-04T13:38:22.081440Z"
        },
        "id": "ti5hSR8H2E5g"
      },
      "outputs": [
        {
          "data": {
            "text/plain": [
              "((2, 4), (1, 4))"
            ]
          },
          "execution_count": 12,
          "metadata": {},
          "output_type": "execute_result"
        }
      ],
      "source": [
        "a.shape, b.shape"
      ]
    },
    {
      "cell_type": "markdown",
      "metadata": {
        "id": "S2lSfHrA2E5g"
      },
      "source": [
        "The simple rule for broadcasting is the following:\n",
        "\n",
        "If we want to operate on two arrays `a` and `b`:\n",
        "- moving backwards from the last dimension of each array, we check if their dimensions are the same or one equals 1\n",
        "- if all of `a`'s dimensions are compatible with `b`'s dimensions, arrays `a` and `b` are compatible."
      ]
    },
    {
      "cell_type": "code",
      "execution_count": 13,
      "metadata": {
        "ExecuteTime": {
          "end_time": "2021-03-04T13:38:54.057306Z",
          "start_time": "2021-03-04T13:38:54.047873Z"
        },
        "id": "snIS2d7j2E5h"
      },
      "outputs": [
        {
          "data": {
            "text/plain": [
              "array([[4, 7, 6, 5],\n",
              "       [9, 2, 8, 7],\n",
              "       [9, 1, 6, 1]])"
            ]
          },
          "execution_count": 13,
          "metadata": {},
          "output_type": "execute_result"
        }
      ],
      "source": [
        "np.random.seed(1234)\n",
        "\n",
        "a = np.random.randint(low = 1, high = 10, size = (3, 4))\n",
        "a"
      ]
    },
    {
      "cell_type": "code",
      "execution_count": 14,
      "metadata": {
        "ExecuteTime": {
          "end_time": "2021-03-04T13:38:54.057306Z",
          "start_time": "2021-03-04T13:38:54.047873Z"
        },
        "id": "A6D0ocba2E5h"
      },
      "outputs": [
        {
          "data": {
            "text/plain": [
              "array([[7],\n",
              "       [3],\n",
              "       [1]])"
            ]
          },
          "execution_count": 14,
          "metadata": {},
          "output_type": "execute_result"
        }
      ],
      "source": [
        "b = np.random.randint(low = 1, high = 10, size = (3, 1))\n",
        "b"
      ]
    },
    {
      "cell_type": "code",
      "execution_count": 15,
      "metadata": {
        "ExecuteTime": {
          "end_time": "2021-03-04T13:39:40.655864Z",
          "start_time": "2021-03-04T13:39:40.649136Z"
        },
        "id": "TO97OPh92E5h"
      },
      "outputs": [
        {
          "data": {
            "text/plain": [
              "array([[11, 14, 13, 12],\n",
              "       [12,  5, 11, 10],\n",
              "       [10,  2,  7,  2]])"
            ]
          },
          "execution_count": 15,
          "metadata": {},
          "output_type": "execute_result"
        }
      ],
      "source": [
        "a + b"
      ]
    },
    {
      "cell_type": "code",
      "execution_count": 16,
      "metadata": {
        "ExecuteTime": {
          "end_time": "2021-03-04T13:40:26.857657Z",
          "start_time": "2021-03-04T13:40:26.842121Z"
        },
        "id": "pptdE9b52E5h"
      },
      "outputs": [
        {
          "data": {
            "text/plain": [
              "array([[[4, 7, 6, 5]],\n",
              "\n",
              "       [[9, 2, 8, 7]],\n",
              "\n",
              "       [[9, 1, 6, 1]]])"
            ]
          },
          "execution_count": 16,
          "metadata": {},
          "output_type": "execute_result"
        }
      ],
      "source": [
        "np.random.seed(1234)\n",
        "\n",
        "a = np.random.randint(low = 1, high = 10, size = (3, 1, 4))\n",
        "a"
      ]
    },
    {
      "cell_type": "code",
      "execution_count": 17,
      "metadata": {
        "ExecuteTime": {
          "end_time": "2021-03-04T13:40:26.857657Z",
          "start_time": "2021-03-04T13:40:26.842121Z"
        },
        "id": "2xN3P4NJ2E5h"
      },
      "outputs": [
        {
          "data": {
            "text/plain": [
              "array([[7],\n",
              "       [3]])"
            ]
          },
          "execution_count": 17,
          "metadata": {},
          "output_type": "execute_result"
        }
      ],
      "source": [
        "b = np.random.randint(low = 1, high = 10, size = (2, 1))\n",
        "b"
      ]
    },
    {
      "cell_type": "code",
      "execution_count": 18,
      "metadata": {
        "ExecuteTime": {
          "end_time": "2021-03-04T13:41:35.532034Z",
          "start_time": "2021-03-04T13:41:35.525365Z"
        },
        "id": "Z4BDt5qE2E5i"
      },
      "outputs": [
        {
          "data": {
            "text/plain": [
              "array([[[11, 14, 13, 12],\n",
              "        [ 7, 10,  9,  8]],\n",
              "\n",
              "       [[16,  9, 15, 14],\n",
              "        [12,  5, 11, 10]],\n",
              "\n",
              "       [[16,  8, 13,  8],\n",
              "        [12,  4,  9,  4]]])"
            ]
          },
          "execution_count": 18,
          "metadata": {},
          "output_type": "execute_result"
        }
      ],
      "source": [
        "a + b"
      ]
    },
    {
      "cell_type": "markdown",
      "metadata": {
        "id": "eTf_hmN32E5i"
      },
      "source": [
        "Sometimes it is useful to be able to manually modify the shape of the array. This can be done using the `np.newaxis` function (which is simply an alias for the `None` keyword)"
      ]
    },
    {
      "cell_type": "code",
      "execution_count": 19,
      "metadata": {
        "ExecuteTime": {
          "end_time": "2021-03-04T13:42:18.823863Z",
          "start_time": "2021-03-04T13:42:18.815881Z"
        },
        "id": "QJYRo-Tx2E5i"
      },
      "outputs": [],
      "source": [
        "a = np.array([1, 2, 3, 5, 7, 11, 13])"
      ]
    },
    {
      "cell_type": "code",
      "execution_count": 20,
      "metadata": {
        "ExecuteTime": {
          "end_time": "2021-03-04T13:42:38.297766Z",
          "start_time": "2021-03-04T13:42:38.293802Z"
        },
        "id": "zstgfI1v2E5i",
        "outputId": "4040a6bc-8903-4ede-abe3-74c408098254"
      },
      "outputs": [
        {
          "data": {
            "text/plain": [
              "array([ 1,  2,  3,  5,  7, 11, 13])"
            ]
          },
          "execution_count": 20,
          "metadata": {},
          "output_type": "execute_result"
        }
      ],
      "source": [
        "a"
      ]
    },
    {
      "cell_type": "code",
      "execution_count": 21,
      "metadata": {
        "ExecuteTime": {
          "end_time": "2021-03-04T13:42:56.190484Z",
          "start_time": "2021-03-04T13:42:56.184128Z"
        },
        "id": "FQKLn9ic2E5i",
        "outputId": "e333e4d9-e601-40fb-bd13-d6b65b5aa743"
      },
      "outputs": [
        {
          "data": {
            "text/plain": [
              "array([[ 1],\n",
              "       [ 2],\n",
              "       [ 3],\n",
              "       [ 5],\n",
              "       [ 7],\n",
              "       [11],\n",
              "       [13]])"
            ]
          },
          "execution_count": 21,
          "metadata": {},
          "output_type": "execute_result"
        }
      ],
      "source": [
        "a[:, np.newaxis]"
      ]
    },
    {
      "cell_type": "code",
      "execution_count": 22,
      "metadata": {
        "ExecuteTime": {
          "end_time": "2021-03-04T00:49:52.530524Z",
          "start_time": "2021-03-04T00:49:52.526643Z"
        },
        "id": "3MH4TbXE2E5j",
        "outputId": "b4fccfc4-aff9-4544-90e4-b7ad7e9dd885"
      },
      "outputs": [
        {
          "data": {
            "text/plain": [
              "array([[ 1,  2,  3,  5,  7, 11, 13]])"
            ]
          },
          "execution_count": 22,
          "metadata": {},
          "output_type": "execute_result"
        }
      ],
      "source": [
        "a[None, :]"
      ]
    },
    {
      "cell_type": "markdown",
      "metadata": {
        "id": "Zsgs-thn2E5j"
      },
      "source": [
        "This can be very useful if one wants to build an array containing the results of a cross-join operation on two matrices. Suppose we are trying to create $c_{ij} = a_i - b_j$."
      ]
    },
    {
      "cell_type": "code",
      "execution_count": 23,
      "metadata": {
        "ExecuteTime": {
          "end_time": "2021-03-04T13:44:37.156766Z",
          "start_time": "2021-03-04T13:44:37.148882Z"
        },
        "id": "eYj3TaE82E5j",
        "outputId": "fffb3c85-8cc6-4f5e-9325-8621153fbd6c"
      },
      "outputs": [
        {
          "data": {
            "text/plain": [
              "array([[ 1,  0, -1, -2, -3, -4, -5],\n",
              "       [ 2,  1,  0, -1, -2, -3, -4],\n",
              "       [ 3,  2,  1,  0, -1, -2, -3],\n",
              "       [ 5,  4,  3,  2,  1,  0, -1],\n",
              "       [ 7,  6,  5,  4,  3,  2,  1],\n",
              "       [11, 10,  9,  8,  7,  6,  5],\n",
              "       [13, 12, 11, 10,  9,  8,  7]])"
            ]
          },
          "execution_count": 23,
          "metadata": {},
          "output_type": "execute_result"
        }
      ],
      "source": [
        "b = np.arange(7)\n",
        "c = a[:, None] - b[None, :]\n",
        "c"
      ]
    },
    {
      "cell_type": "markdown",
      "metadata": {
        "id": "CZ2K_sKI2E5e"
      },
      "source": [
        "## Homework\n",
        "\n",
        "### Battleships\n",
        "\n",
        "Given a 10x10 playing field with hidden battleships and a list of shooting targets, compute the number of hits. You are only allowed to use the following functions:\n",
        "\n",
        " - ndarray.take\n",
        " - ndarray.T\n",
        " - ndarray.shape\n",
        "\n"
      ]
    },
    {
      "cell_type": "code",
      "execution_count": 2,
      "metadata": {
        "id": "l-l2y9koK4Ce"
      },
      "outputs": [
        {
          "data": {
            "text/plain": [
              "array([[0, 0, 0, 0, 0, 0, 1, 0, 0, 1],\n",
              "       [1, 0, 1, 1, 1, 1, 1, 0, 1, 0],\n",
              "       [1, 1, 0, 1, 0, 0, 1, 0, 0, 1],\n",
              "       [1, 0, 0, 1, 1, 0, 1, 0, 1, 1],\n",
              "       [0, 1, 0, 0, 1, 1, 0, 1, 1, 1],\n",
              "       [0, 0, 0, 1, 1, 1, 1, 0, 0, 1],\n",
              "       [0, 0, 1, 1, 1, 0, 1, 1, 0, 0],\n",
              "       [1, 0, 0, 0, 0, 0, 1, 0, 0, 0],\n",
              "       [1, 0, 1, 0, 1, 0, 0, 0, 0, 1],\n",
              "       [0, 1, 1, 1, 1, 1, 1, 0, 1, 0]])"
            ]
          },
          "execution_count": 2,
          "metadata": {},
          "output_type": "execute_result"
        }
      ],
      "source": [
        "sea = np.random.randint(low=0, high=2, size=(10,10))\n",
        "\n",
        "sea\n"
      ]
    },
    {
      "cell_type": "code",
      "execution_count": 3,
      "metadata": {
        "id": "4N1RKsfrK8ih"
      },
      "outputs": [],
      "source": [
        "\n",
        "targets = np.array([\n",
        "    [0,3],\n",
        "    [1,7],\n",
        "    [2,2],\n",
        "    [3,5],\n",
        "    [8,2]\n",
        "])"
      ]
    },
    {
      "cell_type": "code",
      "execution_count": 6,
      "metadata": {
        "id": "Y8rZez8OK9Ps"
      },
      "outputs": [
        {
          "data": {
            "text/plain": [
              "1"
            ]
          },
          "execution_count": 6,
          "metadata": {},
          "output_type": "execute_result"
        }
      ],
      "source": [
        "rows, cols = targets.T\n",
        "\n",
        "hints = np.take(sea, rows*10+cols)\n",
        "hints.T@hints"
      ]
    },
    {
      "cell_type": "markdown",
      "metadata": {
        "id": "yxlOPuBw2E5j"
      },
      "source": [
        "## Boolean indexing\n",
        "\n",
        "Anytime you have a boolean array, you can use it to mask entries in another array."
      ]
    },
    {
      "cell_type": "code",
      "execution_count": 55,
      "metadata": {
        "ExecuteTime": {
          "end_time": "2021-03-04T13:45:11.374291Z",
          "start_time": "2021-03-04T13:45:11.363385Z"
        },
        "id": "g6dZP2C-2E5j"
      },
      "outputs": [
        {
          "data": {
            "text/plain": [
              "array([[90, 33, 21, 71, 68],\n",
              "       [81, 52, 64, 85, 41],\n",
              "       [ 1, 14,  3, 30, 12],\n",
              "       [73, 19, 26, 96, 68],\n",
              "       [64, 22, 56, 84,  8]])"
            ]
          },
          "execution_count": 55,
          "metadata": {},
          "output_type": "execute_result"
        }
      ],
      "source": [
        "a = np.random.randint(0, 100, size=(5,5))\n",
        "a"
      ]
    },
    {
      "cell_type": "code",
      "execution_count": 56,
      "metadata": {
        "ExecuteTime": {
          "end_time": "2021-03-04T13:45:31.259277Z",
          "start_time": "2021-03-04T13:45:31.255325Z"
        },
        "id": "IKwDZobY2E5k"
      },
      "outputs": [
        {
          "data": {
            "text/plain": [
              "array([[ True, False, False, False, False],\n",
              "       [ True, False, False,  True, False],\n",
              "       [False, False, False, False, False],\n",
              "       [False, False, False,  True, False],\n",
              "       [False, False, False,  True, False]])"
            ]
          },
          "execution_count": 56,
          "metadata": {},
          "output_type": "execute_result"
        }
      ],
      "source": [
        "mask = a > 80\n",
        "mask"
      ]
    },
    {
      "cell_type": "code",
      "execution_count": 57,
      "metadata": {
        "ExecuteTime": {
          "end_time": "2021-03-04T13:46:18.893423Z",
          "start_time": "2021-03-04T13:46:18.886844Z"
        },
        "id": "pUVOs7A12E5k"
      },
      "outputs": [
        {
          "data": {
            "text/plain": [
              "array([90, 81, 85, 96, 84])"
            ]
          },
          "execution_count": 57,
          "metadata": {},
          "output_type": "execute_result"
        }
      ],
      "source": [
        "a[mask]"
      ]
    },
    {
      "cell_type": "markdown",
      "metadata": {
        "id": "m5BLpL3x2E5k"
      },
      "source": [
        "Boolean masking may be applied not only to values, but to rows and columns as well. Just remember to use slicing:\n",
        "\n",
        "*array*[*row_mask*,*col_mask*]"
      ]
    },
    {
      "cell_type": "code",
      "execution_count": 58,
      "metadata": {
        "ExecuteTime": {
          "end_time": "2021-03-04T13:47:08.375507Z",
          "start_time": "2021-03-04T13:47:08.372114Z"
        },
        "id": "8FjhK5Ey2E5k"
      },
      "outputs": [],
      "source": [
        "rows_2_and_4 = np.array([False, True, False, True, False])\n",
        "cols_1_and_2 = np.array([True, True, False, False, False])"
      ]
    },
    {
      "cell_type": "code",
      "execution_count": 59,
      "metadata": {
        "ExecuteTime": {
          "end_time": "2021-03-04T13:47:27.929029Z",
          "start_time": "2021-03-04T13:47:27.923550Z"
        },
        "id": "nQjIf_yc2E5k"
      },
      "outputs": [
        {
          "data": {
            "text/plain": [
              "array([[81, 52, 64, 85, 41],\n",
              "       [73, 19, 26, 96, 68]])"
            ]
          },
          "execution_count": 59,
          "metadata": {},
          "output_type": "execute_result"
        }
      ],
      "source": [
        "a[rows_2_and_4]"
      ]
    },
    {
      "cell_type": "code",
      "execution_count": 60,
      "metadata": {
        "ExecuteTime": {
          "end_time": "2021-03-04T13:47:52.672419Z",
          "start_time": "2021-03-04T13:47:52.653408Z"
        },
        "id": "VZ7dhkMK2E5k"
      },
      "outputs": [
        {
          "data": {
            "text/plain": [
              "array([81, 19])"
            ]
          },
          "execution_count": 60,
          "metadata": {},
          "output_type": "execute_result"
        }
      ],
      "source": [
        "a[rows_2_and_4, cols_1_and_2]"
      ]
    },
    {
      "cell_type": "code",
      "execution_count": 61,
      "metadata": {
        "ExecuteTime": {
          "end_time": "2021-03-04T13:48:13.933580Z",
          "start_time": "2021-03-04T13:48:13.927241Z"
        },
        "id": "LKzg5HkF2E5l"
      },
      "outputs": [],
      "source": [
        "names = np.array([\"Dennis\", \"Dee\", \"Charlie\", \"Mac\", \"Frank\"])\n",
        "ages = np.array([43, 44, 43, 42, 74])\n",
        "genders = np.array(['male', 'female', 'male', 'male', 'male'])"
      ]
    },
    {
      "cell_type": "code",
      "execution_count": 62,
      "metadata": {
        "ExecuteTime": {
          "end_time": "2021-03-04T13:49:00.219652Z",
          "start_time": "2021-03-04T13:49:00.212754Z"
        },
        "id": "HVQpuhpg2E5l"
      },
      "outputs": [
        {
          "data": {
            "text/plain": [
              "array(['Frank'], dtype='<U7')"
            ]
          },
          "execution_count": 62,
          "metadata": {},
          "output_type": "execute_result"
        }
      ],
      "source": [
        "names[(genders == 'male') & (ages > 43)]"
      ]
    },
    {
      "cell_type": "code",
      "execution_count": 63,
      "metadata": {
        "ExecuteTime": {
          "end_time": "2021-03-04T13:49:20.367011Z",
          "start_time": "2021-03-04T13:49:20.356561Z"
        },
        "id": "Kdc-Bpc72E5l"
      },
      "outputs": [
        {
          "data": {
            "text/plain": [
              "array(['Dee'], dtype='<U7')"
            ]
          },
          "execution_count": 63,
          "metadata": {},
          "output_type": "execute_result"
        }
      ],
      "source": [
        "names[~(genders == 'male') & (ages % 2 == 0)]"
      ]
    },
    {
      "cell_type": "markdown",
      "metadata": {
        "id": "XinYsuPS2E5l"
      },
      "source": [
        "## `Random` module\n",
        "\n",
        "One of the most frequently used parts of the `NumPy` is the random number generation procedure. Below you can see examples of different samples:\n",
        "- normal sample\n",
        "- uniform sample\n",
        "- choosing from a set with/without replacement"
      ]
    },
    {
      "cell_type": "code",
      "execution_count": 64,
      "metadata": {
        "ExecuteTime": {
          "end_time": "2021-03-04T13:49:46.450773Z",
          "start_time": "2021-03-04T13:49:46.441714Z"
        },
        "id": "yxUoSlVe2E5l"
      },
      "outputs": [
        {
          "data": {
            "text/plain": [
              "array([10.13096188, 10.2627855 , 11.02376449,  9.93740495,  8.81769971,\n",
              "        9.65524926,  9.75450933,  8.97400477, 10.05442481,  9.59315142])"
            ]
          },
          "execution_count": 64,
          "metadata": {},
          "output_type": "execute_result"
        }
      ],
      "source": [
        "np.random.normal(loc=10.0, scale=1.0, size=10)"
      ]
    },
    {
      "cell_type": "code",
      "execution_count": 65,
      "metadata": {
        "ExecuteTime": {
          "end_time": "2021-03-04T13:50:24.492056Z",
          "start_time": "2021-03-04T13:50:24.475232Z"
        },
        "id": "_WkMyUmw2E5m"
      },
      "outputs": [
        {
          "data": {
            "text/plain": [
              "array([[11, 19, 12],\n",
              "       [17, 14, 13],\n",
              "       [12, 15, 15]])"
            ]
          },
          "execution_count": 65,
          "metadata": {},
          "output_type": "execute_result"
        }
      ],
      "source": [
        "np.random.randint(low=10, high=20, size=(3,3))"
      ]
    },
    {
      "cell_type": "code",
      "execution_count": 66,
      "metadata": {
        "ExecuteTime": {
          "end_time": "2021-03-04T13:50:44.336204Z",
          "start_time": "2021-03-04T13:50:44.319264Z"
        },
        "id": "7SACHvPK2E5m"
      },
      "outputs": [
        {
          "data": {
            "text/plain": [
              "array([0.04653158, 0.91735447, 0.15893009, 0.94338268, 0.76316153])"
            ]
          },
          "execution_count": 66,
          "metadata": {},
          "output_type": "execute_result"
        }
      ],
      "source": [
        "np.random.uniform(low=0, high=1, size=5)"
      ]
    },
    {
      "cell_type": "code",
      "execution_count": 69,
      "metadata": {
        "ExecuteTime": {
          "end_time": "2021-03-04T13:51:25.029510Z",
          "start_time": "2021-03-04T13:51:25.019781Z"
        },
        "id": "Tvp5IP8K2E5m"
      },
      "outputs": [
        {
          "data": {
            "text/plain": [
              "array([5, 5, 6, 5, 2])"
            ]
          },
          "execution_count": 69,
          "metadata": {},
          "output_type": "execute_result"
        }
      ],
      "source": [
        "np.random.choice(\n",
        "    a=[1,2,3,4,5,6],\n",
        "    replace=True,\n",
        "    size=5\n",
        ")"
      ]
    },
    {
      "cell_type": "code",
      "execution_count": 70,
      "metadata": {
        "ExecuteTime": {
          "end_time": "2021-03-04T13:51:44.710682Z",
          "start_time": "2021-03-04T13:51:44.701007Z"
        },
        "id": "HTd2_rgZ2E5m"
      },
      "outputs": [
        {
          "data": {
            "text/plain": [
              "array(['this', 'replacement', 'is'], dtype='<U11')"
            ]
          },
          "execution_count": 70,
          "metadata": {},
          "output_type": "execute_result"
        }
      ],
      "source": [
        "np.random.choice(\n",
        "    a=['this','is','sampling','without','replacement'],\n",
        "    replace=False,\n",
        "    size=3\n",
        ")"
      ]
    },
    {
      "cell_type": "markdown",
      "metadata": {
        "id": "BC-VG0kS2E5m"
      },
      "source": [
        "Despite the fact that most people use the `random` module as above, this way is in fact deprecated, because it introduces a dependency on the random number generator used currently by `NumPy`. In theory, if `NumPy` changes the generator, all the code becomes non-reproducible.\n",
        "A simple solution is to use the generic `Generator` class."
      ]
    },
    {
      "cell_type": "code",
      "execution_count": 71,
      "metadata": {
        "ExecuteTime": {
          "end_time": "2021-03-04T13:52:59.008011Z",
          "start_time": "2021-03-04T13:52:58.997582Z"
        },
        "id": "O8rSkMRX2E5m"
      },
      "outputs": [],
      "source": [
        "generator = np.random.default_rng(seed=123)"
      ]
    },
    {
      "cell_type": "code",
      "execution_count": 72,
      "metadata": {
        "ExecuteTime": {
          "end_time": "2021-03-04T13:53:20.226665Z",
          "start_time": "2021-03-04T13:53:20.216145Z"
        },
        "id": "YHYGbL4C2E5n"
      },
      "outputs": [
        {
          "data": {
            "text/plain": [
              "array([ 2, 68, 59,  6, 90, 22, 26, 19, 34, 18])"
            ]
          },
          "execution_count": 72,
          "metadata": {},
          "output_type": "execute_result"
        }
      ],
      "source": [
        "generator.integers(low=1, high=100, size=10)"
      ]
    },
    {
      "cell_type": "code",
      "execution_count": 73,
      "metadata": {
        "ExecuteTime": {
          "end_time": "2021-03-04T13:53:41.500806Z",
          "start_time": "2021-03-04T13:53:41.488864Z"
        },
        "id": "AnJ4VIwT2E5n"
      },
      "outputs": [
        {
          "data": {
            "text/plain": [
              "array([ 0.57710379, -0.63646365,  0.54195222, -0.31659545, -0.32238912,\n",
              "        0.09716732, -1.52593041,  1.1921661 , -0.67108968,  1.00026942])"
            ]
          },
          "execution_count": 73,
          "metadata": {},
          "output_type": "execute_result"
        }
      ],
      "source": [
        "generator.normal(loc=0, scale=1, size=10)"
      ]
    },
    {
      "cell_type": "code",
      "execution_count": 74,
      "metadata": {
        "ExecuteTime": {
          "end_time": "2021-03-04T13:54:01.554116Z",
          "start_time": "2021-03-04T13:54:01.544657Z"
        },
        "id": "0oQgp9R32E5n"
      },
      "outputs": [
        {
          "data": {
            "text/plain": [
              "array([1, 2, 2, 3, 3, 1, 3, 3, 1, 2])"
            ]
          },
          "execution_count": 74,
          "metadata": {},
          "output_type": "execute_result"
        }
      ],
      "source": [
        "generator.choice(a=[1,2,3], replace=True, size=10)"
      ]
    },
    {
      "cell_type": "markdown",
      "metadata": {
        "id": "DNg9zW1H2E5n"
      },
      "source": [
        "## Homework"
      ]
    },
    {
      "cell_type": "markdown",
      "metadata": {
        "id": "SC5tqQv32E5n"
      },
      "source": [
        "### Two reviewers\n",
        "\n",
        "You are given two arrays representing ratings assigned to 100 movies by two reviewers. Identify movies such that the reviewers differ in their rating by at most 1."
      ]
    },
    {
      "cell_type": "code",
      "execution_count": 75,
      "metadata": {
        "ExecuteTime": {
          "end_time": "2021-03-04T01:23:50.673956Z",
          "start_time": "2021-03-04T01:23:50.665992Z"
        },
        "id": "zKRukjNQ2E5o"
      },
      "outputs": [],
      "source": [
        "movies = np.arange(100)\n",
        "reviewer_a = np.random.choice(a=[1,2,3,4,5], size=100)\n",
        "reviewer_b = np.random.choice(a=[1,2,3,4,5], size=100)"
      ]
    },
    {
      "cell_type": "code",
      "execution_count": 87,
      "metadata": {
        "ExecuteTime": {
          "end_time": "2021-03-04T01:24:31.187506Z",
          "start_time": "2021-03-04T01:24:31.184215Z"
        },
        "id": "8Uad7V4-2E5o"
      },
      "outputs": [
        {
          "data": {
            "text/plain": [
              "array([False,  True,  True, False,  True, False,  True,  True,  True,\n",
              "       False, False, False, False,  True, False,  True,  True,  True,\n",
              "       False,  True,  True,  True, False, False, False, False, False,\n",
              "        True, False,  True,  True,  True, False,  True, False, False,\n",
              "        True,  True,  True, False, False, False, False, False, False,\n",
              "        True,  True,  True,  True,  True,  True, False, False,  True,\n",
              "       False, False, False,  True,  True,  True,  True, False,  True,\n",
              "        True, False, False, False, False,  True,  True,  True,  True,\n",
              "       False,  True, False, False,  True,  True,  True,  True,  True,\n",
              "       False,  True,  True, False,  True,  True, False, False, False,\n",
              "        True, False,  True,  True, False,  True, False, False,  True,\n",
              "       False])"
            ]
          },
          "execution_count": 87,
          "metadata": {},
          "output_type": "execute_result"
        }
      ],
      "source": [
        "movies_with_similar_review = np.absolute(reviewer_a - reviewer_b) <=1\n",
        "\n",
        "movies_with_similar_review"
      ]
    },
    {
      "cell_type": "markdown",
      "metadata": {
        "id": "1sGQ_ALF2E5o"
      },
      "source": [
        "## Using `where`\n",
        "\n",
        "`np.where` is a very useful function which allows to quickly filter elements of an array based on the condition. Imagine you have two large arrays and you want to create a third array such that it contains, for each cell, the larger value from the two arrays. First, let's do it in a traditional way."
      ]
    },
    {
      "cell_type": "code",
      "execution_count": 88,
      "metadata": {
        "ExecuteTime": {
          "end_time": "2021-03-04T13:54:22.651424Z",
          "start_time": "2021-03-04T13:54:22.638584Z"
        },
        "id": "ZFymWm4g2E5o"
      },
      "outputs": [],
      "source": [
        "a = np.random.randint(1, 6, size=10**5)\n",
        "b = np.random.randint(1, 6, size=10**5)"
      ]
    },
    {
      "cell_type": "code",
      "execution_count": 89,
      "metadata": {
        "ExecuteTime": {
          "end_time": "2021-03-04T13:54:47.525977Z",
          "start_time": "2021-03-04T13:54:47.302492Z"
        },
        "id": "hQUOwqZI2E5o"
      },
      "outputs": [
        {
          "name": "stdout",
          "output_type": "stream",
          "text": [
            "CPU times: user 120 ms, sys: 3.04 ms, total: 123 ms\n",
            "Wall time: 124 ms\n"
          ]
        }
      ],
      "source": [
        "%%time\n",
        "c = np.zeros(a.size)\n",
        "\n",
        "for i in range(a.size):\n",
        "    if a[i] > b[i]:\n",
        "        c[i] = a[i]\n",
        "    else:\n",
        "        c[i] = b[i]\n"
      ]
    },
    {
      "cell_type": "code",
      "execution_count": 90,
      "metadata": {
        "ExecuteTime": {
          "end_time": "2021-03-04T13:55:15.932190Z",
          "start_time": "2021-03-04T13:55:15.923076Z"
        },
        "id": "cxw1CqmL2E5p"
      },
      "outputs": [
        {
          "name": "stdout",
          "output_type": "stream",
          "text": [
            "CPU times: user 3.85 ms, sys: 101 µs, total: 3.96 ms\n",
            "Wall time: 2.3 ms\n"
          ]
        }
      ],
      "source": [
        "%%time\n",
        "d = np.where(a > b, a, b)"
      ]
    },
    {
      "cell_type": "code",
      "execution_count": 91,
      "metadata": {
        "ExecuteTime": {
          "end_time": "2021-03-04T13:55:34.871139Z",
          "start_time": "2021-03-04T13:55:34.863928Z"
        },
        "id": "SZ29xHPM2E5p"
      },
      "outputs": [
        {
          "data": {
            "text/plain": [
              "True"
            ]
          },
          "execution_count": 91,
          "metadata": {},
          "output_type": "execute_result"
        }
      ],
      "source": [
        "np.array_equal(c,d)"
      ]
    },
    {
      "cell_type": "markdown",
      "metadata": {
        "id": "3Q2Y5lMJ2E5p"
      },
      "source": [
        "## Homework"
      ]
    },
    {
      "cell_type": "markdown",
      "metadata": {
        "id": "TInuyegv2E5p"
      },
      "source": [
        "### First to finish the assignment\n",
        "\n",
        "Given an array with students' assignments ordered by the increasing date of submission, you want to reward first 3 students who submitted their work and who got at least 75 points. Increase their scores by 5 points."
      ]
    },
    {
      "cell_type": "code",
      "execution_count": 5,
      "metadata": {
        "ExecuteTime": {
          "end_time": "2021-03-04T01:29:16.351532Z",
          "start_time": "2021-03-04T01:29:16.346171Z"
        },
        "id": "VSJEMDgw2E5p"
      },
      "outputs": [],
      "source": [
        "grades = np.random.randint(low=0, high=100, size=50)\n",
        "ind = np.where(grades > 75)[0][:3]\n",
        "grades[ind]+=5"
      ]
    },
    {
      "cell_type": "markdown",
      "metadata": {
        "id": "S6E-es7J2E5p"
      },
      "source": [
        "## Math functions\n",
        "\n",
        "`NumPy` contains several highly optimized implementations of math functions. Whenever possible, try to use them instead of your own implementations. Remember, that math functions are easily generalized to n-dim arrays."
      ]
    },
    {
      "cell_type": "code",
      "execution_count": 105,
      "metadata": {
        "ExecuteTime": {
          "end_time": "2021-03-04T13:55:56.832810Z",
          "start_time": "2021-03-04T13:55:56.824608Z"
        },
        "id": "-MI0Dvbn2E5q"
      },
      "outputs": [],
      "source": [
        "a = np.array([\n",
        "    [1, 2, 3, 4],\n",
        "    [5, 6, 7, 8],\n",
        "    [9, 10, 11, 12],\n",
        "    [13, 14, 15, 16],\n",
        "], dtype=np.float64)"
      ]
    },
    {
      "cell_type": "code",
      "execution_count": 106,
      "metadata": {
        "ExecuteTime": {
          "end_time": "2021-03-04T13:56:18.831366Z",
          "start_time": "2021-03-04T13:56:18.823776Z"
        },
        "id": "YDbnl7Gp2E5q"
      },
      "outputs": [
        {
          "data": {
            "text/plain": [
              "136.0"
            ]
          },
          "execution_count": 106,
          "metadata": {},
          "output_type": "execute_result"
        }
      ],
      "source": [
        "np.sum(a)"
      ]
    },
    {
      "cell_type": "code",
      "execution_count": 107,
      "metadata": {
        "ExecuteTime": {
          "end_time": "2021-03-04T13:56:39.594967Z",
          "start_time": "2021-03-04T13:56:39.585219Z"
        },
        "id": "CTyxoHRX2E5q"
      },
      "outputs": [
        {
          "data": {
            "text/plain": [
              "array([28., 32., 36., 40.])"
            ]
          },
          "execution_count": 107,
          "metadata": {},
          "output_type": "execute_result"
        }
      ],
      "source": [
        "np.sum(a, axis=0)"
      ]
    },
    {
      "cell_type": "code",
      "execution_count": 108,
      "metadata": {
        "ExecuteTime": {
          "end_time": "2021-03-04T13:57:00.640615Z",
          "start_time": "2021-03-04T13:57:00.630804Z"
        },
        "id": "djI1zg3F2E5q"
      },
      "outputs": [
        {
          "data": {
            "text/plain": [
              "array([10., 26., 42., 58.])"
            ]
          },
          "execution_count": 108,
          "metadata": {},
          "output_type": "execute_result"
        }
      ],
      "source": [
        "np.sum(a, axis=1)"
      ]
    },
    {
      "cell_type": "markdown",
      "metadata": {
        "id": "NM0AxsmP2E5q"
      },
      "source": [
        "But beware of `nan`s, as they tend to destroy all math!"
      ]
    },
    {
      "cell_type": "code",
      "execution_count": 109,
      "metadata": {
        "ExecuteTime": {
          "end_time": "2021-03-04T13:57:21.736012Z",
          "start_time": "2021-03-04T13:57:21.723411Z"
        },
        "id": "OE5P7wxs2E5q"
      },
      "outputs": [],
      "source": [
        "a[2,2] = np.nan"
      ]
    },
    {
      "cell_type": "code",
      "execution_count": 110,
      "metadata": {
        "ExecuteTime": {
          "end_time": "2021-03-04T13:57:41.411491Z",
          "start_time": "2021-03-04T13:57:41.397966Z"
        },
        "id": "35y_lfuB2E5r"
      },
      "outputs": [
        {
          "data": {
            "text/plain": [
              "nan"
            ]
          },
          "execution_count": 110,
          "metadata": {},
          "output_type": "execute_result"
        }
      ],
      "source": [
        "np.sum(a)"
      ]
    },
    {
      "cell_type": "code",
      "execution_count": 111,
      "metadata": {
        "ExecuteTime": {
          "end_time": "2021-03-04T13:58:16.780516Z",
          "start_time": "2021-03-04T13:58:16.773134Z"
        },
        "id": "NYF0o_Cg2E5r"
      },
      "outputs": [
        {
          "data": {
            "text/plain": [
              "array([[False, False, False, False],\n",
              "       [False, False, False, False],\n",
              "       [False, False,  True, False],\n",
              "       [False, False, False, False]])"
            ]
          },
          "execution_count": 111,
          "metadata": {},
          "output_type": "execute_result"
        }
      ],
      "source": [
        "np.isnan(a)"
      ]
    },
    {
      "cell_type": "code",
      "execution_count": 112,
      "metadata": {
        "ExecuteTime": {
          "end_time": "2021-03-04T01:47:25.545186Z",
          "start_time": "2021-03-04T01:47:25.541010Z"
        },
        "id": "88p4H2OL2E5r"
      },
      "outputs": [
        {
          "data": {
            "text/plain": [
              "125.0"
            ]
          },
          "execution_count": 112,
          "metadata": {},
          "output_type": "execute_result"
        }
      ],
      "source": [
        "np.sum(a, where=~np.isnan(a))"
      ]
    },
    {
      "cell_type": "code",
      "execution_count": 113,
      "metadata": {
        "ExecuteTime": {
          "end_time": "2021-03-04T13:58:38.027639Z",
          "start_time": "2021-03-04T13:58:38.020977Z"
        },
        "id": "P3sUmMkJ2E5r"
      },
      "outputs": [
        {
          "data": {
            "text/plain": [
              "125.0"
            ]
          },
          "execution_count": 113,
          "metadata": {},
          "output_type": "execute_result"
        }
      ],
      "source": [
        "np.nansum(a)"
      ]
    },
    {
      "cell_type": "code",
      "execution_count": 116,
      "metadata": {
        "ExecuteTime": {
          "end_time": "2021-03-04T01:47:49.661301Z",
          "start_time": "2021-03-04T01:47:49.657068Z"
        },
        "id": "U6vIizc02E5r"
      },
      "outputs": [
        {
          "data": {
            "text/plain": [
              "125.0"
            ]
          },
          "execution_count": 116,
          "metadata": {},
          "output_type": "execute_result"
        }
      ],
      "source": [
        "np.sum(np.nan_to_num(a))"
      ]
    },
    {
      "cell_type": "markdown",
      "metadata": {
        "ExecuteTime": {
          "end_time": "2021-03-04T01:42:42.061430Z",
          "start_time": "2021-03-04T01:42:42.050688Z"
        },
        "id": "gMvgzBh32E5r"
      },
      "source": [
        "Let's see what else we can do with `nan`s"
      ]
    },
    {
      "cell_type": "code",
      "execution_count": 117,
      "metadata": {
        "ExecuteTime": {
          "end_time": "2021-03-04T13:59:12.944488Z",
          "start_time": "2021-03-04T13:59:12.939040Z"
        },
        "id": "NyWe9E8A2E5s"
      },
      "outputs": [],
      "source": [
        "a[0,1] = np.nan\n",
        "a[1,3] = np.nan"
      ]
    },
    {
      "cell_type": "code",
      "execution_count": 118,
      "metadata": {
        "ExecuteTime": {
          "end_time": "2021-03-04T13:59:33.838490Z",
          "start_time": "2021-03-04T13:59:33.831079Z"
        },
        "id": "WiIlsOwl2E5s"
      },
      "outputs": [
        {
          "data": {
            "text/plain": [
              "array([[False,  True, False, False],\n",
              "       [False, False, False,  True],\n",
              "       [False, False,  True, False],\n",
              "       [False, False, False, False]])"
            ]
          },
          "execution_count": 118,
          "metadata": {},
          "output_type": "execute_result"
        }
      ],
      "source": [
        "np.isnan(a)"
      ]
    },
    {
      "cell_type": "code",
      "execution_count": 119,
      "metadata": {
        "ExecuteTime": {
          "end_time": "2021-03-04T13:59:53.706363Z",
          "start_time": "2021-03-04T13:59:53.692944Z"
        },
        "id": "PNHODrYq2E5s"
      },
      "outputs": [
        {
          "data": {
            "text/plain": [
              "array([ True,  True,  True, False])"
            ]
          },
          "execution_count": 119,
          "metadata": {},
          "output_type": "execute_result"
        }
      ],
      "source": [
        "np.any(np.isnan(a), axis=1)"
      ]
    },
    {
      "cell_type": "code",
      "execution_count": 120,
      "metadata": {
        "ExecuteTime": {
          "end_time": "2021-03-04T01:49:01.901219Z",
          "start_time": "2021-03-04T01:49:01.890166Z"
        },
        "id": "i782QQ5-2E5s"
      },
      "outputs": [
        {
          "data": {
            "text/plain": [
              "array([[ 1., nan,  3.,  4.],\n",
              "       [ 5.,  6.,  7., nan],\n",
              "       [ 9., 10., nan, 12.]])"
            ]
          },
          "execution_count": 120,
          "metadata": {},
          "output_type": "execute_result"
        }
      ],
      "source": [
        "mask = np.any(np.isnan(a), axis=1)\n",
        "a[mask]"
      ]
    },
    {
      "cell_type": "markdown",
      "metadata": {
        "id": "2iARskcN2E5s"
      },
      "source": [
        "## Concatenation & sorting\n",
        "\n",
        "Concatenation means joining two arrays by rows or by columns. An array may be concatenated with itself or with another array. There are 4 functions that help with concatenation."
      ]
    },
    {
      "cell_type": "code",
      "execution_count": 123,
      "metadata": {
        "ExecuteTime": {
          "end_time": "2021-03-04T14:00:20.888625Z",
          "start_time": "2021-03-04T14:00:20.882599Z"
        },
        "id": "YX9OFEd42E5s"
      },
      "outputs": [],
      "source": [
        "a = np.zeros(shape=(3,2))\n",
        "b = np.ones(shape=(2,2))"
      ]
    },
    {
      "cell_type": "code",
      "execution_count": 124,
      "metadata": {
        "ExecuteTime": {
          "end_time": "2021-03-04T14:01:03.119193Z",
          "start_time": "2021-03-04T14:01:03.111622Z"
        },
        "id": "I_vY0fVk2E5t"
      },
      "outputs": [
        {
          "data": {
            "text/plain": [
              "array([[0., 0.],\n",
              "       [0., 0.],\n",
              "       [0., 0.],\n",
              "       [0., 0.],\n",
              "       [0., 0.],\n",
              "       [0., 0.],\n",
              "       [0., 0.],\n",
              "       [0., 0.],\n",
              "       [0., 0.],\n",
              "       [0., 0.],\n",
              "       [0., 0.],\n",
              "       [0., 0.]])"
            ]
          },
          "execution_count": 124,
          "metadata": {},
          "output_type": "execute_result"
        }
      ],
      "source": [
        "np.concatenate([a, a, a, a], axis=0)"
      ]
    },
    {
      "cell_type": "code",
      "execution_count": 125,
      "metadata": {
        "ExecuteTime": {
          "end_time": "2021-03-04T14:01:24.611639Z",
          "start_time": "2021-03-04T14:01:24.601800Z"
        },
        "id": "b01CAsJy2E5t"
      },
      "outputs": [
        {
          "data": {
            "text/plain": [
              "array([[0., 0.],\n",
              "       [0., 0.],\n",
              "       [0., 0.],\n",
              "       [1., 1.],\n",
              "       [1., 1.]])"
            ]
          },
          "execution_count": 125,
          "metadata": {},
          "output_type": "execute_result"
        }
      ],
      "source": [
        "np.concatenate([a, b], axis=0)"
      ]
    },
    {
      "cell_type": "code",
      "execution_count": 126,
      "metadata": {
        "ExecuteTime": {
          "end_time": "2021-03-04T14:01:45.184130Z",
          "start_time": "2021-03-04T14:01:45.176845Z"
        },
        "id": "vWOkgqkP2E5t"
      },
      "outputs": [
        {
          "data": {
            "text/plain": [
              "array([[0., 0.],\n",
              "       [0., 0.],\n",
              "       [0., 0.],\n",
              "       [1., 1.],\n",
              "       [1., 1.]])"
            ]
          },
          "execution_count": 126,
          "metadata": {},
          "output_type": "execute_result"
        }
      ],
      "source": [
        "np.vstack([a,b])"
      ]
    },
    {
      "cell_type": "code",
      "execution_count": 127,
      "metadata": {
        "ExecuteTime": {
          "end_time": "2021-03-04T14:02:19.702880Z",
          "start_time": "2021-03-04T14:02:19.690719Z"
        },
        "id": "CptsRW-B2E5t"
      },
      "outputs": [
        {
          "data": {
            "text/plain": [
              "array([[0., 0., 0., 1., 1.],\n",
              "       [0., 0., 0., 1., 1.]])"
            ]
          },
          "execution_count": 127,
          "metadata": {},
          "output_type": "execute_result"
        }
      ],
      "source": [
        "np.hstack([a.T,b])"
      ]
    },
    {
      "cell_type": "code",
      "execution_count": 128,
      "metadata": {
        "ExecuteTime": {
          "end_time": "2021-03-04T14:02:40.021682Z",
          "start_time": "2021-03-04T14:02:40.012718Z"
        },
        "id": "d8dsZAv52E5t"
      },
      "outputs": [
        {
          "data": {
            "text/plain": [
              "array([[[0., 0.],\n",
              "        [0., 0.]],\n",
              "\n",
              "       [[1., 1.],\n",
              "        [1., 1.]]])"
            ]
          },
          "execution_count": 128,
          "metadata": {},
          "output_type": "execute_result"
        }
      ],
      "source": [
        "np.stack([a[:2,:2], b], axis=0)"
      ]
    },
    {
      "cell_type": "markdown",
      "metadata": {
        "id": "3v65D6Jj2E5u"
      },
      "source": [
        "Unfortunately, `NumPy` does not provide any easy way of reverse sort, and sorting is limited to two functions."
      ]
    },
    {
      "cell_type": "code",
      "execution_count": 129,
      "metadata": {
        "ExecuteTime": {
          "end_time": "2021-03-04T14:02:59.926226Z",
          "start_time": "2021-03-04T14:02:59.915083Z"
        },
        "id": "jvdYHk_12E5u"
      },
      "outputs": [
        {
          "data": {
            "text/plain": [
              "array([45, 35, 19,  5, 76, 74, 74, 60, 78, 99,  8,  6, 72, 54, 17, 81, 59,\n",
              "       32, 30, 70, 16, 49, 34, 65, 63, 87, 84, 98, 96, 14, 48, 61, 98, 99,\n",
              "       45, 15, 55, 51, 68, 78, 56, 60, 99, 38, 52, 86, 63, 20, 60, 29])"
            ]
          },
          "execution_count": 129,
          "metadata": {},
          "output_type": "execute_result"
        }
      ],
      "source": [
        "a = np.random.randint(1, 100, size=50)\n",
        "a"
      ]
    },
    {
      "cell_type": "code",
      "execution_count": 130,
      "metadata": {
        "ExecuteTime": {
          "end_time": "2021-03-04T14:03:21.860268Z",
          "start_time": "2021-03-04T14:03:21.852152Z"
        },
        "id": "faH_GNDP2E5u"
      },
      "outputs": [],
      "source": [
        "a.sort()"
      ]
    },
    {
      "cell_type": "code",
      "execution_count": 131,
      "metadata": {
        "ExecuteTime": {
          "end_time": "2021-03-04T14:03:42.783979Z",
          "start_time": "2021-03-04T14:03:42.777811Z"
        },
        "id": "zSr6Wuvs2E5u"
      },
      "outputs": [
        {
          "data": {
            "text/plain": [
              "array([ 5,  6,  8, 14, 15, 16, 17, 19, 20, 29, 30, 32, 34, 35, 38, 45, 45,\n",
              "       48, 49, 51, 52, 54, 55, 56, 59, 60, 60, 60, 61, 63, 63, 65, 68, 70,\n",
              "       72, 74, 74, 76, 78, 78, 81, 84, 86, 87, 96, 98, 98, 99, 99, 99])"
            ]
          },
          "execution_count": 131,
          "metadata": {},
          "output_type": "execute_result"
        }
      ],
      "source": [
        "a"
      ]
    },
    {
      "cell_type": "code",
      "execution_count": 132,
      "metadata": {
        "ExecuteTime": {
          "end_time": "2021-03-04T14:04:04.088452Z",
          "start_time": "2021-03-04T14:04:04.082647Z"
        },
        "id": "Bw_4odlC2E5v"
      },
      "outputs": [
        {
          "data": {
            "text/plain": [
              "array([99, 99, 99, 98, 98, 96, 87, 86, 84, 81, 78, 78, 76, 74, 74, 72, 70,\n",
              "       68, 65, 63, 63, 61, 60, 60, 60, 59, 56, 55, 54, 52, 51, 49, 48, 45,\n",
              "       45, 38, 35, 34, 32, 30, 29, 20, 19, 17, 16, 15, 14,  8,  6,  5])"
            ]
          },
          "execution_count": 132,
          "metadata": {},
          "output_type": "execute_result"
        }
      ],
      "source": [
        "np.sort(a)[::-1]"
      ]
    },
    {
      "cell_type": "markdown",
      "metadata": {
        "id": "-tt2JofL2E5v"
      },
      "source": [
        "If you want to be able to sort values in the first column of an array according to the order in the second column of an array, you need to use `np.argsort`."
      ]
    },
    {
      "cell_type": "code",
      "execution_count": 133,
      "metadata": {
        "ExecuteTime": {
          "end_time": "2021-03-04T02:12:52.520705Z",
          "start_time": "2021-03-04T02:12:52.510136Z"
        },
        "id": "4yN6tCZn2E5v"
      },
      "outputs": [
        {
          "data": {
            "text/plain": [
              "array([[68,  4,  5, 73],\n",
              "       [23, 51, 13, 16],\n",
              "       [29, 17, 63, 48],\n",
              "       [72,  1, 75, 13],\n",
              "       [92, 50, 69, 27]])"
            ]
          },
          "execution_count": 133,
          "metadata": {},
          "output_type": "execute_result"
        }
      ],
      "source": [
        "a = np.random.randint(1, 100, size=20)\n",
        "a.shape = 5,4\n",
        "\n",
        "a"
      ]
    },
    {
      "cell_type": "code",
      "execution_count": 134,
      "metadata": {
        "ExecuteTime": {
          "end_time": "2021-03-04T02:04:49.330043Z",
          "start_time": "2021-03-04T02:04:49.322913Z"
        },
        "id": "5qKovG1t2E5w"
      },
      "outputs": [
        {
          "data": {
            "text/plain": [
              "array([[ 4,  5, 68, 73],\n",
              "       [13, 16, 23, 51],\n",
              "       [17, 29, 48, 63],\n",
              "       [ 1, 13, 72, 75],\n",
              "       [27, 50, 69, 92]])"
            ]
          },
          "execution_count": 134,
          "metadata": {},
          "output_type": "execute_result"
        }
      ],
      "source": [
        "np.sort(a, axis=1)"
      ]
    },
    {
      "cell_type": "code",
      "execution_count": 137,
      "metadata": {
        "ExecuteTime": {
          "end_time": "2021-03-04T02:13:03.936412Z",
          "start_time": "2021-03-04T02:13:03.933382Z"
        },
        "id": "siUpuxDR2E5w"
      },
      "outputs": [
        {
          "data": {
            "text/plain": [
              "array([[68,  4,  5, 73],\n",
              "       [23, 51, 13, 16],\n",
              "       [29, 17, 63, 48],\n",
              "       [72,  1, 75, 13],\n",
              "       [92, 50, 69, 27]])"
            ]
          },
          "execution_count": 137,
          "metadata": {},
          "output_type": "execute_result"
        }
      ],
      "source": [
        "a"
      ]
    },
    {
      "cell_type": "code",
      "execution_count": 138,
      "metadata": {
        "ExecuteTime": {
          "end_time": "2021-03-04T02:17:19.282624Z",
          "start_time": "2021-03-04T02:17:19.270150Z"
        },
        "id": "8OddtTTC2E5w"
      },
      "outputs": [
        {
          "data": {
            "text/plain": [
              "array([[72,  1, 75, 13],\n",
              "       [68,  4,  5, 73],\n",
              "       [29, 17, 63, 48],\n",
              "       [92, 50, 69, 27],\n",
              "       [23, 51, 13, 16]])"
            ]
          },
          "execution_count": 138,
          "metadata": {},
          "output_type": "execute_result"
        }
      ],
      "source": [
        "a[np.argsort(a[:,1])]"
      ]
    }
  ],
  "metadata": {
    "colab": {
      "provenance": []
    },
    "kernelspec": {
      "display_name": "Python 3",
      "language": "python",
      "name": "python3"
    },
    "language_info": {
      "codemirror_mode": {
        "name": "ipython",
        "version": 3
      },
      "file_extension": ".py",
      "mimetype": "text/x-python",
      "name": "python",
      "nbconvert_exporter": "python",
      "pygments_lexer": "ipython3",
      "version": "3.11.7"
    },
    "toc": {
      "base_numbering": 1,
      "nav_menu": {},
      "number_sections": true,
      "sideBar": true,
      "skip_h1_title": false,
      "title_cell": "Table of Contents",
      "title_sidebar": "Contents",
      "toc_cell": false,
      "toc_position": {},
      "toc_section_display": true,
      "toc_window_display": false
    },
    "varInspector": {
      "cols": {
        "lenName": 16,
        "lenType": 16,
        "lenVar": 40
      },
      "kernels_config": {
        "python": {
          "delete_cmd_postfix": "",
          "delete_cmd_prefix": "del ",
          "library": "var_list.py",
          "varRefreshCmd": "print(var_dic_list())"
        },
        "r": {
          "delete_cmd_postfix": ") ",
          "delete_cmd_prefix": "rm(",
          "library": "var_list.r",
          "varRefreshCmd": "cat(var_dic_list()) "
        }
      },
      "types_to_exclude": [
        "module",
        "function",
        "builtin_function_or_method",
        "instance",
        "_Feature"
      ],
      "window_display": false
    },
    "vscode": {
      "interpreter": {
        "hash": "916dbcbb3f70747c44a77c7bcd40155683ae19c65e1c03b4aa3499c5328201f1"
      }
    }
  },
  "nbformat": 4,
  "nbformat_minor": 0
}
