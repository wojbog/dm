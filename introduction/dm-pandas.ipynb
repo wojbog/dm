{
 "cells": [
  {
   "cell_type": "markdown",
   "metadata": {},
   "source": [
    "#  Pandas tutorial\n",
    "\n",
    "Pandas (panel data) is the second most useful Python library for data analysis and preparation. It allows to work with tabular data and provides very efficient and easy methods for:\n",
    "- data selection\n",
    "- data modification\n",
    "- data indexing\n",
    "- merging of data from various sources\n",
    "- transforming data\n",
    "- feeding data into `scikit-learn` and other ML-related libraries\n",
    "\n",
    "In this tutorial we will go through the most useful and common operations performed on pandas.\n",
    "\n",
    "There are two fundamental data structures that you need to understand:\n",
    "\n",
    "- `pd.Series`: similar to a list, requires all elements to be of the same type, but provides additional methods and operations\n",
    "- `pd.DataFrame`: this is the data structure which represents tabular data, each column in a data frame is a `Series` object, in addition each data frame contains a row index and a column index.\n",
    "\n",
    "Let's dive into coding."
   ]
  },
  {
   "cell_type": "markdown",
   "metadata": {},
   "source": [
    "## Manual creation of a data frame\n",
    "\n",
    "By convention, `pandas` library is imported using the alias `pd`.\n",
    "\n",
    "The simplest way to create a dataframe is to provide a dictionary of lists. Each key becomes the name of the column, each list becomes the series contained in the column."
   ]
  },
  {
   "cell_type": "code",
   "execution_count": null,
   "metadata": {
    "ExecuteTime": {
     "end_time": "2021-03-11T12:39:53.425228Z",
     "start_time": "2021-03-11T12:39:53.408656Z"
    }
   },
   "outputs": [],
   "source": [
    "import pandas as pd\n",
    "\n",
    "df = pd.DataFrame(\n",
    "{\n",
    "    'Code': ['PL', 'DE', 'GB', 'CZ'],\n",
    "    'Name': ['Poland', 'Germany', 'Great Britain', 'Czech Republic'],\n",
    "    'Population': [38000000, 80000000, 65000000, 10000000]\n",
    "})\n",
    "\n",
    "df"
   ]
  },
  {
   "cell_type": "markdown",
   "metadata": {},
   "source": [
    "Each column is a `pd.Series` object. We can inspect it using either the dot notation, or by referring to the column by its name in brackets."
   ]
  },
  {
   "cell_type": "code",
   "execution_count": null,
   "metadata": {
    "ExecuteTime": {
     "end_time": "2021-03-11T12:39:23.473369Z",
     "start_time": "2021-03-11T12:39:23.468679Z"
    }
   },
   "outputs": [],
   "source": [
    "df.Population"
   ]
  },
  {
   "cell_type": "code",
   "execution_count": null,
   "metadata": {
    "ExecuteTime": {
     "end_time": "2021-03-11T12:40:21.928111Z",
     "start_time": "2021-03-11T12:40:21.915323Z"
    }
   },
   "outputs": [],
   "source": [
    "df[['Population','Code']]"
   ]
  },
  {
   "cell_type": "markdown",
   "metadata": {},
   "source": [
    "## Reading data from a file\n",
    "\n",
    "There are two most common ways of reading text files into `pandas`:\n",
    "- `pd.read_table`: assumes tab-separated text file\n",
    "- `pd.read_csv`: assumes comma-separated text file\n",
    "\n",
    "For the sake of reproducibility we will use public onlie datasets and we will read them directly off the Web. Please take a moment to investigate these datasets:\n",
    "\n",
    "- [Chipotle orders](https://bit.ly/chiporders)\n",
    "- [UFO sighting reports](https://bit.ly/uforeports)\n",
    "- [IMDB movie ratings](https://bit.ly/imdbratings)\n",
    "- [Drinking by country](https://bit.ly/drinksbycountry)"
   ]
  },
  {
   "cell_type": "code",
   "execution_count": null,
   "metadata": {
    "ExecuteTime": {
     "end_time": "2021-03-11T12:43:15.320472Z",
     "start_time": "2021-03-11T12:43:13.743156Z"
    }
   },
   "outputs": [],
   "source": [
    "orders = pd.read_table('https://bit.ly/chiporders')\n",
    "\n",
    "orders.head(10)"
   ]
  },
  {
   "cell_type": "code",
   "execution_count": null,
   "metadata": {
    "ExecuteTime": {
     "end_time": "2021-03-11T12:45:20.673047Z",
     "start_time": "2021-03-11T12:45:19.335774Z"
    }
   },
   "outputs": [],
   "source": [
    "ufo = pd.read_csv('https://bit.ly/uforeports')\n",
    "\n",
    "ufo.head()"
   ]
  },
  {
   "cell_type": "markdown",
   "metadata": {},
   "source": [
    "Individual series can be concatenated just like strings in Python."
   ]
  },
  {
   "cell_type": "code",
   "execution_count": null,
   "metadata": {
    "ExecuteTime": {
     "end_time": "2021-03-11T12:45:48.979676Z",
     "start_time": "2021-03-11T12:45:48.958075Z"
    }
   },
   "outputs": [],
   "source": [
    "orders.item_name + ' ' + orders.item_price"
   ]
  },
  {
   "cell_type": "markdown",
   "metadata": {},
   "source": [
    "## Analyzing a data frame\n",
    "\n",
    "`pandas` provides simple methods that allow you to investigate the aggregate properties of individual series and the entire data frame."
   ]
  },
  {
   "cell_type": "code",
   "execution_count": null,
   "metadata": {
    "ExecuteTime": {
     "end_time": "2021-03-11T12:46:13.336920Z",
     "start_time": "2021-03-11T12:46:12.249575Z"
    }
   },
   "outputs": [],
   "source": [
    "movies = pd.read_csv('https://bit.ly/imdbratings')\n",
    "\n",
    "movies.head()"
   ]
  },
  {
   "cell_type": "markdown",
   "metadata": {},
   "source": [
    "A simple way to quickly learn the distribution of a feature is to use the `describe()` method"
   ]
  },
  {
   "cell_type": "code",
   "execution_count": null,
   "metadata": {
    "ExecuteTime": {
     "end_time": "2021-03-11T12:46:55.847125Z",
     "start_time": "2021-03-11T12:46:55.820461Z"
    }
   },
   "outputs": [],
   "source": [
    "movies.duration.describe()"
   ]
  },
  {
   "cell_type": "markdown",
   "metadata": {},
   "source": [
    "The output of the `describe()` method depends on whether the feature is numerical or categorical."
   ]
  },
  {
   "cell_type": "code",
   "execution_count": null,
   "metadata": {
    "ExecuteTime": {
     "end_time": "2021-03-11T12:47:39.903863Z",
     "start_time": "2021-03-11T12:47:39.872611Z"
    }
   },
   "outputs": [],
   "source": [
    "movies.genre.describe()"
   ]
  },
  {
   "cell_type": "markdown",
   "metadata": {},
   "source": [
    "One can apply the `describe()` method to the entire dataframe as well."
   ]
  },
  {
   "cell_type": "code",
   "execution_count": null,
   "metadata": {
    "ExecuteTime": {
     "end_time": "2021-03-11T12:48:08.448513Z",
     "start_time": "2021-03-11T12:48:08.426004Z"
    }
   },
   "outputs": [],
   "source": [
    "movies.describe()"
   ]
  },
  {
   "cell_type": "code",
   "execution_count": null,
   "metadata": {
    "ExecuteTime": {
     "end_time": "2021-03-11T12:48:21.619511Z",
     "start_time": "2021-03-11T12:48:21.609566Z"
    }
   },
   "outputs": [],
   "source": [
    "movies.shape"
   ]
  },
  {
   "cell_type": "code",
   "execution_count": null,
   "metadata": {
    "ExecuteTime": {
     "end_time": "2021-03-11T12:48:34.540105Z",
     "start_time": "2021-03-11T12:48:34.526145Z"
    }
   },
   "outputs": [],
   "source": [
    "movies.columns"
   ]
  },
  {
   "cell_type": "code",
   "execution_count": null,
   "metadata": {
    "ExecuteTime": {
     "end_time": "2021-03-11T12:48:49.205331Z",
     "start_time": "2021-03-11T12:48:49.178450Z"
    }
   },
   "outputs": [],
   "source": [
    "movies.dtypes"
   ]
  },
  {
   "cell_type": "markdown",
   "metadata": {},
   "source": [
    "For more advanced analysis of `pandas` dataframe we can use the excellent `pandas-profiling` library"
   ]
  },
  {
   "cell_type": "code",
   "execution_count": null,
   "metadata": {},
   "outputs": [],
   "source": [
    "from pandas_profiling import ProfileReport\n",
    "\n",
    "movies_profile = ProfileReport(df=movies, title=\"Analysis of the Movies dataframe\", explorative=True)\n",
    "movies_profile\n",
    "\n",
    "# or simply: movies.profile_report(title=\"Analysis of the Movies dataframe\")"
   ]
  },
  {
   "cell_type": "markdown",
   "metadata": {},
   "source": [
    "## Renaming columns"
   ]
  },
  {
   "cell_type": "code",
   "execution_count": null,
   "metadata": {
    "ExecuteTime": {
     "end_time": "2021-03-11T12:49:07.650978Z",
     "start_time": "2021-03-11T12:49:05.444116Z"
    }
   },
   "outputs": [],
   "source": [
    "ufo = pd.read_csv('https://bit.ly/uforeports')\n",
    "\n",
    "ufo.columns"
   ]
  },
  {
   "cell_type": "code",
   "execution_count": null,
   "metadata": {
    "ExecuteTime": {
     "end_time": "2021-03-11T12:49:48.193590Z",
     "start_time": "2021-03-11T12:49:48.178222Z"
    }
   },
   "outputs": [],
   "source": [
    "ufo['Colors Reported']"
   ]
  },
  {
   "cell_type": "markdown",
   "metadata": {},
   "source": [
    "If a column name contains a space, it can no longer be used with the dot notation. There are many ways a column may be renamed."
   ]
  },
  {
   "cell_type": "code",
   "execution_count": null,
   "metadata": {
    "ExecuteTime": {
     "end_time": "2021-03-11T12:50:54.250005Z",
     "start_time": "2021-03-11T12:50:54.231412Z"
    }
   },
   "outputs": [],
   "source": [
    "ufo.rename(columns={'Colors Reported': 'Colors_Reported', 'Time': 'Date and tmie'})"
   ]
  },
  {
   "cell_type": "code",
   "execution_count": null,
   "metadata": {
    "ExecuteTime": {
     "end_time": "2021-03-11T12:51:04.480511Z",
     "start_time": "2021-03-11T12:51:04.470448Z"
    }
   },
   "outputs": [],
   "source": [
    "ufo.head()"
   ]
  },
  {
   "cell_type": "code",
   "execution_count": null,
   "metadata": {
    "ExecuteTime": {
     "end_time": "2021-03-11T12:52:06.995831Z",
     "start_time": "2021-03-11T12:52:05.334130Z"
    }
   },
   "outputs": [],
   "source": [
    "col_names = ['city', 'colors_reported', 'shape_reported', 'state', 'time']\n",
    "\n",
    "pd.read_csv('https://bit.ly/uforeports', names=col_names)"
   ]
  },
  {
   "cell_type": "code",
   "execution_count": null,
   "metadata": {
    "ExecuteTime": {
     "end_time": "2021-03-11T12:52:58.444259Z",
     "start_time": "2021-03-11T12:52:58.424659Z"
    }
   },
   "outputs": [],
   "source": [
    "ufo.columns = col_names + ['non existing column']\n",
    "\n",
    "ufo.head()"
   ]
  },
  {
   "cell_type": "markdown",
   "metadata": {},
   "source": [
    "## Dropping rows and columns\n",
    "\n",
    "An important concept in `pandas` is the concept of an **axis**. An axis is the direction in which an operation is performed. 0-axis refers to an operation that is applied to each row, 1-axis refers to an operation which is applied to all columns.\n",
    "\n",
    "By default, `pandas` expects the rows to be dropped, so if you want to drop a column, you have to explicitly state `axis=1`."
   ]
  },
  {
   "cell_type": "code",
   "execution_count": null,
   "metadata": {
    "ExecuteTime": {
     "end_time": "2021-03-11T12:53:49.051134Z",
     "start_time": "2021-03-11T12:53:48.235095Z"
    }
   },
   "outputs": [],
   "source": [
    "drinks = pd.read_csv('https://bit.ly/drinksbycountry')\n",
    "\n",
    "drinks.head()"
   ]
  },
  {
   "cell_type": "code",
   "execution_count": null,
   "metadata": {
    "ExecuteTime": {
     "end_time": "2021-03-11T12:54:03.714042Z",
     "start_time": "2021-03-11T12:54:03.708799Z"
    }
   },
   "outputs": [],
   "source": [
    "drinks.shape"
   ]
  },
  {
   "cell_type": "code",
   "execution_count": null,
   "metadata": {
    "ExecuteTime": {
     "end_time": "2021-03-11T12:55:35.973196Z",
     "start_time": "2021-03-11T12:55:35.962937Z"
    }
   },
   "outputs": [],
   "source": [
    "drinks.mean()"
   ]
  },
  {
   "cell_type": "code",
   "execution_count": null,
   "metadata": {
    "ExecuteTime": {
     "end_time": "2021-03-11T12:55:52.540810Z",
     "start_time": "2021-03-11T12:55:52.529589Z"
    }
   },
   "outputs": [],
   "source": [
    "drinks.mean(axis=1)"
   ]
  },
  {
   "cell_type": "code",
   "execution_count": null,
   "metadata": {
    "ExecuteTime": {
     "end_time": "2021-03-11T12:58:02.641760Z",
     "start_time": "2021-03-11T12:58:01.366614Z"
    }
   },
   "outputs": [],
   "source": [
    "ufo = pd.read_csv('https://bit.ly/uforeports')"
   ]
  },
  {
   "cell_type": "code",
   "execution_count": null,
   "metadata": {
    "ExecuteTime": {
     "end_time": "2021-03-11T12:58:15.339772Z",
     "start_time": "2021-03-11T12:58:15.326290Z"
    }
   },
   "outputs": [],
   "source": [
    "ufo.head()"
   ]
  },
  {
   "cell_type": "code",
   "execution_count": null,
   "metadata": {
    "ExecuteTime": {
     "end_time": "2021-03-11T12:59:25.670934Z",
     "start_time": "2021-03-11T12:59:25.647844Z"
    }
   },
   "outputs": [],
   "source": [
    "ufo.drop('City', axis=1)"
   ]
  },
  {
   "cell_type": "code",
   "execution_count": null,
   "metadata": {
    "ExecuteTime": {
     "end_time": "2021-03-11T13:02:22.557586Z",
     "start_time": "2021-03-11T13:02:22.535400Z"
    }
   },
   "outputs": [],
   "source": [
    "ufo_backup = ufo.set_index('City')"
   ]
  },
  {
   "cell_type": "code",
   "execution_count": null,
   "metadata": {
    "ExecuteTime": {
     "end_time": "2021-03-11T13:02:27.475950Z",
     "start_time": "2021-03-11T13:02:27.462088Z"
    }
   },
   "outputs": [],
   "source": [
    "ufo_backup.head()"
   ]
  },
  {
   "cell_type": "code",
   "execution_count": null,
   "metadata": {
    "ExecuteTime": {
     "end_time": "2021-03-11T13:03:01.202636Z",
     "start_time": "2021-03-11T13:03:01.157323Z"
    }
   },
   "outputs": [],
   "source": [
    "ufo_backup.drop('Ithaca', axis=0)"
   ]
  },
  {
   "cell_type": "code",
   "execution_count": null,
   "metadata": {
    "ExecuteTime": {
     "end_time": "2021-03-11T13:03:38.271351Z",
     "start_time": "2021-03-11T13:03:38.240260Z"
    }
   },
   "outputs": [],
   "source": [
    "ufo.drop('Time', axis=1)"
   ]
  },
  {
   "cell_type": "code",
   "execution_count": null,
   "metadata": {
    "ExecuteTime": {
     "end_time": "2021-03-11T13:03:51.005365Z",
     "start_time": "2021-03-11T13:03:50.993293Z"
    }
   },
   "outputs": [],
   "source": [
    "ufo.head()"
   ]
  },
  {
   "cell_type": "code",
   "execution_count": null,
   "metadata": {
    "ExecuteTime": {
     "end_time": "2021-03-11T13:04:02.312981Z",
     "start_time": "2021-03-11T13:04:02.272819Z"
    }
   },
   "outputs": [],
   "source": [
    "ufo.drop([1,3,4]).head()"
   ]
  },
  {
   "cell_type": "code",
   "execution_count": null,
   "metadata": {
    "ExecuteTime": {
     "end_time": "2021-03-11T13:04:31.521422Z",
     "start_time": "2021-03-11T13:04:31.509364Z"
    }
   },
   "outputs": [],
   "source": [
    "ufo.index[0:10]"
   ]
  },
  {
   "cell_type": "code",
   "execution_count": null,
   "metadata": {
    "ExecuteTime": {
     "end_time": "2021-03-11T13:04:44.638868Z",
     "start_time": "2021-03-11T13:04:44.605541Z"
    }
   },
   "outputs": [],
   "source": [
    "ufo.drop(ufo.index[0:3]).head()"
   ]
  },
  {
   "cell_type": "markdown",
   "metadata": {},
   "source": [
    "All these operations do not change the underlying object, but return a modified copy of the object. If you want to perform the operation on the object, you should:\n",
    "- add `inplace=True`: more efficient and explicit, or\n",
    "- use assignment: may be a bit slower, but many people prefer this"
   ]
  },
  {
   "cell_type": "code",
   "execution_count": null,
   "metadata": {
    "ExecuteTime": {
     "end_time": "2021-03-11T13:06:11.309093Z",
     "start_time": "2021-03-11T13:06:11.295908Z"
    }
   },
   "outputs": [],
   "source": [
    "ufo.drop('State', axis=1, inplace=True)\n",
    "\n",
    "ufo.head()"
   ]
  },
  {
   "cell_type": "code",
   "execution_count": null,
   "metadata": {
    "ExecuteTime": {
     "end_time": "2021-03-11T13:06:29.995827Z",
     "start_time": "2021-03-11T13:06:29.969145Z"
    }
   },
   "outputs": [],
   "source": [
    "ufo = ufo.drop([0,1,4])\n",
    "\n",
    "ufo.head()"
   ]
  },
  {
   "cell_type": "markdown",
   "metadata": {},
   "source": [
    "## Exercise\n",
    "\n",
    "1. Read the *Titanic* dataset from https://tinyurl.com/y9p968ys into a dataframe called `titanic`\n",
    "2. Display first 15 rows of the dataset\n",
    "3. Rename `PassengerId` to `ID`, `Lname` to `last_name`, and `Name` to `first_name`\n",
    "4. Remove all rows for which the cabin number is not known"
   ]
  },
  {
   "cell_type": "markdown",
   "metadata": {},
   "source": [
    "## Sorting data frames\n",
    "\n",
    "You can sort individual series within a data frame, and you can sort the entire data frame. Sorting can be made permanent."
   ]
  },
  {
   "cell_type": "code",
   "execution_count": null,
   "metadata": {
    "ExecuteTime": {
     "end_time": "2021-03-11T13:07:16.868383Z",
     "start_time": "2021-03-11T13:07:10.895279Z"
    }
   },
   "outputs": [],
   "source": [
    "movies = pd.read_csv('https://bit.ly/imdbratings')\n",
    "\n",
    "movies.head()"
   ]
  },
  {
   "cell_type": "code",
   "execution_count": null,
   "metadata": {
    "ExecuteTime": {
     "end_time": "2021-03-11T13:08:16.219966Z",
     "start_time": "2021-03-11T13:08:16.214267Z"
    }
   },
   "outputs": [],
   "source": [
    "movies.duration.sort_index()"
   ]
  },
  {
   "cell_type": "code",
   "execution_count": null,
   "metadata": {
    "ExecuteTime": {
     "end_time": "2021-03-11T13:07:59.842962Z",
     "start_time": "2021-03-11T13:07:59.822749Z"
    }
   },
   "outputs": [],
   "source": [
    "movies.duration.sort_values(ascending=False)"
   ]
  },
  {
   "cell_type": "code",
   "execution_count": null,
   "metadata": {
    "ExecuteTime": {
     "end_time": "2021-03-11T13:08:50.561139Z",
     "start_time": "2021-03-11T13:08:50.535859Z"
    }
   },
   "outputs": [],
   "source": [
    "movies.sort_values('title', ascending=False)"
   ]
  },
  {
   "cell_type": "code",
   "execution_count": null,
   "metadata": {
    "ExecuteTime": {
     "end_time": "2021-03-11T13:09:00.281514Z",
     "start_time": "2021-03-11T13:09:00.234138Z"
    }
   },
   "outputs": [],
   "source": [
    "movies.sort_values(['content_rating', 'duration'])"
   ]
  },
  {
   "cell_type": "markdown",
   "metadata": {},
   "source": [
    "## Filter rows by a value in a column\n",
    "\n",
    "The filtering in `pandas` works very similarly to the way we do filtering in `NumPy`. We will start with creating a boolean series based on a condition, and then we will pass this series as an indexer to the data frame."
   ]
  },
  {
   "cell_type": "code",
   "execution_count": null,
   "metadata": {
    "ExecuteTime": {
     "end_time": "2021-03-11T13:10:30.137785Z",
     "start_time": "2021-03-11T13:10:30.112368Z"
    }
   },
   "outputs": [],
   "source": [
    "movies.genre == 'Horror'"
   ]
  },
  {
   "cell_type": "code",
   "execution_count": null,
   "metadata": {
    "ExecuteTime": {
     "end_time": "2021-03-11T13:11:19.679275Z",
     "start_time": "2021-03-11T13:11:19.674495Z"
    }
   },
   "outputs": [],
   "source": [
    "movies.shape"
   ]
  },
  {
   "cell_type": "code",
   "execution_count": null,
   "metadata": {
    "ExecuteTime": {
     "end_time": "2021-03-11T13:12:09.914825Z",
     "start_time": "2021-03-11T13:12:09.847565Z"
    }
   },
   "outputs": [],
   "source": [
    "movies[movies.genre.isin(['Horror','Thriller','Mystery'])]"
   ]
  },
  {
   "cell_type": "markdown",
   "metadata": {},
   "source": [
    "If we want to combine several conditions, there are two important things to remember:\n",
    "- each condition must be in parentheses to help `pandas` establish the order of execution\n",
    "- instead of `and`, `or` operators we must use `&` and `|`"
   ]
  },
  {
   "cell_type": "code",
   "execution_count": null,
   "metadata": {
    "ExecuteTime": {
     "end_time": "2021-03-11T13:13:32.224951Z",
     "start_time": "2021-03-11T13:13:32.190628Z"
    }
   },
   "outputs": [],
   "source": [
    "movies[ (movies.genre == 'Horror') & (movies.duration > 120)]"
   ]
  },
  {
   "cell_type": "markdown",
   "metadata": {},
   "source": [
    "We may also negate an index"
   ]
  },
  {
   "cell_type": "code",
   "execution_count": null,
   "metadata": {
    "ExecuteTime": {
     "end_time": "2021-03-11T13:13:43.837710Z",
     "start_time": "2021-03-11T13:13:43.804075Z"
    }
   },
   "outputs": [],
   "source": [
    "movies[~(movies.duration > 120)]"
   ]
  },
  {
   "cell_type": "markdown",
   "metadata": {},
   "source": [
    "## Exercise\n",
    "\n",
    "1. Sort the `titanic` dataframe in the decreasing order of the fare price\n",
    "2. Create a new dataframe `titanic_f` containing only information on female passengers\n",
    "3. Create a new dataframe `titanic_x` containing only young passenges (age < 18) who did not embark in Cork."
   ]
  },
  {
   "cell_type": "markdown",
   "metadata": {},
   "source": [
    "## String methods\n",
    "\n",
    "`pandas` makes it very easy to use all the string methods on data frame. Just remember to access these methods via the `str` attribute of the series. Method invocations can be easily chained because each method returns a `Series` object."
   ]
  },
  {
   "cell_type": "code",
   "execution_count": null,
   "metadata": {
    "ExecuteTime": {
     "end_time": "2021-03-11T13:15:40.359758Z",
     "start_time": "2021-03-11T13:15:29.203484Z"
    }
   },
   "outputs": [],
   "source": [
    "orders = pd.read_table('https://bit.ly/chiporders')\n",
    "\n",
    "orders.head()"
   ]
  },
  {
   "cell_type": "code",
   "execution_count": null,
   "metadata": {
    "ExecuteTime": {
     "end_time": "2021-03-11T13:15:51.635582Z",
     "start_time": "2021-03-11T13:15:51.613722Z"
    }
   },
   "outputs": [],
   "source": [
    "orders.item_name"
   ]
  },
  {
   "cell_type": "code",
   "execution_count": null,
   "metadata": {
    "ExecuteTime": {
     "end_time": "2021-03-11T13:16:03.631551Z",
     "start_time": "2021-03-11T13:16:03.625872Z"
    }
   },
   "outputs": [],
   "source": [
    "orders.item_name.str"
   ]
  },
  {
   "cell_type": "code",
   "execution_count": null,
   "metadata": {
    "ExecuteTime": {
     "end_time": "2021-03-11T13:17:23.138053Z",
     "start_time": "2021-03-11T13:17:23.122096Z"
    }
   },
   "outputs": [],
   "source": [
    "orders.item_name.str.upper().str.lower().str.len()"
   ]
  },
  {
   "cell_type": "code",
   "execution_count": null,
   "metadata": {
    "ExecuteTime": {
     "end_time": "2021-03-11T13:17:56.738906Z",
     "start_time": "2021-03-11T13:17:56.698939Z"
    }
   },
   "outputs": [],
   "source": [
    "orders.item_name.str.replace('Tomato','Pomodoro').str.lower().str.split()"
   ]
  },
  {
   "cell_type": "markdown",
   "metadata": {},
   "source": [
    "## Exercise\n",
    "\n",
    "1. Create a list of names of passengers consisting of the title (Mr., Miss., Mrs.) and the last name.\n",
    "2. Create a list of names of passengers consisting of the first initial and the last name"
   ]
  },
  {
   "cell_type": "markdown",
   "metadata": {},
   "source": [
    "## Changing data type of a series\n",
    "\n",
    "All elements in a `Series` object must have the same type. It is possible to cast the entire series to a new type using the builtin `Series.astype()` function. This can be done either during data reading, or after the data frame has been created."
   ]
  },
  {
   "cell_type": "code",
   "execution_count": null,
   "metadata": {
    "ExecuteTime": {
     "end_time": "2021-03-11T13:18:35.404764Z",
     "start_time": "2021-03-11T13:18:35.398721Z"
    }
   },
   "outputs": [],
   "source": [
    "orders.dtypes"
   ]
  },
  {
   "cell_type": "code",
   "execution_count": null,
   "metadata": {
    "ExecuteTime": {
     "end_time": "2021-03-11T13:18:54.229383Z",
     "start_time": "2021-03-11T13:18:54.185955Z"
    }
   },
   "outputs": [],
   "source": [
    "orders.head()"
   ]
  },
  {
   "cell_type": "code",
   "execution_count": null,
   "metadata": {
    "ExecuteTime": {
     "end_time": "2021-03-11T13:19:13.251181Z",
     "start_time": "2021-03-11T13:19:13.230946Z"
    }
   },
   "outputs": [],
   "source": [
    "orders.order_id.astype(float)"
   ]
  },
  {
   "cell_type": "code",
   "execution_count": null,
   "metadata": {
    "ExecuteTime": {
     "end_time": "2021-03-11T13:20:48.238116Z",
     "start_time": "2021-03-11T13:20:46.807162Z"
    }
   },
   "outputs": [],
   "source": [
    "orders = pd.read_table('https://bit.ly/chiporders', dtype={'quantity': float})\n",
    "\n",
    "orders.dtypes"
   ]
  },
  {
   "cell_type": "markdown",
   "metadata": {},
   "source": [
    "If we want to convert `item_price` to a number, we have to first remove the dollar sign from the string representation of the series, and then cast the entire series."
   ]
  },
  {
   "cell_type": "code",
   "execution_count": null,
   "metadata": {
    "ExecuteTime": {
     "end_time": "2021-03-11T13:22:36.767553Z",
     "start_time": "2021-03-11T13:22:36.750872Z"
    }
   },
   "outputs": [],
   "source": [
    "orders['item_price'] = orders.item_price.str.replace('$','').astype(float)"
   ]
  },
  {
   "cell_type": "code",
   "execution_count": null,
   "metadata": {
    "ExecuteTime": {
     "end_time": "2021-03-11T13:22:14.255449Z",
     "start_time": "2021-03-11T13:22:14.250834Z"
    }
   },
   "outputs": [],
   "source": [
    "orders.dtypes"
   ]
  },
  {
   "cell_type": "markdown",
   "metadata": {},
   "source": [
    "## Group by\n",
    "\n",
    "`Pandas` offers a very broad range of methods for advanced data processing. A common operation is to create aggregates of the table based on the grouping of data on a column. This can be easily achieved using a single function call."
   ]
  },
  {
   "cell_type": "code",
   "execution_count": null,
   "metadata": {
    "ExecuteTime": {
     "end_time": "2021-03-11T13:22:59.112173Z",
     "start_time": "2021-03-11T13:22:58.064856Z"
    }
   },
   "outputs": [],
   "source": [
    "drinks = pd.read_csv('https://bit.ly/drinksbycountry')\n",
    "\n",
    "drinks.head()"
   ]
  },
  {
   "cell_type": "code",
   "execution_count": null,
   "metadata": {
    "ExecuteTime": {
     "end_time": "2021-03-11T13:23:28.845421Z",
     "start_time": "2021-03-11T13:23:28.834626Z"
    }
   },
   "outputs": [],
   "source": [
    "drinks.mean()"
   ]
  },
  {
   "cell_type": "code",
   "execution_count": null,
   "metadata": {
    "ExecuteTime": {
     "end_time": "2021-03-11T13:24:02.493142Z",
     "start_time": "2021-03-11T13:24:02.475898Z"
    }
   },
   "outputs": [],
   "source": [
    "drinks.groupby('continent')"
   ]
  },
  {
   "cell_type": "code",
   "execution_count": null,
   "metadata": {
    "ExecuteTime": {
     "end_time": "2021-03-11T13:25:12.222188Z",
     "start_time": "2021-03-11T13:25:12.209847Z"
    }
   },
   "outputs": [],
   "source": [
    "drinks.groupby('continent').beer_servings.mean()"
   ]
  },
  {
   "cell_type": "code",
   "execution_count": null,
   "metadata": {
    "ExecuteTime": {
     "end_time": "2021-03-11T13:26:11.274870Z",
     "start_time": "2021-03-11T13:26:11.253574Z"
    }
   },
   "outputs": [],
   "source": [
    "drinks.groupby('continent').std()"
   ]
  },
  {
   "cell_type": "markdown",
   "metadata": {},
   "source": [
    "We can apply several aggregate functions to a grouped data frame using the `agg()` function"
   ]
  },
  {
   "cell_type": "code",
   "execution_count": null,
   "metadata": {
    "ExecuteTime": {
     "end_time": "2021-03-11T13:26:37.076574Z",
     "start_time": "2021-03-11T13:26:36.981864Z"
    }
   },
   "outputs": [],
   "source": [
    "drinks.groupby('continent').agg(['mean', 'min', 'max', 'count'])"
   ]
  },
  {
   "cell_type": "markdown",
   "metadata": {},
   "source": [
    "The results of the group by operation can be quickly visualized."
   ]
  },
  {
   "cell_type": "code",
   "execution_count": null,
   "metadata": {
    "ExecuteTime": {
     "end_time": "2021-03-11T13:28:24.941851Z",
     "start_time": "2021-03-11T13:28:24.545590Z"
    }
   },
   "outputs": [],
   "source": [
    "%matplotlib inline\n",
    "\n",
    "drinks.groupby('continent').mean().plot(kind='bar')"
   ]
  },
  {
   "cell_type": "markdown",
   "metadata": {},
   "source": [
    "## Exercise\n",
    "\n",
    "1. Compute the number of passengers and the average ticket fare based on the port of embarkment\n",
    "2. Compare the number of female and male passengers who have survived the sinking\n",
    "3. Compare the mean age of passengers who survived the sinking with the mean age of passengers who have died"
   ]
  },
  {
   "cell_type": "markdown",
   "metadata": {},
   "source": [
    "## Exploring the data frame\n",
    "\n",
    "Here we list some useful functions to run after reading the data to get some better understanding of the data."
   ]
  },
  {
   "cell_type": "code",
   "execution_count": null,
   "metadata": {
    "ExecuteTime": {
     "end_time": "2021-03-11T13:28:34.724264Z",
     "start_time": "2021-03-11T13:28:33.901849Z"
    }
   },
   "outputs": [],
   "source": [
    "movies = pd.read_csv('https://bit.ly/imdbratings')\n",
    "\n",
    "movies.head()"
   ]
  },
  {
   "cell_type": "code",
   "execution_count": null,
   "metadata": {
    "ExecuteTime": {
     "end_time": "2021-03-11T13:28:41.064339Z",
     "start_time": "2021-03-11T13:28:41.029170Z"
    }
   },
   "outputs": [],
   "source": [
    "movies.star_rating.describe()"
   ]
  },
  {
   "cell_type": "code",
   "execution_count": null,
   "metadata": {
    "ExecuteTime": {
     "end_time": "2021-03-11T10:12:06.542979Z",
     "start_time": "2021-03-11T10:12:06.527191Z"
    }
   },
   "outputs": [],
   "source": [
    "movies.genre.describe()"
   ]
  },
  {
   "cell_type": "code",
   "execution_count": null,
   "metadata": {
    "ExecuteTime": {
     "end_time": "2021-03-11T13:29:19.235697Z",
     "start_time": "2021-03-11T13:29:19.227645Z"
    }
   },
   "outputs": [],
   "source": [
    "movies.genre.value_counts()"
   ]
  },
  {
   "cell_type": "code",
   "execution_count": null,
   "metadata": {
    "ExecuteTime": {
     "end_time": "2021-03-11T13:29:36.989947Z",
     "start_time": "2021-03-11T13:29:36.972660Z"
    }
   },
   "outputs": [],
   "source": [
    "movies.genre.value_counts(normalize=True)"
   ]
  },
  {
   "cell_type": "markdown",
   "metadata": {},
   "source": [
    "Since the result of the `value_counts()` function is a `Series` object, we can process it further."
   ]
  },
  {
   "cell_type": "code",
   "execution_count": null,
   "metadata": {
    "ExecuteTime": {
     "end_time": "2021-03-11T13:30:00.854800Z",
     "start_time": "2021-03-11T13:30:00.572468Z"
    }
   },
   "outputs": [],
   "source": [
    "movies.genre.value_counts(normalize=True).plot(kind='bar')"
   ]
  },
  {
   "cell_type": "code",
   "execution_count": null,
   "metadata": {
    "ExecuteTime": {
     "end_time": "2021-03-11T13:30:20.312654Z",
     "start_time": "2021-03-11T13:30:20.031975Z"
    }
   },
   "outputs": [],
   "source": [
    "movies.duration.plot(kind='hist')"
   ]
  },
  {
   "cell_type": "code",
   "execution_count": null,
   "metadata": {
    "ExecuteTime": {
     "end_time": "2021-03-11T13:30:32.521434Z",
     "start_time": "2021-03-11T13:30:32.513065Z"
    }
   },
   "outputs": [],
   "source": [
    "movies.genre.unique()"
   ]
  },
  {
   "cell_type": "code",
   "execution_count": null,
   "metadata": {
    "ExecuteTime": {
     "end_time": "2021-03-11T13:31:27.596125Z",
     "start_time": "2021-03-11T13:31:27.542535Z"
    }
   },
   "outputs": [],
   "source": [
    "genres = movies.genre.unique()\n",
    "\n",
    "for g in genres:\n",
    "    df = movies[movies.genre == g]\n",
    "    ..."
   ]
  },
  {
   "cell_type": "markdown",
   "metadata": {},
   "source": [
    "A useful method allows you to quickly create pivot tables from series objects."
   ]
  },
  {
   "cell_type": "code",
   "execution_count": null,
   "metadata": {
    "ExecuteTime": {
     "end_time": "2021-03-11T13:31:45.856982Z",
     "start_time": "2021-03-11T13:31:45.844298Z"
    }
   },
   "outputs": [],
   "source": [
    "genres = movies.genre\n",
    "ratings = movies.content_rating"
   ]
  },
  {
   "cell_type": "code",
   "execution_count": null,
   "metadata": {
    "ExecuteTime": {
     "end_time": "2021-03-11T13:31:47.784920Z",
     "start_time": "2021-03-11T13:31:47.768661Z"
    }
   },
   "outputs": [],
   "source": [
    "genres"
   ]
  },
  {
   "cell_type": "code",
   "execution_count": null,
   "metadata": {
    "ExecuteTime": {
     "end_time": "2021-03-11T13:31:56.671708Z",
     "start_time": "2021-03-11T13:31:56.652899Z"
    }
   },
   "outputs": [],
   "source": [
    "ratings"
   ]
  },
  {
   "cell_type": "code",
   "execution_count": null,
   "metadata": {
    "ExecuteTime": {
     "end_time": "2021-03-11T13:32:11.732925Z",
     "start_time": "2021-03-11T13:32:11.683731Z"
    }
   },
   "outputs": [],
   "source": [
    "pd.crosstab(genres, ratings)"
   ]
  },
  {
   "cell_type": "markdown",
   "metadata": {},
   "source": [
    "## Handling missing values\n",
    "\n",
    "When working with a data frame, we must be careful when the data contains missing values. Two functions are very useful when working with missing values:\n",
    "- `isnull()`: returns `True` if a value is missing\n",
    "- `dropna()`: allows to remove rows and/or columns with missing values"
   ]
  },
  {
   "cell_type": "code",
   "execution_count": null,
   "metadata": {
    "ExecuteTime": {
     "end_time": "2021-03-11T13:32:57.889396Z",
     "start_time": "2021-03-11T13:32:56.230476Z"
    }
   },
   "outputs": [],
   "source": [
    "ufo = pd.read_csv('https://bit.ly/uforeports')\n",
    "\n",
    "ufo.head()"
   ]
  },
  {
   "cell_type": "code",
   "execution_count": null,
   "metadata": {
    "ExecuteTime": {
     "end_time": "2021-03-11T13:33:23.242950Z",
     "start_time": "2021-03-11T13:33:23.221410Z"
    }
   },
   "outputs": [],
   "source": [
    "ufo['Colors Reported'].isnull()"
   ]
  },
  {
   "cell_type": "code",
   "execution_count": null,
   "metadata": {
    "ExecuteTime": {
     "end_time": "2021-03-11T13:33:33.361626Z",
     "start_time": "2021-03-11T13:33:33.349802Z"
    }
   },
   "outputs": [],
   "source": [
    "ufo['Colors Reported'].isnull().sum()"
   ]
  },
  {
   "cell_type": "code",
   "execution_count": null,
   "metadata": {
    "ExecuteTime": {
     "end_time": "2021-03-11T13:34:25.557556Z",
     "start_time": "2021-03-11T13:34:25.518044Z"
    }
   },
   "outputs": [],
   "source": [
    "ufo.isnull().sum()"
   ]
  },
  {
   "cell_type": "code",
   "execution_count": null,
   "metadata": {
    "ExecuteTime": {
     "end_time": "2021-03-11T13:35:10.546056Z",
     "start_time": "2021-03-11T13:35:10.526434Z"
    }
   },
   "outputs": [],
   "source": [
    "ufo.shape"
   ]
  },
  {
   "cell_type": "code",
   "execution_count": null,
   "metadata": {
    "ExecuteTime": {
     "end_time": "2021-03-11T13:36:28.587433Z",
     "start_time": "2021-03-11T13:36:28.564289Z"
    }
   },
   "outputs": [],
   "source": [
    "ufo.dropna(how='all', axis=0, subset=['City', 'Colors Reported']) # all, subset"
   ]
  },
  {
   "cell_type": "markdown",
   "metadata": {},
   "source": [
    "## Exercise\n",
    "\n",
    "1. Remove from the `titanic` dataframe records which do not have the age of the passenger registered\n",
    "2. Compute the number of missing cabin numbers for each class of passengers"
   ]
  },
  {
   "cell_type": "markdown",
   "metadata": {},
   "source": [
    "## What is an index?\n",
    "\n",
    "An `Index` is a special type that can be used to access rows and columns. There are three main uses for an index:\n",
    "- identification of rows/columns\n",
    "- selection of rows/columns\n",
    "- alignment of rows"
   ]
  },
  {
   "cell_type": "code",
   "execution_count": null,
   "metadata": {
    "ExecuteTime": {
     "end_time": "2021-03-11T13:37:32.605150Z",
     "start_time": "2021-03-11T13:37:31.656393Z"
    }
   },
   "outputs": [],
   "source": [
    "drinks = pd.read_csv('https://bit.ly/drinksbycountry')\n",
    "\n",
    "drinks.head()"
   ]
  },
  {
   "cell_type": "code",
   "execution_count": null,
   "metadata": {
    "ExecuteTime": {
     "end_time": "2021-03-11T13:37:59.355206Z",
     "start_time": "2021-03-11T13:37:59.333298Z"
    }
   },
   "outputs": [],
   "source": [
    "drinks.set_index('country', inplace=True)\n",
    "\n",
    "drinks.head()"
   ]
  },
  {
   "cell_type": "markdown",
   "metadata": {},
   "source": [
    "Notice that the index of a data frame is inherited by all series."
   ]
  },
  {
   "cell_type": "code",
   "execution_count": null,
   "metadata": {
    "ExecuteTime": {
     "end_time": "2021-03-11T13:38:53.939891Z",
     "start_time": "2021-03-11T13:38:53.933809Z"
    }
   },
   "outputs": [],
   "source": [
    "drinks.continent.head()"
   ]
  },
  {
   "cell_type": "code",
   "execution_count": null,
   "metadata": {
    "ExecuteTime": {
     "end_time": "2021-03-11T13:39:27.685253Z",
     "start_time": "2021-03-11T13:39:27.674078Z"
    }
   },
   "outputs": [],
   "source": [
    "drinks.continent.value_counts().values"
   ]
  },
  {
   "cell_type": "code",
   "execution_count": null,
   "metadata": {
    "ExecuteTime": {
     "end_time": "2021-03-11T13:39:32.162991Z",
     "start_time": "2021-03-11T13:39:32.152763Z"
    }
   },
   "outputs": [],
   "source": [
    "drinks.continent.value_counts().index"
   ]
  },
  {
   "cell_type": "markdown",
   "metadata": {},
   "source": [
    "Index is very useful to select both rows and columns. All you need to remember is that `pd.loc` function expects you to provide index entries for rows and columns that you want to retrieve."
   ]
  },
  {
   "cell_type": "code",
   "execution_count": null,
   "metadata": {
    "ExecuteTime": {
     "end_time": "2021-03-11T13:40:10.826458Z",
     "start_time": "2021-03-11T13:40:10.815074Z"
    }
   },
   "outputs": [],
   "source": [
    "drinks.head()"
   ]
  },
  {
   "cell_type": "code",
   "execution_count": null,
   "metadata": {
    "ExecuteTime": {
     "end_time": "2021-03-11T13:41:38.693653Z",
     "start_time": "2021-03-11T13:41:38.686695Z"
    }
   },
   "outputs": [],
   "source": [
    "drinks.loc['Poland', :]"
   ]
  },
  {
   "cell_type": "code",
   "execution_count": null,
   "metadata": {
    "ExecuteTime": {
     "end_time": "2021-03-11T13:42:16.885907Z",
     "start_time": "2021-03-11T13:42:16.862367Z"
    }
   },
   "outputs": [],
   "source": [
    "drinks.loc['Gabon':'Guyana', 'beer_servings']"
   ]
  },
  {
   "cell_type": "code",
   "execution_count": null,
   "metadata": {
    "ExecuteTime": {
     "end_time": "2021-03-11T13:43:06.214095Z",
     "start_time": "2021-03-11T13:43:06.209634Z"
    }
   },
   "outputs": [],
   "source": [
    "drinks.columns"
   ]
  },
  {
   "cell_type": "code",
   "execution_count": null,
   "metadata": {
    "ExecuteTime": {
     "end_time": "2021-03-11T13:42:42.564954Z",
     "start_time": "2021-03-11T13:42:42.533333Z"
    }
   },
   "outputs": [],
   "source": [
    "drinks.loc[['Poland', 'Germany', 'France'], 'beer_servings':'wine_servings']"
   ]
  },
  {
   "cell_type": "markdown",
   "metadata": {},
   "source": [
    "Let's create a `Series` object with an index that can be aligned with our `drinks` data frame."
   ]
  },
  {
   "cell_type": "code",
   "execution_count": null,
   "metadata": {
    "ExecuteTime": {
     "end_time": "2021-03-11T13:43:30.582157Z",
     "start_time": "2021-03-11T13:43:30.553889Z"
    }
   },
   "outputs": [],
   "source": [
    "population = pd.Series([4000000, 38000000, 80000000, 70000000], \n",
    "                       index=['Albania', 'Poland', 'Germany', 'France'], \n",
    "                       name='population')\n",
    "\n",
    "population"
   ]
  },
  {
   "cell_type": "code",
   "execution_count": null,
   "metadata": {
    "ExecuteTime": {
     "end_time": "2021-03-11T13:45:03.986353Z",
     "start_time": "2021-03-11T13:45:03.945295Z"
    }
   },
   "outputs": [],
   "source": [
    "drinks.loc[['Albania', 'Poland', 'Germany', 'France', 'Greece']].beer_servings * population"
   ]
  },
  {
   "cell_type": "code",
   "execution_count": null,
   "metadata": {
    "ExecuteTime": {
     "end_time": "2021-03-11T13:45:43.088719Z",
     "start_time": "2021-03-11T13:45:43.060580Z"
    }
   },
   "outputs": [],
   "source": [
    "pd.concat([drinks, population], axis=1)"
   ]
  },
  {
   "cell_type": "markdown",
   "metadata": {},
   "source": [
    "You can always revert to a default \"row number\" index and move the index column to the column list."
   ]
  },
  {
   "cell_type": "code",
   "execution_count": null,
   "metadata": {
    "ExecuteTime": {
     "end_time": "2021-03-11T13:46:13.073743Z",
     "start_time": "2021-03-11T13:46:13.059455Z"
    }
   },
   "outputs": [],
   "source": [
    "drinks.reset_index(inplace=True)\n",
    "\n",
    "drinks.head()"
   ]
  },
  {
   "cell_type": "markdown",
   "metadata": {},
   "source": [
    "## Indexing with `loc`, `iloc`, and `ix`\n",
    "\n",
    "This is quite confusing. Try to remember the following rules:\n",
    "- `loc` uses row/column indexes (aka labels), the ranges are **inclusive**\n",
    "- `iloc` uses integer positions on the list of rows and columns, the ranges are **exclusive**\n",
    "- `ix` was an old way of indexing a dataframe allowing to use both labels and integer positions, it is deprecated"
   ]
  },
  {
   "cell_type": "code",
   "execution_count": null,
   "metadata": {
    "ExecuteTime": {
     "end_time": "2021-03-11T13:47:40.016035Z",
     "start_time": "2021-03-11T13:47:37.365122Z"
    }
   },
   "outputs": [],
   "source": [
    "ufo = pd.read_csv('https://bit.ly/uforeports')\n",
    "\n",
    "ufo.head()"
   ]
  },
  {
   "cell_type": "code",
   "execution_count": null,
   "metadata": {
    "ExecuteTime": {
     "end_time": "2021-03-11T13:48:17.728151Z",
     "start_time": "2021-03-11T13:48:17.695077Z"
    }
   },
   "outputs": [],
   "source": [
    "ufo.loc[0:3, :]"
   ]
  },
  {
   "cell_type": "code",
   "execution_count": null,
   "metadata": {
    "ExecuteTime": {
     "end_time": "2021-03-11T13:49:17.041295Z",
     "start_time": "2021-03-11T13:49:16.996290Z"
    }
   },
   "outputs": [],
   "source": [
    "ufo.loc[[0,2,4], 'City':'State']"
   ]
  },
  {
   "cell_type": "code",
   "execution_count": null,
   "metadata": {
    "ExecuteTime": {
     "end_time": "2021-03-11T13:49:54.270593Z",
     "start_time": "2021-03-11T13:49:54.229731Z"
    }
   },
   "outputs": [],
   "source": [
    "ufo.iloc[0:3, 1:3]"
   ]
  },
  {
   "cell_type": "markdown",
   "metadata": {},
   "source": [
    "## Categories and ordered categories\n",
    "\n",
    "For certain types of columns the data frame can be optimized by switching the type of a column (especially a column used in selection or grouping) into a category type."
   ]
  },
  {
   "cell_type": "code",
   "execution_count": null,
   "metadata": {
    "ExecuteTime": {
     "end_time": "2021-03-11T13:50:56.737390Z",
     "start_time": "2021-03-11T13:50:50.657224Z"
    }
   },
   "outputs": [],
   "source": [
    "drinks = pd.read_csv('https://bit.ly/drinksbycountry')\n",
    "\n",
    "drinks.head()"
   ]
  },
  {
   "cell_type": "code",
   "execution_count": null,
   "metadata": {
    "ExecuteTime": {
     "end_time": "2021-03-11T13:51:05.947402Z",
     "start_time": "2021-03-11T13:51:05.919245Z"
    }
   },
   "outputs": [],
   "source": [
    "drinks.info()"
   ]
  },
  {
   "cell_type": "code",
   "execution_count": null,
   "metadata": {
    "ExecuteTime": {
     "end_time": "2021-03-11T13:52:03.097386Z",
     "start_time": "2021-03-11T13:52:03.075953Z"
    }
   },
   "outputs": [],
   "source": [
    "drinks.info(memory_usage='deep')"
   ]
  },
  {
   "cell_type": "code",
   "execution_count": null,
   "metadata": {
    "ExecuteTime": {
     "end_time": "2021-03-11T13:52:23.306520Z",
     "start_time": "2021-03-11T13:52:23.301108Z"
    }
   },
   "outputs": [],
   "source": [
    "drinks.continent.memory_usage(deep=True)"
   ]
  },
  {
   "cell_type": "code",
   "execution_count": null,
   "metadata": {
    "ExecuteTime": {
     "end_time": "2021-03-11T13:52:41.610675Z",
     "start_time": "2021-03-11T13:52:41.603918Z"
    }
   },
   "outputs": [],
   "source": [
    "drinks.continent"
   ]
  },
  {
   "cell_type": "code",
   "execution_count": null,
   "metadata": {
    "ExecuteTime": {
     "end_time": "2021-03-11T13:53:11.448291Z",
     "start_time": "2021-03-11T13:53:11.417334Z"
    }
   },
   "outputs": [],
   "source": [
    "drinks.continent = drinks.continent.astype('category')\n",
    "\n",
    "drinks.continent.memory_usage(deep=True)"
   ]
  },
  {
   "cell_type": "code",
   "execution_count": null,
   "metadata": {
    "ExecuteTime": {
     "end_time": "2021-03-11T13:54:02.401200Z",
     "start_time": "2021-03-11T13:54:02.376161Z"
    }
   },
   "outputs": [],
   "source": [
    "drinks.continent"
   ]
  },
  {
   "cell_type": "markdown",
   "metadata": {},
   "source": [
    "You can perform various operations on a category, just remember to access it via `cat` property."
   ]
  },
  {
   "cell_type": "code",
   "execution_count": null,
   "metadata": {
    "ExecuteTime": {
     "end_time": "2021-03-11T13:54:15.246235Z",
     "start_time": "2021-03-11T13:54:15.237657Z"
    }
   },
   "outputs": [],
   "source": [
    "drinks.continent.cat.codes"
   ]
  },
  {
   "cell_type": "code",
   "execution_count": null,
   "metadata": {
    "ExecuteTime": {
     "end_time": "2021-03-11T13:54:17.601886Z",
     "start_time": "2021-03-11T13:54:17.587825Z"
    }
   },
   "outputs": [],
   "source": [
    "drinks.continent.cat.as_ordered()"
   ]
  },
  {
   "cell_type": "markdown",
   "metadata": {},
   "source": [
    "Ordered category can be used to allow for logical sorting of rows."
   ]
  },
  {
   "cell_type": "code",
   "execution_count": null,
   "metadata": {
    "ExecuteTime": {
     "end_time": "2021-03-11T13:54:37.105651Z",
     "start_time": "2021-03-11T13:54:37.093806Z"
    }
   },
   "outputs": [],
   "source": [
    "df = pd.DataFrame({\n",
    "    'name': ['Mount Everest', 'Kilimanjaro', 'Rysy'],\n",
    "    'height': ['very high', 'high', 'low']\n",
    "})\n",
    "\n",
    "df"
   ]
  },
  {
   "cell_type": "code",
   "execution_count": null,
   "metadata": {
    "ExecuteTime": {
     "end_time": "2021-03-11T13:55:00.909490Z",
     "start_time": "2021-03-11T13:55:00.897306Z"
    }
   },
   "outputs": [],
   "source": [
    "df.sort_values('height')"
   ]
  },
  {
   "cell_type": "code",
   "execution_count": null,
   "metadata": {
    "ExecuteTime": {
     "end_time": "2021-03-11T13:56:03.774958Z",
     "start_time": "2021-03-11T13:56:03.757452Z"
    }
   },
   "outputs": [],
   "source": [
    "from pandas.api.types import CategoricalDtype\n",
    "\n",
    "heights = CategoricalDtype(categories=['low', 'high', 'very high'], ordered=True)\n",
    "\n",
    "df['height'] = df.height.astype(heights) "
   ]
  },
  {
   "cell_type": "code",
   "execution_count": null,
   "metadata": {
    "ExecuteTime": {
     "end_time": "2021-03-11T13:56:04.879828Z",
     "start_time": "2021-03-11T13:56:04.848946Z"
    }
   },
   "outputs": [],
   "source": [
    "df.sort_values('height')"
   ]
  },
  {
   "cell_type": "markdown",
   "metadata": {},
   "source": [
    "## Exercise\n",
    "\n",
    "1. Change the index of the `titanic` dataframe to the ticket number\n",
    "2. Change the `Pclass` attribute into a category. "
   ]
  },
  {
   "cell_type": "markdown",
   "metadata": {},
   "source": [
    "## Creating binary variables from categorical columns\n",
    "\n",
    "Often in data mining we want to binarize categorical features. One of the most common encodings is the dummy encoding, where a feature with `n` values is turned into `n-1` binary columns"
   ]
  },
  {
   "cell_type": "code",
   "execution_count": null,
   "metadata": {
    "ExecuteTime": {
     "end_time": "2021-03-11T13:56:38.859663Z",
     "start_time": "2021-03-11T13:56:37.199738Z"
    }
   },
   "outputs": [],
   "source": [
    "ufo = pd.read_csv('https://bit.ly/uforeports')\n",
    "\n",
    "ufo.head()"
   ]
  },
  {
   "cell_type": "code",
   "execution_count": null,
   "metadata": {
    "ExecuteTime": {
     "end_time": "2021-03-11T13:57:04.349659Z",
     "start_time": "2021-03-11T13:57:04.319224Z"
    }
   },
   "outputs": [],
   "source": [
    "ufo.State.map({'NY': 'New York', 'NJ': 'New Jersey', 'CO': 'Colorado'})"
   ]
  },
  {
   "cell_type": "code",
   "execution_count": null,
   "metadata": {
    "ExecuteTime": {
     "end_time": "2021-03-11T13:58:18.886008Z",
     "start_time": "2021-03-11T13:58:18.854336Z"
    }
   },
   "outputs": [],
   "source": [
    "pd.get_dummies(ufo.State)"
   ]
  },
  {
   "cell_type": "code",
   "execution_count": null,
   "metadata": {
    "ExecuteTime": {
     "end_time": "2021-03-11T13:58:43.198537Z",
     "start_time": "2021-03-11T13:58:43.146353Z"
    }
   },
   "outputs": [],
   "source": [
    "pd.get_dummies(ufo.State, prefix='state')"
   ]
  },
  {
   "cell_type": "code",
   "execution_count": null,
   "metadata": {
    "ExecuteTime": {
     "end_time": "2021-03-11T11:17:15.704705Z",
     "start_time": "2021-03-11T11:17:15.681894Z"
    }
   },
   "outputs": [],
   "source": [
    "pd.get_dummies(ufo.State, prefix='state').sum(axis=0)"
   ]
  },
  {
   "cell_type": "code",
   "execution_count": null,
   "metadata": {
    "ExecuteTime": {
     "end_time": "2021-03-11T11:17:26.911909Z",
     "start_time": "2021-03-11T11:17:26.896132Z"
    }
   },
   "outputs": [],
   "source": [
    "pd.get_dummies(ufo.State, prefix='state').sum(axis=1)"
   ]
  },
  {
   "cell_type": "code",
   "execution_count": null,
   "metadata": {
    "ExecuteTime": {
     "end_time": "2021-03-11T13:59:46.122875Z",
     "start_time": "2021-03-11T13:59:46.111370Z"
    }
   },
   "outputs": [],
   "source": [
    "df = pd.DataFrame({'gender': ['M', 'F', 'F', 'M', 'F', 'M', 'N', 'N']})\n",
    "df"
   ]
  },
  {
   "cell_type": "code",
   "execution_count": null,
   "metadata": {
    "ExecuteTime": {
     "end_time": "2021-03-11T13:59:51.409886Z",
     "start_time": "2021-03-11T13:59:51.390526Z"
    }
   },
   "outputs": [],
   "source": [
    "pd.get_dummies(df.gender)"
   ]
  },
  {
   "cell_type": "code",
   "execution_count": null,
   "metadata": {
    "ExecuteTime": {
     "end_time": "2021-03-11T14:00:00.790876Z",
     "start_time": "2021-03-11T14:00:00.773688Z"
    }
   },
   "outputs": [],
   "source": [
    "pd.get_dummies(df.gender, drop_first=True)"
   ]
  },
  {
   "cell_type": "markdown",
   "metadata": {},
   "source": [
    "## Display options \n",
    "\n",
    "The way `pandas` dataframes are displayed insied a notebook can be modified by accessing display options. Two functions are handy for that:\n",
    "- `get_option()`: check the current setting\n",
    "- `set_option()`: modify the current setting\n",
    "\n",
    "Let's change the following settings:\n",
    "- the number of rows displayed\n",
    "- the precision of floats\n",
    "- the maximum width of a column"
   ]
  },
  {
   "cell_type": "code",
   "execution_count": null,
   "metadata": {
    "ExecuteTime": {
     "end_time": "2021-03-11T11:21:25.503941Z",
     "start_time": "2021-03-11T11:21:24.625563Z"
    }
   },
   "outputs": [],
   "source": [
    "movies = pd.read_csv('https://bit.ly/imdbratings')\n",
    "\n",
    "movies.head()"
   ]
  },
  {
   "cell_type": "code",
   "execution_count": null,
   "metadata": {
    "ExecuteTime": {
     "end_time": "2021-03-11T11:25:14.731517Z",
     "start_time": "2021-03-11T11:25:14.726686Z"
    }
   },
   "outputs": [],
   "source": [
    "pd.set_option('display.max_rows', None)\n",
    "pd.set_option('display.precision', 0)\n",
    "pd.set_option('display.max_colwidth', 25)"
   ]
  },
  {
   "cell_type": "code",
   "execution_count": null,
   "metadata": {
    "ExecuteTime": {
     "end_time": "2021-03-11T11:25:17.411724Z",
     "start_time": "2021-03-11T11:25:17.220014Z"
    }
   },
   "outputs": [],
   "source": [
    "movies"
   ]
  },
  {
   "cell_type": "code",
   "execution_count": null,
   "metadata": {
    "ExecuteTime": {
     "end_time": "2021-03-11T11:25:37.535511Z",
     "start_time": "2021-03-11T11:25:37.531446Z"
    }
   },
   "outputs": [],
   "source": [
    "pd.reset_option('display.max_rows')\n",
    "pd.reset_option('display.precision')\n",
    "pd.reset_option('display.max_colwidth')"
   ]
  },
  {
   "cell_type": "markdown",
   "metadata": {},
   "source": [
    "## Applying functions to data frame columns\n",
    "\n",
    "We can easily apply functions to data frame columns on the fly, or create new columns as the result of applying a function to an existing column. We've seen this behavior before. Two of the most common ways to do it are the `map()` function and the `apply()` function."
   ]
  },
  {
   "cell_type": "code",
   "execution_count": null,
   "metadata": {
    "ExecuteTime": {
     "end_time": "2021-03-11T14:00:45.143182Z",
     "start_time": "2021-03-11T14:00:33.240708Z"
    }
   },
   "outputs": [],
   "source": [
    "drinks = pd.read_csv('https://bit.ly/drinksbycountry')\n",
    "\n",
    "drinks.head()"
   ]
  },
  {
   "cell_type": "code",
   "execution_count": null,
   "metadata": {
    "ExecuteTime": {
     "end_time": "2021-03-11T14:00:50.275856Z",
     "start_time": "2021-03-11T14:00:50.265678Z"
    }
   },
   "outputs": [],
   "source": [
    "drinks.country.str.lower()"
   ]
  },
  {
   "cell_type": "code",
   "execution_count": null,
   "metadata": {
    "ExecuteTime": {
     "end_time": "2021-03-11T14:01:12.879369Z",
     "start_time": "2021-03-11T14:01:12.869117Z"
    }
   },
   "outputs": [],
   "source": [
    "drinks.country.map(len)"
   ]
  },
  {
   "cell_type": "code",
   "execution_count": null,
   "metadata": {
    "ExecuteTime": {
     "end_time": "2021-03-11T14:02:05.969171Z",
     "start_time": "2021-03-11T14:02:05.953532Z"
    }
   },
   "outputs": [],
   "source": [
    "pd.concat([drinks.country, drinks.country.map(len)], axis=1)"
   ]
  },
  {
   "cell_type": "code",
   "execution_count": null,
   "metadata": {
    "ExecuteTime": {
     "end_time": "2021-03-11T14:02:28.827747Z",
     "start_time": "2021-03-11T14:02:28.799676Z"
    }
   },
   "outputs": [],
   "source": [
    "drinks.apply(max)"
   ]
  },
  {
   "cell_type": "code",
   "execution_count": null,
   "metadata": {},
   "outputs": [],
   "source": [
    "drinks.apply(max, axis=1)"
   ]
  },
  {
   "cell_type": "code",
   "execution_count": null,
   "metadata": {
    "ExecuteTime": {
     "end_time": "2021-03-11T14:03:25.951899Z",
     "start_time": "2021-03-11T14:03:25.938200Z"
    }
   },
   "outputs": [],
   "source": [
    "drinks.loc[:, 'beer_servings':'wine_servings'].apply(max, axis=1)"
   ]
  },
  {
   "cell_type": "code",
   "execution_count": null,
   "metadata": {
    "ExecuteTime": {
     "end_time": "2021-03-11T14:03:47.302649Z",
     "start_time": "2021-03-11T14:03:47.288398Z"
    }
   },
   "outputs": [],
   "source": [
    "def get_serious_drinkers(total_alcohol: float) -> bool:\n",
    "    if total_alcohol >= 10.0:\n",
    "        return True\n",
    "    else:\n",
    "        return False"
   ]
  },
  {
   "cell_type": "code",
   "execution_count": null,
   "metadata": {
    "ExecuteTime": {
     "end_time": "2021-03-11T14:04:42.095800Z",
     "start_time": "2021-03-11T14:04:42.089527Z"
    }
   },
   "outputs": [],
   "source": [
    "drinks['heavy_drinkers'] = drinks.total_litres_of_pure_alcohol.apply(get_serious_drinkers)"
   ]
  },
  {
   "cell_type": "code",
   "execution_count": null,
   "metadata": {
    "ExecuteTime": {
     "end_time": "2021-03-11T14:04:45.744618Z",
     "start_time": "2021-03-11T14:04:45.726939Z"
    }
   },
   "outputs": [],
   "source": [
    "drinks.head()"
   ]
  },
  {
   "cell_type": "code",
   "execution_count": null,
   "metadata": {
    "ExecuteTime": {
     "end_time": "2021-03-11T14:06:45.376400Z",
     "start_time": "2021-03-11T14:06:45.346989Z"
    }
   },
   "outputs": [],
   "source": [
    "drinks.total_litres_of_pure_alcohol.apply(lambda x: True if x > 10 else False )"
   ]
  },
  {
   "cell_type": "markdown",
   "metadata": {},
   "source": [
    "Instead of writing a separate function, many people prefer to use anonymous lambda funciton instead. What you see below is a very common pattern for `pandas` processing."
   ]
  },
  {
   "cell_type": "code",
   "execution_count": null,
   "metadata": {
    "ExecuteTime": {
     "end_time": "2021-03-11T14:07:31.170536Z",
     "start_time": "2021-03-11T14:07:31.146925Z"
    }
   },
   "outputs": [],
   "source": [
    "drinks['country_initial'] = drinks.country.apply(lambda x: x[0])\n",
    "\n",
    "drinks.head(20)"
   ]
  },
  {
   "cell_type": "markdown",
   "metadata": {},
   "source": [
    "Sometimes, we want to apply a min/max function to a set of columns and find which column produces the result. This can be achieved using the `idxmax` function."
   ]
  },
  {
   "cell_type": "code",
   "execution_count": null,
   "metadata": {
    "ExecuteTime": {
     "end_time": "2021-03-11T14:07:54.965933Z",
     "start_time": "2021-03-11T14:07:54.953063Z"
    }
   },
   "outputs": [],
   "source": [
    "drinks.loc[:, 'beer_servings':'wine_servings']"
   ]
  },
  {
   "cell_type": "code",
   "execution_count": null,
   "metadata": {
    "ExecuteTime": {
     "end_time": "2021-03-11T14:08:07.517835Z",
     "start_time": "2021-03-11T14:08:07.476380Z"
    }
   },
   "outputs": [],
   "source": [
    "drinks.loc[:, 'beer_servings':'wine_servings'].apply(max, axis=1)"
   ]
  },
  {
   "cell_type": "code",
   "execution_count": null,
   "metadata": {
    "ExecuteTime": {
     "end_time": "2021-03-11T14:08:50.808176Z",
     "start_time": "2021-03-11T14:08:50.798260Z"
    }
   },
   "outputs": [],
   "source": [
    "drinks.loc[:, 'beer_servings':'wine_servings'].idxmax(axis=1)"
   ]
  },
  {
   "cell_type": "markdown",
   "metadata": {},
   "source": [
    "## Exercise\n",
    "\n",
    "1. Create a new column which contains the age each of the passengers would have had today (Titanic sunk in 1912)\n",
    "2. Create a new column with the string value *survived* or *died* for each passenger\n",
    "3. Create a new column `Deck` containig the symbol of the deck on which the passenger was travelling (the first letter of the cabin number)"
   ]
  },
  {
   "cell_type": "markdown",
   "metadata": {},
   "source": [
    "## Joining data frames\n",
    "\n",
    "There are multiple methods to join data frames, but we will focus on only two methods and forget about the rest:\n",
    "- `pd.concat`: joins data frames vertically or horizontally\n",
    "- `pd.merge`: performs database-like inner, outer, left, and right-joins based on an index or a column"
   ]
  },
  {
   "cell_type": "code",
   "execution_count": null,
   "metadata": {
    "ExecuteTime": {
     "end_time": "2021-03-11T11:54:27.023947Z",
     "start_time": "2021-03-11T11:54:27.014070Z"
    }
   },
   "outputs": [],
   "source": [
    "cities = pd.DataFrame({\n",
    "    'country': ['Germany', 'Germany', 'Poland', 'Poland', 'Russia', 'Russia'],\n",
    "    'city': ['Berlin', 'Munich', 'Warsaw', 'Cracow', 'Moscow', 'St Petersburg'],\n",
    "    'is_capital': [True, False, True, False, True, False]\n",
    "})\n",
    "\n",
    "banks = pd.DataFrame({\n",
    "    'country': ['Germany', 'Germany', 'Poland', 'France', 'France'],\n",
    "    'name': ['Deutsche Bank', 'Commerzbank', 'Santander', 'Credit Agricole', 'BNP Paribas']\n",
    "    \n",
    "})"
   ]
  },
  {
   "cell_type": "code",
   "execution_count": null,
   "metadata": {
    "ExecuteTime": {
     "end_time": "2021-03-11T11:54:28.214341Z",
     "start_time": "2021-03-11T11:54:28.202039Z"
    }
   },
   "outputs": [],
   "source": [
    "pd.concat([cities, banks], axis=0)"
   ]
  },
  {
   "cell_type": "code",
   "execution_count": null,
   "metadata": {
    "ExecuteTime": {
     "end_time": "2021-03-11T11:54:29.589876Z",
     "start_time": "2021-03-11T11:54:29.576899Z"
    }
   },
   "outputs": [],
   "source": [
    "pd.concat([cities, banks], axis=1)"
   ]
  },
  {
   "cell_type": "code",
   "execution_count": null,
   "metadata": {
    "ExecuteTime": {
     "end_time": "2021-03-11T11:54:41.367601Z",
     "start_time": "2021-03-11T11:54:41.348748Z"
    }
   },
   "outputs": [],
   "source": [
    "pd.merge(cities, banks)"
   ]
  },
  {
   "cell_type": "code",
   "execution_count": null,
   "metadata": {
    "ExecuteTime": {
     "end_time": "2021-03-11T11:55:21.818218Z",
     "start_time": "2021-03-11T11:55:21.802449Z"
    }
   },
   "outputs": [],
   "source": [
    "banks.columns = ['country_name', 'bank_name']\n",
    "\n",
    "pd.merge(cities, banks)"
   ]
  },
  {
   "cell_type": "code",
   "execution_count": null,
   "metadata": {
    "ExecuteTime": {
     "end_time": "2021-03-11T11:56:03.116676Z",
     "start_time": "2021-03-11T11:56:03.100183Z"
    }
   },
   "outputs": [],
   "source": [
    "pd.merge(cities, banks, left_on='country', right_on='country_name')"
   ]
  },
  {
   "cell_type": "code",
   "execution_count": null,
   "metadata": {
    "ExecuteTime": {
     "end_time": "2021-03-11T12:00:07.528835Z",
     "start_time": "2021-03-11T12:00:07.513433Z"
    }
   },
   "outputs": [],
   "source": [
    "cities.set_index('country', inplace=True)\n",
    "banks.set_index('country_name', inplace=True)\n",
    "\n",
    "pd.merge(cities, banks, left_index=True, right_index=True)"
   ]
  },
  {
   "cell_type": "code",
   "execution_count": null,
   "metadata": {
    "ExecuteTime": {
     "end_time": "2021-03-11T12:00:17.651411Z",
     "start_time": "2021-03-11T12:00:17.639359Z"
    }
   },
   "outputs": [],
   "source": [
    "pd.merge(cities, banks, left_index=True, right_index=True, how='inner')"
   ]
  },
  {
   "cell_type": "code",
   "execution_count": null,
   "metadata": {
    "ExecuteTime": {
     "end_time": "2021-03-11T12:00:20.422163Z",
     "start_time": "2021-03-11T12:00:20.389535Z"
    }
   },
   "outputs": [],
   "source": [
    "pd.merge(cities, banks, left_index=True, right_index=True, how='left')"
   ]
  },
  {
   "cell_type": "code",
   "execution_count": null,
   "metadata": {
    "ExecuteTime": {
     "end_time": "2021-03-11T12:00:26.659976Z",
     "start_time": "2021-03-11T12:00:26.637860Z"
    }
   },
   "outputs": [],
   "source": [
    "pd.merge(cities, banks, left_index=True, right_index=True, how='right')"
   ]
  },
  {
   "cell_type": "code",
   "execution_count": null,
   "metadata": {
    "ExecuteTime": {
     "end_time": "2021-03-11T12:01:00.278210Z",
     "start_time": "2021-03-11T12:01:00.261335Z"
    }
   },
   "outputs": [],
   "source": [
    "pd.merge(cities, banks, left_index=True, right_index=True, how='outer')"
   ]
  },
  {
   "cell_type": "markdown",
   "metadata": {},
   "source": [
    "## Using pipes for data processing\n",
    "\n",
    "The most pythonic way of performing a sequence of operations is to chain operators. However, this may not result in the most readable code. A simple library called `pipe` solves this problem by borrowing the chaining syntax from R.\n",
    "\n",
    "Before observing `pipe` in action, let us first analyze the behavior of traditional `map()` and `filter()` functions."
   ]
  },
  {
   "cell_type": "code",
   "execution_count": null,
   "metadata": {},
   "outputs": [],
   "source": [
    "numbers = list(range(10))\n",
    "\n",
    "even_numbers = list(filter(lambda x: x % 2 == 0, numbers))\n",
    "even_numbers"
   ]
  },
  {
   "cell_type": "code",
   "execution_count": null,
   "metadata": {},
   "outputs": [],
   "source": [
    "squares = list(map(lambda x: x**2, numbers))\n",
    "squares"
   ]
  },
  {
   "cell_type": "code",
   "execution_count": null,
   "metadata": {},
   "outputs": [],
   "source": [
    "def square(x): return x**2\n",
    "def is_even(x): return x % 2 == 0\n",
    "\n",
    "squares_of_even_numbers = list(map(square, filter(is_even, numbers)))\n",
    "squares_of_even_numbers"
   ]
  },
  {
   "cell_type": "markdown",
   "metadata": {},
   "source": [
    "The same functionality can be much easier achieved using pipes."
   ]
  },
  {
   "cell_type": "code",
   "execution_count": null,
   "metadata": {},
   "outputs": [],
   "source": [
    "from pipe import where, select\n",
    "\n",
    "list(numbers \n",
    "     | where(is_even)\n",
    "     | select(square)\n",
    "    )"
   ]
  },
  {
   "cell_type": "markdown",
   "metadata": {},
   "source": [
    "pipe operator `|` simply passes the output of one function as the input to another function. The remaining functions perform the following:\n",
    "- `where`: filter out only those element of the iterable which fulfill the condition\n",
    "- `select`: applies a function to each element of the iterable\n",
    "- `traverse`: recursively unchain a sequence of iterables\n",
    "- `groupby`: groups elements of an iterable \n",
    "- `dedup`: removes duplicates from an iterable"
   ]
  },
  {
   "cell_type": "code",
   "execution_count": null,
   "metadata": {},
   "outputs": [],
   "source": [
    "from pipe import dedup\n",
    "\n",
    "numbers = [1, 2, 3, 4, 5] * 3\n",
    "\n",
    "print(f\"Before deduplication: {numbers}\")\n",
    "print(f\"After deduplication: {list(numbers | dedup)}\")"
   ]
  },
  {
   "cell_type": "code",
   "execution_count": null,
   "metadata": {},
   "outputs": [],
   "source": [
    "from pipe import traverse\n",
    "\n",
    "nested_numbers = [1, 2, 3, [4, 5], [6, 7], 8, [9, 0]]\n",
    "\n",
    "print(f\"Unnested numbers: {list(nested_numbers | traverse)}\")"
   ]
  },
  {
   "cell_type": "code",
   "execution_count": null,
   "metadata": {},
   "outputs": [],
   "source": [
    "from pipe import groupby\n",
    "\n",
    "numbers = list(range(10))\n",
    "\n",
    "even_odd_numbers = list(\n",
    "    numbers \n",
    "    | groupby(lambda x: \"even\" if x % 2 == 0 else \"odd\") \n",
    "    | select(lambda x: {x[0]: list(x[1])})\n",
    "    )\n",
    "    \n",
    "print(f\"Even and odd numbers: {even_odd_numbers}\")"
   ]
  },
  {
   "cell_type": "markdown",
   "metadata": {},
   "source": [
    "## Exercise\n",
    "\n",
    "Using pipes, perform the following queries:\n",
    "\n",
    "1. List unique ages of women who survived the sinking\n",
    "2. Compute the mean age of passengers based on the port of embarkment\n",
    "3. Create a list of titles (Mr., Mrs., etc.) and last names of passengers who died."
   ]
  }
 ],
 "metadata": {
  "kernelspec": {
   "display_name": "Python 3 (ipykernel)",
   "language": "python",
   "name": "python3"
  },
  "language_info": {
   "codemirror_mode": {
    "name": "ipython",
    "version": 3
   },
   "file_extension": ".py",
   "mimetype": "text/x-python",
   "name": "python",
   "nbconvert_exporter": "python",
   "pygments_lexer": "ipython3",
   "version": "3.9.7"
  },
  "toc": {
   "base_numbering": 1,
   "nav_menu": {},
   "number_sections": true,
   "sideBar": true,
   "skip_h1_title": false,
   "title_cell": "Table of Contents",
   "title_sidebar": "Contents",
   "toc_cell": false,
   "toc_position": {},
   "toc_section_display": true,
   "toc_window_display": true
  },
  "varInspector": {
   "cols": {
    "lenName": 16,
    "lenType": 16,
    "lenVar": 40
   },
   "kernels_config": {
    "python": {
     "delete_cmd_postfix": "",
     "delete_cmd_prefix": "del ",
     "library": "var_list.py",
     "varRefreshCmd": "print(var_dic_list())"
    },
    "r": {
     "delete_cmd_postfix": ") ",
     "delete_cmd_prefix": "rm(",
     "library": "var_list.r",
     "varRefreshCmd": "cat(var_dic_list()) "
    }
   },
   "types_to_exclude": [
    "module",
    "function",
    "builtin_function_or_method",
    "instance",
    "_Feature"
   ],
   "window_display": false
  }
 },
 "nbformat": 4,
 "nbformat_minor": 4
}
